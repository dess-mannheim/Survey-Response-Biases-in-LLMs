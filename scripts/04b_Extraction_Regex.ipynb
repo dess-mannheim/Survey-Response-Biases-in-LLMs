{
 "cells": [
  {
   "cell_type": "markdown",
   "metadata": {},
   "source": [
    "# Information Extraction with Regular Expression\n",
    "In this notebook I first create a new dataframe containing all responses of all models of interest. The questionnaire these responses are based on is the selected questionnaire (\"20240924_selected_questionnaire\"). Second, a heuristic using regular expressions to precisely extract the chosen answer option is established. This is one of two approaches of extracting the answer labels and answers from the models responses."
   ]
  },
  {
   "cell_type": "markdown",
   "metadata": {},
   "source": [
    "## Dataset\n",
    "Build the dataset out of the separate model interviews which will be further processed and analyzed."
   ]
  },
  {
   "cell_type": "code",
   "execution_count": 1,
   "metadata": {},
   "outputs": [],
   "source": [
    "# load packages\n",
    "import os\n",
    "import pandas as pd\n",
    "import re\n",
    "import numpy as np\n",
    "import seaborn as sns\n",
    "import scipy as sci\n",
    "import matplotlib.pyplot as plt\n"
   ]
  },
  {
   "cell_type": "code",
   "execution_count": 2,
   "metadata": {},
   "outputs": [],
   "source": [
    "# define the path to the responses from the test interviews\n",
    "interview_path = \"../assets/final_interviews/\"\n",
    "\n",
    "# model names\n",
    "model_names = [\"gemini_1.5\", \"Llama-3.1\", \"Llama-3.3\", \"mistral_7B\", \"Llama-3.2\",\n",
    "               \"Qwen2.5\", \"Phi-3.5\", \"Yi-1.5\"]"
   ]
  },
  {
   "cell_type": "code",
   "execution_count": 3,
   "metadata": {},
   "outputs": [],
   "source": [
    "# define a function for retrieving the responses of interest\n",
    "\n",
    "def find_matching_files(directory, string_list):\n",
    "    matching_files = []\n",
    "    \n",
    "    # Iterate through all files in the specified directory\n",
    "    for filename in os.listdir(directory):\n",
    "        # Check if any part of the filename is in the list of strings\n",
    "        if any(substring in filename for substring in string_list):\n",
    "            matching_files.append(filename)\n",
    "    \n",
    "    return matching_files"
   ]
  },
  {
   "cell_type": "code",
   "execution_count": 4,
   "metadata": {},
   "outputs": [],
   "source": [
    "final_interviews_paths = find_matching_files(interview_path, model_names)"
   ]
  },
  {
   "cell_type": "code",
   "execution_count": 5,
   "metadata": {},
   "outputs": [
    {
     "name": "stdout",
     "output_type": "stream",
     "text": [
      "Successfully appended:  20241211_gemini_1.5_selected_interviews.csv\n",
      "Successfully appended:  20241211_Llama-3.1-8B_selected_interviews.csv\n",
      "Successfully appended:  20241211_Llama-3.2-1B-Instruct_selected_interviews.csv\n",
      "Successfully appended:  20241211_Llama-3.2-3B-Instruct_selected_interviews.csv\n",
      "Successfully appended:  20241211_Llama-3.3-70B-Instruct_selected_interviews.csv\n",
      "Successfully appended:  20241211_Phi-3.5-mini_selected_interviews.csv\n",
      "Successfully appended:  20241211_Qwen2.5-7B-Instruct_selected_interviews.csv\n",
      "Successfully appended:  20241211_Yi-1.5-6B-Chat_selected_interviews.csv\n",
      "Successfully appended:  20241212_mistral_7B_selected_interviews.csv\n"
     ]
    }
   ],
   "source": [
    "# create an empty list to add all interviews and convert to a dataframe afterwards\n",
    "interviews_list = []\n",
    "num_interviews = []\n",
    "\n",
    "for i in final_interviews_paths:\n",
    "    df_interview = pd.read_csv(interview_path+i, sep = \";\")\n",
    "    num_interviews.append(len(df_interview))\n",
    "    interviews_list.append(df_interview)\n",
    "    print(\"Successfully appended: \", i)\n",
    "    \n",
    "# Concatenate them by rows\n",
    "final_interviews = pd.concat(interviews_list, ignore_index=True)"
   ]
  },
  {
   "cell_type": "code",
   "execution_count": 6,
   "metadata": {},
   "outputs": [
    {
     "name": "stdout",
     "output_type": "stream",
     "text": [
      "Number of interviews per model:\n",
      " model_name\n",
      "gemini-1.5-pro                20150\n",
      "Meta-Llama-3.1-8B-Instruct    20150\n",
      "Llama-3.2-1B-Instruct         20150\n",
      "Llama-3.2-3B-Instruct         20150\n",
      "Llama-3.3-70B-Instruct        20150\n",
      "Phi-3.5-mini                  20150\n",
      "Qwen2.5-7B-Instruct           20150\n",
      "Yi-1.5-6B-Chat                20150\n",
      "Mistral-7B-Instruct-v0.3      20150\n",
      "Name: count, dtype: int64\n",
      "------------------------------ \n",
      "Sum of all interviews: 181350\n"
     ]
    }
   ],
   "source": [
    "# check length/number of interviews conducted\n",
    "print(\"Number of interviews per model:\\n\", final_interviews[\"model_name\"].value_counts())\n",
    "\n",
    "# get sum of all interviews conducted\n",
    "print(\"------------------------------ \\nSum of all interviews:\", sum(num_interviews))"
   ]
  },
  {
   "cell_type": "code",
   "execution_count": 7,
   "metadata": {},
   "outputs": [],
   "source": [
    "# save dataframe to csv\n",
    "final_interviews.to_csv(\"../assets/final_interviews/ALL_unprocessed_selected_interviews.csv\", sep=\";\")"
   ]
  },
  {
   "cell_type": "markdown",
   "metadata": {},
   "source": [
    "## Processing\n",
    "This subsection aims at processing the response answers into a standardized and uniform format. This is needed for further analysis."
   ]
  },
  {
   "cell_type": "markdown",
   "metadata": {},
   "source": [
    "### Regular Expression Processing\n",
    "This subsection in processing displays the technique of answer extraction with regular expression.\n",
    "In this process the complete response string is taken and subsequently sliced into positive/negative integers which resemble the label ID as well as the remaining full text which mostly resembles the label phrasing."
   ]
  },
  {
   "cell_type": "code",
   "execution_count": 8,
   "metadata": {},
   "outputs": [],
   "source": [
    "# convert response column cells to type string\n",
    "final_interviews[\"response\"] = final_interviews[\"response\"].astype(str)"
   ]
  },
  {
   "cell_type": "code",
   "execution_count": 9,
   "metadata": {},
   "outputs": [
    {
     "name": "stdout",
     "output_type": "stream",
     "text": [
      "                             Original Response Label           Response String\n",
      "0                    1=Very important              1            Very important\n",
      "1                    1=Very important              1            Very important\n",
      "2                    1=Very important              1            Very important\n",
      "3                    1=Very important              1            Very important\n",
      "4                  1 (Very important)              1          (Very important)\n",
      "...                               ...            ...                       ...\n",
      "161195  1=Not an essential feature \\n              1  Not an essential feature\n",
      "161196  1=Not an essential feature \\n              1  Not an essential feature\n",
      "161197  1=Not an essential feature \\n              1  Not an essential feature\n",
      "161198  1=Not an essential feature \\n              1  Not an essential feature\n",
      "161199  1=Not an essential feature \\n              1  Not an essential feature\n",
      "\n",
      "[161200 rows x 3 columns]\n"
     ]
    }
   ],
   "source": [
    "# Function to process the series\n",
    "def process_series(series):\n",
    "    response_label = []\n",
    "    response_string = []\n",
    "    \n",
    "    for entry in series:\n",
    "        # Extract words first (preserving spaces)\n",
    "        words_only = re.sub(r\"-?\\d+\", \"\", entry).replace(\"=\", \"\").strip()\n",
    "        \n",
    "        # Remove all blankspaces and '=' for integer extraction\n",
    "        cleaned_entry = entry.replace(\" \", \"\").replace(\"=\", \"\")\n",
    "        \n",
    "        # Extract all integers (positive or negative)\n",
    "        numbers = re.findall(r\"-?\\d+\", cleaned_entry)\n",
    "        \n",
    "        if len(numbers) > 1: # exclude answers which have more than one integer in its answer\n",
    "            response_label.append(np.nan)\n",
    "        elif numbers:\n",
    "            response_label.append(\",\".join(numbers))  # Store integers found\n",
    "        else:\n",
    "            response_label.append(np.nan)  # If no integer is found, append NaN\n",
    "            \n",
    "        # Store the words (with spaces preserved)\n",
    "        response_string.append(words_only if words_only else np.nan)\n",
    "    \n",
    "    # Create new DataFrame columns\n",
    "    series_df = pd.DataFrame({\n",
    "        \"Original\": series,\n",
    "        \"Response Label\": response_label,\n",
    "        \"Response String\": response_string\n",
    "    })\n",
    "    \n",
    "    return series_df\n",
    "\n",
    "# Apply the function to the Series\n",
    "processed_df = process_series(final_interviews[\"response\"])\n",
    "\n",
    "# Display the result\n",
    "print(processed_df)"
   ]
  },
  {
   "cell_type": "code",
   "execution_count": 10,
   "metadata": {},
   "outputs": [],
   "source": [
    "final_interviews_processed = pd.concat([final_interviews, processed_df[[\"Response Label\",\"Response String\"]]], axis=1)\n",
    "\n",
    "# final_interviews_processed.rename(columns={\"type\": \"Type\"}, inplace=True)\n",
    "\n",
    "# # Differentiate between bias and non-bias perturbations\n",
    "# bias_answer_columns = [\"list_answer_no_refusal\",\"list_answer_no_middle\",\"list_answer_options_reversed\"]\n",
    "# non_bias_question_columns = [\"question_typo\", \"question_letter_swap\",\"question_synonym\",\"question_paraphrased\"]\n",
    "# all_perturbation_columns = bias_answer_columns + non_bias_question_columns\n",
    "\n",
    "\n",
    "# # define filtering columns for better separation between perturbation domains\n",
    "# final_interviews_processed[\"bias_perturbation\"] = np.where((final_interviews_processed['Type'].isin(bias_answer_columns)) | (final_interviews_processed['Type'] == \"list_answer_options\"), 1, 0)\n",
    "# final_interviews_processed[\"non_bias_perturbation\"] = np.where((final_interviews_processed['Type'] == \"list_answer_options\") | (final_interviews_processed['Type'].isin(non_bias_question_columns)), 1, 0)\n"
   ]
  },
  {
   "cell_type": "code",
   "execution_count": 11,
   "metadata": {},
   "outputs": [],
   "source": [
    "# save dataframe to csv\n",
    "final_interviews_processed.to_csv(\"../assets/final_interviews/ALL_first_regex-processed_selected_interviews.csv\", sep=\";\")"
   ]
  },
  {
   "cell_type": "code",
   "execution_count": 12,
   "metadata": {},
   "outputs": [
    {
     "data": {
      "text/plain": [
       "model_name\n",
       "Mistral-7B-Instruct-v0.3      20150\n",
       "Meta-Llama-3.1-8B-Instruct    20150\n",
       "Gwen2.5-7B-Instruct           20150\n",
       "Phi-3.5-mini                  20150\n",
       "Yi-1.5-6B-Chat                20150\n",
       "Llama-3.2-1B-Instruct         20150\n",
       "Llama-3.2-3B-Instruct         20150\n",
       "gemini-1.5-pro                20150\n",
       "Name: count, dtype: int64"
      ]
     },
     "execution_count": 12,
     "metadata": {},
     "output_type": "execute_result"
    }
   ],
   "source": [
    "final_interviews_processed[\"model_name\"].value_counts()"
   ]
  },
  {
   "cell_type": "code",
   "execution_count": 16,
   "metadata": {},
   "outputs": [],
   "source": [
    "model_success_rate = final_interviews_processed.groupby(\"model_name\")[\"Response Label\"]\n",
    "gemini_success_rate = 1 - len(final_interviews_processed[(final_interviews_processed[\"model_name\"] == \"gemini-1.5-pro\") & (final_interviews_processed[\"Response Label\"].isnull())])/len(final_interviews_processed[final_interviews_processed[\"model_name\"] == \"gemini-1.5-pro\"])\n",
    "llama3_success_rate = 1 - len(final_interviews_processed[(final_interviews_processed[\"model_name\"] == \"Meta-Llama-3.1-8B-Instruct\") & (final_interviews_processed[\"Response Label\"].isnull())])/len(final_interviews_processed[final_interviews_processed[\"model_name\"] == \"Meta-Llama-3.1-8B-Instruct\"])\n",
    "mistral7B_success_rate = 1 - len(final_interviews_processed[(final_interviews_processed[\"model_name\"] == \"Mistral-7B-Instruct-v0.3\") & (final_interviews_processed[\"Response Label\"].isnull())])/len(final_interviews_processed[final_interviews_processed[\"model_name\"] == \"Mistral-7B-Instruct-v0.3\"])\n",
    "phimini_success_rate = 1 - len(final_interviews_processed[(final_interviews_processed[\"model_name\"] == \"Phi-3.5-mini\") & (final_interviews_processed[\"Response Label\"].isnull())])/len(final_interviews_processed[final_interviews_processed[\"model_name\"] == \"Phi-3.5-mini\"])\n",
    "Yi6B_success_rate = 1 - len(final_interviews_processed[(final_interviews_processed[\"model_name\"] == \"Yi-1.5-6B-Chat\") & (final_interviews_processed[\"Response Label\"].isnull())])/len(final_interviews_processed[final_interviews_processed[\"model_name\"] == \"Yi-1.5-6B-Chat\"])\n",
    "gwen7B_success_rate = 1 - len(final_interviews_processed[(final_interviews_processed[\"model_name\"] == \"Gwen2.5-7B-Instruct\") & (final_interviews_processed[\"Response Label\"].isnull())])/len(final_interviews_processed[final_interviews_processed[\"model_name\"] == \"Gwen2.5-7B-Instruct\"])\n",
    "llama1B_success_rate = 1 - len(final_interviews_processed[(final_interviews_processed[\"model_name\"] == \"Llama-3.2-1B-Instruct\") & (final_interviews_processed[\"Response Label\"].isnull())])/len(final_interviews_processed[final_interviews_processed[\"model_name\"] == \"Llama-3.2-1B-Instruct\"])\n",
    "llama3B_success_rate = 1 - len(final_interviews_processed[(final_interviews_processed[\"model_name\"] == \"Llama-3.2-3B-Instruct\") & (final_interviews_processed[\"Response Label\"].isnull())])/len(final_interviews_processed[final_interviews_processed[\"model_name\"] == \"Llama-3.2-3B-Instruct\"])\n",
    "\n",
    "\n",
    "#mixtral8x7B_success_rate = 1 - len(test_interviews_processed[(test_interviews_processed[\"model_name\"] == \"Mixtral-8x7B-Instruct-v0.1\") & (test_interviews_processed[\"Response Label\"].isnull())])/len(test_interviews_processed[test_interviews_processed[\"model_name\"] == \"Mixtral-8x7B-Instruct-v0.1\"])"
   ]
  },
  {
   "cell_type": "code",
   "execution_count": 17,
   "metadata": {},
   "outputs": [
    {
     "data": {
      "image/png": "[encoded data removed]",
      "text/plain": [
       "<Figure size 640x480 with 1 Axes>"
      ]
     },
     "metadata": {},
     "output_type": "display_data"
    }
   ],
   "source": [
    "# Replace these with your four numbers\n",
    "numbers = [mistral7B_success_rate, gemini_success_rate, llama3_success_rate,\n",
    "           llama1B_success_rate, llama3B_success_rate, \n",
    "           phimini_success_rate, Yi6B_success_rate, gwen7B_success_rate]\n",
    "models = [\"Mistral-7B-Instruct-v0.3\",\"Gemini-1.5-flash\", \"Llama-3-8B-Instruct\", \n",
    "          \"Llama-3.2-1B-Instruct\", \"Llama-3.2-3B-Instruct\",\n",
    "          \"Phi-3.5-mini\", \"Yi-1.5-6B-Chat\", \"Qwen2.5-7B-Instruct\"]\n",
    "\n",
    "success_rates = pd.DataFrame({\n",
    "    \"success_rate\" : numbers,\n",
    "    \"model\": models\n",
    "}).sort_values(by=\"success_rate\", ascending=False)\n",
    "\n",
    "# Calculate the mean\n",
    "mean_value = round((1-sum(final_interviews_processed[\"Response Label\"].isnull())/len(final_interviews_processed)), 2)\n",
    "\n",
    "\n",
    "# Create a bar plot using Seaborn\n",
    "sns.set_theme(style=\"darkgrid\", palette=\"pastel\")\n",
    "sns.barplot(y=success_rates[\"model\"], x=success_rates[\"success_rate\"])\n",
    "\n",
    "# Add labels with rounded numbers\n",
    "for i,k in enumerate(success_rates[\"success_rate\"]):\n",
    "    plt.text(0.5, i, f\"{round(k, 3)}\", ha=\"center\")\n",
    "\n",
    "plt.text(mean_value-0.04, 8, f\"{round(mean_value, 3)}\", color=\"orange\")\n",
    "# Add a horizontal line at the mean\n",
    "plt.axvline(x=mean_value, color='orange', linestyle='-', label=f'Mean: {mean_value:.2f}')\n",
    "\n",
    "# Rotate x labels\n",
    "plt.xticks(rotation=45)\n",
    "# Customize the plot (optional)\n",
    "plt.xlabel(\"Models\")\n",
    "plt.ylabel(\"Success Rate\")\n",
    "plt.title(\"Success Rates by Model\")\n",
    "\n",
    "# Show the plot\n",
    "plt.show()"
   ]
  },
  {
   "cell_type": "markdown",
   "metadata": {},
   "source": [
    "### 2. Approach: Conditional Extraction\n",
    "This extraction methods respects multiple conditions when extracting the correct label from the model response. First, all possible answer options are taken into account for each response and compared. Thus, if a response does not contain any answer option available, it will be classified as \"None\". Second, it is checked how many answer options are available or given in one response. If there are more than one answer options, this response is also classified as \"None\" and thus unsuccessful. Third, if only one answer option is present in the response and it is matching one of the prior available answer options, the model should choose from, the corresponding integer is extracted. "
   ]
  },
  {
   "cell_type": "code",
   "execution_count": 8,
   "metadata": {},
   "outputs": [
    {
     "name": "stdout",
     "output_type": "stream",
     "text": [
      "                             answer_options  \\\n",
      "0  -1=Don't know, 1=Agree, 2=Disagree, 5, 6   \n",
      "1  -1=Don't know, 1=Agree, 2=Disagree, 5, 6   \n",
      "2  -1=Don't know, 1=Agree, 2=Disagree, 5, 6   \n",
      "3  -1=Don't know, 1=Agree, 2=Disagree, 5, 6   \n",
      "4  -1=Don't know, 1=Agree, 2=Disagree, 5, 6   \n",
      "\n",
      "                               response  extracted_response  \\\n",
      "0                         -1=Don't know                -1.0   \n",
      "1                15 and -5 are possible                 NaN   \n",
      "2  -1No response here, but also 1=Agree                 NaN   \n",
      "3                                 Agree                 1.0   \n",
      "4                                     5                 5.0   \n",
      "\n",
      "                                         answer_dict  \n",
      "0  {-1: 'Don't know', 1: 'Agree', 2: 'Disagree', ...  \n",
      "1  {-1: 'Don't know', 1: 'Agree', 2: 'Disagree', ...  \n",
      "2  {-1: 'Don't know', 1: 'Agree', 2: 'Disagree', ...  \n",
      "3  {-1: 'Don't know', 1: 'Agree', 2: 'Disagree', ...  \n",
      "4  {-1: 'Don't know', 1: 'Agree', 2: 'Disagree', ...  \n"
     ]
    }
   ],
   "source": [
    "import pandas as pd\n",
    "import re\n",
    "\n",
    "# Sample DataFrame\n",
    "data = {\n",
    "    'answer_options': [\"-1=Don't know, 1=Agree, 2=Disagree, 5, 6\"]*5,\n",
    "    'response': [\"-1=Don't know\", # expected output: -1\n",
    "                 '15 and -5 are possible', # expected output: None, because two answers\n",
    "                 '-1No response here, but also 1=Agree', # expected output: None, because two answers\n",
    "                 'Agree', # expected output: 1\n",
    "                 \"5\"] # expected output: 5\n",
    "}\n",
    "df = pd.DataFrame(data)\n",
    "\n",
    "def process_row(row):\n",
    "    row[\"response\"] = str(row[\"response\"])\n",
    "    # Step 1: Create the dictionary by extracting integers and associated text from \"answer_options\"\n",
    "    answer_dict = {}\n",
    "    for match in re.finditer(r'(-?\\d+)(?:=([^,]+))?', row['answer_options']):\n",
    "        integer = int(match.group(1))   # Key: integer before the '='\n",
    "        text = match.group(2).strip() if match.group(2) else None  # Value: text after the '=', or None if not present\n",
    "        answer_dict[integer] = text\n",
    "\n",
    "\n",
    "    # Step 2: Extract all integers from \"answer_options\" for comparison \n",
    "    answer_integers = list(answer_dict.keys())\n",
    "\n",
    "    # Step 3: Extract integers from \"response\"\n",
    "    response_integers = list(map(int, re.findall(r'-?\\d+', row['response'])))\n",
    "    \n",
    "    # Step 4: Apply conditions\n",
    "    extracted_response = None\n",
    "    if len(response_integers) == 1 and response_integers[0] in answer_integers:\n",
    "        # Condition 6: Single matching integer in response\n",
    "        extracted_response = response_integers[0]\n",
    "    elif len(response_integers) != 1:\n",
    "        # Condition 3 and 4: No integer or multiple integers in response\n",
    "        # Check for text-based match if there are no integers in \"response\"\n",
    "        if len(response_integers) == 0:\n",
    "            for key, value in answer_dict.items():\n",
    "                if value is not None and value in row['response']:  # Skip None values\n",
    "                    extracted_response = key\n",
    "                    break\n",
    "    return pd.Series([extracted_response, answer_dict])\n",
    "\n",
    "# Apply the function to each row in the DataFrame and expand results into new columns\n",
    "df[['extracted_response', 'answer_dict']] = df.apply(process_row, axis=1)\n",
    "\n",
    "print(df)"
   ]
  },
  {
   "cell_type": "code",
   "execution_count": 9,
   "metadata": {},
   "outputs": [],
   "source": [
    "# test code on subset of interviews\n",
    "#final_interviews[['extracted_response', 'answer_dict']]  = final_interviews.iloc[161150:161200].apply(process_row, axis=1)\n",
    "\n",
    "# This code snippet is applying the function `process_row` to each row in the `final_interviews` DataFrame at index position 161199. It then assigns the returned values from the function to the columns 'extracted_response' and 'answer_dict' in the same row.\n",
    "final_interviews[['extracted_response', 'answer_dict']] = final_interviews.apply(process_row, axis=1)"
   ]
  },
  {
   "cell_type": "code",
   "execution_count": 10,
   "metadata": {},
   "outputs": [],
   "source": [
    "# save dataframe to csv\n",
    "final_interviews.to_csv(\"../assets/final_interviews/ALL_regex_complete-processed_selected_interviews.csv\", sep=\";\")"
   ]
  }
 ],
 "metadata": {
  "kernelspec": {
   "display_name": "hubila",
   "language": "python",
   "name": "python3"
  },
  "language_info": {
   "codemirror_mode": {
    "name": "ipython",
    "version": 3
   },
   "file_extension": ".py",
   "mimetype": "text/x-python",
   "name": "python",
   "nbconvert_exporter": "python",
   "pygments_lexer": "ipython3",
   "version": "3.11.5"
  }
 },
 "nbformat": 4,
 "nbformat_minor": 4
}
