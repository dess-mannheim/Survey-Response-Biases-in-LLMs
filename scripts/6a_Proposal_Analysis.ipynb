{
 "cells": [
  {
   "cell_type": "markdown",
   "metadata": {},
   "source": [
    "# Proposal Analysis\n",
    "This step completes the prior steps undertaken in analyzing the generated and processed model responses in differing perturbation settings."
   ]
  },
  {
   "cell_type": "markdown",
   "metadata": {},
   "source": [
    "## Gemini Analysis"
   ]
  },
  {
   "cell_type": "code",
   "execution_count": null,
   "metadata": {},
   "outputs": [],
   "source": [
    "import pandas as pd \n",
    "import matplotlib as plt\n",
    "import seaborn as sns\n",
    "import numpy as np\n",
    "import scipy as sci\n",
    "\n",
    "# load preprocessed test interviews\n",
    "test_interviews_processed = pd.read_csv(\"../assets/test_interviews/test_interviews_processed.csv\", sep=\";\")"
   ]
  },
  {
   "cell_type": "code",
   "execution_count": null,
   "metadata": {},
   "outputs": [
    {
     "name": "stdout",
     "output_type": "stream",
     "text": [
      "Length of test dataframe before cleaning NULL:  2278\n",
      "Length of test dataframe after cleaning NULL:  2233\n"
     ]
    }
   ],
   "source": [
    "# Gemini Test Interviews\n",
    "test_interviews_gemini = test_interviews_processed[test_interviews_processed[\"model_name\"] == \"gemini-1.5-flash-latest\"] \n",
    "\n",
    "# Every unsuccessful interview is excluded, tested by two len()-comparisons\n",
    "print(\"Length of test dataframe before cleaning NULL: \", len(test_interviews_gemini))\n",
    "test_interviews_gemini= test_interviews_gemini[test_interviews_gemini[\"Response Label\"].notnull()]\n",
    "print(\"Length of test dataframe after cleaning NULL: \", len(test_interviews_gemini))\n",
    "\n",
    "# convert response_label column to integers\n",
    "test_interviews_gemini[\"Response Label\"] = test_interviews_gemini[\"Response Label\"].astype(int)"
   ]
  },
  {
   "cell_type": "code",
   "execution_count": null,
   "metadata": {},
   "outputs": [],
   "source": [
    "all_perturbation_columns = test_interviews_processed[\"Type\"].unique()"
   ]
  },
  {
   "cell_type": "markdown",
   "metadata": {},
   "source": [
    "### Q142: Worry loosing my job or finding new job\n",
    "\n",
    "Question: Worries: Losing my job or not finding a job To what degree are you worried about the following situations? Losing my job or not finding a job\n",
    "\n",
    "Answer options: ['1=Very much ', '2=A good deal ', '3=Not much ', '4=Not at all', \"-1=Don't know\"]"
   ]
  },
  {
   "cell_type": "code",
   "execution_count": null,
   "metadata": {},
   "outputs": [
    {
     "name": "stdout",
     "output_type": "stream",
     "text": [
      "Response Label         -1         2         3\n",
      "Type                                         \n",
      "list_answer_options   0.0  0.000000  1.000000\n",
      "question_letter_swap  0.0  0.142857  0.857143\n",
      "question_paraphrased  1.0  0.000000  0.000000\n",
      "question_synonym      0.0  0.000000  1.000000\n",
      "question_typo         0.0  0.000000  1.000000\n"
     ]
    }
   ],
   "source": [
    "# Frequency table for non-bias perturbations\n",
    "\n",
    "# Group by 'Type' and 'response_label', then count the occurrences\n",
    "freq_table = test_interviews_gemini[(test_interviews_gemini[\"question_ID\"]== \"Q142\") & (test_interviews_gemini[\"non_bias_perturbation\"]== 1)].groupby(['Type', 'Response Label']).size().unstack(fill_value=0)\n",
    "\n",
    "# Convert absolute frequencies to relative frequencies by normalizing\n",
    "relative_freq_table = freq_table.div(freq_table.sum(axis=1), axis=0)\n",
    "\n",
    "# Display the relative frequency table\n",
    "print(relative_freq_table)"
   ]
  },
  {
   "cell_type": "code",
   "execution_count": null,
   "metadata": {},
   "outputs": [
    {
     "name": "stdout",
     "output_type": "stream",
     "text": [
      "Response Label                       1         2    3\n",
      "Type                                                 \n",
      "list_answer_no_middle         0.000000  0.000000  1.0\n",
      "list_answer_no_refusal        0.000000  0.000000  1.0\n",
      "list_answer_options           0.000000  0.000000  1.0\n",
      "list_answer_options_reversed  0.035714  0.964286  0.0\n"
     ]
    }
   ],
   "source": [
    "# Frequency table for bias perturbations\n",
    "\n",
    "# Group by 'Type' and 'response_label', then count the occurrences\n",
    "freq_table = test_interviews_gemini[(test_interviews_gemini[\"question_ID\"]== \"Q142\") & (test_interviews_gemini[\"bias_perturbation\"]== 1)].groupby(['Type', 'Response Label']).size().unstack(fill_value=0)\n",
    "\n",
    "# Convert absolute frequencies to relative frequencies by normalizing\n",
    "relative_freq_table = freq_table.div(freq_table.sum(axis=1), axis=0)\n",
    "\n",
    "# Display the relative frequency table\n",
    "print(relative_freq_table)"
   ]
  },
  {
   "cell_type": "markdown",
   "metadata": {},
   "source": [
    "#### Wilcoxon-Mann-Whitney test\n",
    "The Wilcoxon-Mann-Whitney test is a non-parametric analog to the independent samples t-test and can be used when you do not assume that the dependent variable is a normally distributed interval variable (you only assume that the variable is at least ordinal)"
   ]
  },
  {
   "cell_type": "code",
   "execution_count": null,
   "metadata": {},
   "outputs": [
    {
     "data": {
      "text/html": [
       "<div>\n",
       "<style scoped>\n",
       "    .dataframe tbody tr th:only-of-type {\n",
       "        vertical-align: middle;\n",
       "    }\n",
       "\n",
       "    .dataframe tbody tr th {\n",
       "        vertical-align: top;\n",
       "    }\n",
       "\n",
       "    .dataframe thead th {\n",
       "        text-align: right;\n",
       "    }\n",
       "</style>\n",
       "<table border=\"1\" class=\"dataframe\">\n",
       "  <thead>\n",
       "    <tr style=\"text-align: right;\">\n",
       "      <th></th>\n",
       "      <th>Original tested against</th>\n",
       "      <th>Test Statistic</th>\n",
       "      <th>p-value</th>\n",
       "    </tr>\n",
       "  </thead>\n",
       "  <tbody>\n",
       "    <tr>\n",
       "      <th>0</th>\n",
       "      <td>list_answer_no_refusal</td>\n",
       "      <td>392.0</td>\n",
       "      <td>1.0000</td>\n",
       "    </tr>\n",
       "    <tr>\n",
       "      <th>1</th>\n",
       "      <td>list_answer_no_middle</td>\n",
       "      <td>392.0</td>\n",
       "      <td>1.0000</td>\n",
       "    </tr>\n",
       "    <tr>\n",
       "      <th>2</th>\n",
       "      <td>list_answer_options_reversed</td>\n",
       "      <td>784.0</td>\n",
       "      <td>0.0000</td>\n",
       "    </tr>\n",
       "    <tr>\n",
       "      <th>3</th>\n",
       "      <td>list_answer_options</td>\n",
       "      <td>392.0</td>\n",
       "      <td>1.0000</td>\n",
       "    </tr>\n",
       "    <tr>\n",
       "      <th>4</th>\n",
       "      <td>question_typo</td>\n",
       "      <td>392.0</td>\n",
       "      <td>1.0000</td>\n",
       "    </tr>\n",
       "    <tr>\n",
       "      <th>5</th>\n",
       "      <td>question_letter_swap</td>\n",
       "      <td>448.0</td>\n",
       "      <td>0.0415</td>\n",
       "    </tr>\n",
       "    <tr>\n",
       "      <th>6</th>\n",
       "      <td>question_synonym</td>\n",
       "      <td>392.0</td>\n",
       "      <td>1.0000</td>\n",
       "    </tr>\n",
       "    <tr>\n",
       "      <th>7</th>\n",
       "      <td>question_paraphrased</td>\n",
       "      <td>784.0</td>\n",
       "      <td>0.0000</td>\n",
       "    </tr>\n",
       "  </tbody>\n",
       "</table>\n",
       "</div>"
      ],
      "text/plain": [
       "        Original tested against  Test Statistic  p-value\n",
       "0        list_answer_no_refusal           392.0   1.0000\n",
       "1         list_answer_no_middle           392.0   1.0000\n",
       "2  list_answer_options_reversed           784.0   0.0000\n",
       "3           list_answer_options           392.0   1.0000\n",
       "4                 question_typo           392.0   1.0000\n",
       "5          question_letter_swap           448.0   0.0415\n",
       "6              question_synonym           392.0   1.0000\n",
       "7          question_paraphrased           784.0   0.0000"
      ]
     },
     "metadata": {},
     "output_type": "display_data"
    }
   ],
   "source": [
    "baseline = test_interviews_gemini[(test_interviews_gemini[\"question_ID\"]== \"Q142\") & (test_interviews_gemini[\"Type\"]== \"list_answer_options\")][\"Response Label\"].array\n",
    "\n",
    "test_results = []\n",
    "\n",
    "for i in all_perturbation_columns:\n",
    "    test_against = test_interviews_gemini[(test_interviews_gemini[\"question_ID\"]== \"Q142\") & (test_interviews_gemini[\"Type\"]== i)][\"Response Label\"].array\n",
    "    test_statistic = sci.stats.mannwhitneyu(baseline, test_against)[0]\n",
    "    pval = round(sci.stats.mannwhitneyu(baseline, test_against)[1],4)\n",
    "    test_result = [i, test_statistic, pval]\n",
    "    test_results.append(test_result)\n",
    "\n",
    "column_names = [\"Original tested against\", \"Test Statistic\", \"p-value\"]\n",
    "test_results = pd.DataFrame(test_results, columns=column_names)\n",
    "test_results"
   ]
  },
  {
   "cell_type": "markdown",
   "metadata": {},
   "source": [
    "#### t-test\n",
    "\n",
    "This is a test for the null hypothesis that 2 independent samples have identical average (expected) values. This test assumes that the populations have identical variances by default."
   ]
  },
  {
   "cell_type": "code",
   "execution_count": null,
   "metadata": {},
   "outputs": [
    {
     "name": "stderr",
     "output_type": "stream",
     "text": [
      "c:\\Users\\ruppr\\OneDrive - Universität Mannheim\\Master thesis\\HuBiLa\\hubila\\Lib\\site-packages\\scipy\\stats\\_axis_nan_policy.py:573: RuntimeWarning:\n",
      "\n",
      "Precision loss occurred in moment calculation due to catastrophic cancellation. This occurs when the data are nearly identical. Results may be unreliable.\n",
      "\n"
     ]
    },
    {
     "data": {
      "text/html": [
       "<div>\n",
       "<style scoped>\n",
       "    .dataframe tbody tr th:only-of-type {\n",
       "        vertical-align: middle;\n",
       "    }\n",
       "\n",
       "    .dataframe tbody tr th {\n",
       "        vertical-align: top;\n",
       "    }\n",
       "\n",
       "    .dataframe thead th {\n",
       "        text-align: right;\n",
       "    }\n",
       "</style>\n",
       "<table border=\"1\" class=\"dataframe\">\n",
       "  <thead>\n",
       "    <tr style=\"text-align: right;\">\n",
       "      <th></th>\n",
       "      <th>Original tested against</th>\n",
       "      <th>Test Statistic</th>\n",
       "      <th>p-value</th>\n",
       "    </tr>\n",
       "  </thead>\n",
       "  <tbody>\n",
       "    <tr>\n",
       "      <th>0</th>\n",
       "      <td>list_answer_no_refusal</td>\n",
       "      <td>NaN</td>\n",
       "      <td>NaN</td>\n",
       "    </tr>\n",
       "    <tr>\n",
       "      <th>1</th>\n",
       "      <td>list_answer_no_middle</td>\n",
       "      <td>NaN</td>\n",
       "      <td>NaN</td>\n",
       "    </tr>\n",
       "    <tr>\n",
       "      <th>2</th>\n",
       "      <td>list_answer_options_reversed</td>\n",
       "      <td>29.00000</td>\n",
       "      <td>0.0000</td>\n",
       "    </tr>\n",
       "    <tr>\n",
       "      <th>3</th>\n",
       "      <td>list_answer_options</td>\n",
       "      <td>NaN</td>\n",
       "      <td>NaN</td>\n",
       "    </tr>\n",
       "    <tr>\n",
       "      <th>4</th>\n",
       "      <td>question_typo</td>\n",
       "      <td>NaN</td>\n",
       "      <td>NaN</td>\n",
       "    </tr>\n",
       "    <tr>\n",
       "      <th>5</th>\n",
       "      <td>question_letter_swap</td>\n",
       "      <td>2.12132</td>\n",
       "      <td>0.0385</td>\n",
       "    </tr>\n",
       "    <tr>\n",
       "      <th>6</th>\n",
       "      <td>question_synonym</td>\n",
       "      <td>NaN</td>\n",
       "      <td>NaN</td>\n",
       "    </tr>\n",
       "    <tr>\n",
       "      <th>7</th>\n",
       "      <td>question_paraphrased</td>\n",
       "      <td>inf</td>\n",
       "      <td>0.0000</td>\n",
       "    </tr>\n",
       "  </tbody>\n",
       "</table>\n",
       "</div>"
      ],
      "text/plain": [
       "        Original tested against  Test Statistic  p-value\n",
       "0        list_answer_no_refusal             NaN      NaN\n",
       "1         list_answer_no_middle             NaN      NaN\n",
       "2  list_answer_options_reversed        29.00000   0.0000\n",
       "3           list_answer_options             NaN      NaN\n",
       "4                 question_typo             NaN      NaN\n",
       "5          question_letter_swap         2.12132   0.0385\n",
       "6              question_synonym             NaN      NaN\n",
       "7          question_paraphrased             inf   0.0000"
      ]
     },
     "metadata": {},
     "output_type": "display_data"
    }
   ],
   "source": [
    "baseline = test_interviews_gemini[(test_interviews_gemini[\"question_ID\"]== \"Q142\") & (test_interviews_gemini[\"Type\"]== \"list_answer_options\")][\"Response Label\"].array\n",
    "\n",
    "test_results = []\n",
    "\n",
    "for i in all_perturbation_columns:\n",
    "    test_against = test_interviews_gemini[(test_interviews_gemini[\"question_ID\"]== \"Q142\") & (test_interviews_gemini[\"Type\"]== i)][\"Response Label\"].array\n",
    "    test_statistic = sci.stats.ttest_ind(baseline, test_against)[0]\n",
    "    pval = round(sci.stats.ttest_ind(baseline, test_against)[1],4)\n",
    "    test_result = [i, test_statistic, pval]\n",
    "    test_results.append(test_result)\n",
    "\n",
    "column_names = [\"Original tested against\", \"Test Statistic\", \"p-value\"]\n",
    "test_results = pd.DataFrame(test_results, columns=column_names)\n",
    "test_results"
   ]
  },
  {
   "cell_type": "markdown",
   "metadata": {},
   "source": [
    "#### Chi squared - test \n",
    "\n",
    "Pearson’s Chi-Square is a statistical hypothesis test for independence between categorical variables."
   ]
  },
  {
   "cell_type": "code",
   "execution_count": null,
   "metadata": {},
   "outputs": [
    {
     "data": {
      "text/html": [
       "<div>\n",
       "<style scoped>\n",
       "    .dataframe tbody tr th:only-of-type {\n",
       "        vertical-align: middle;\n",
       "    }\n",
       "\n",
       "    .dataframe tbody tr th {\n",
       "        vertical-align: top;\n",
       "    }\n",
       "\n",
       "    .dataframe thead th {\n",
       "        text-align: right;\n",
       "    }\n",
       "</style>\n",
       "<table border=\"1\" class=\"dataframe\">\n",
       "  <thead>\n",
       "    <tr style=\"text-align: right;\">\n",
       "      <th></th>\n",
       "      <th>Original tested against</th>\n",
       "      <th>Test Statistic</th>\n",
       "      <th>p-value</th>\n",
       "    </tr>\n",
       "  </thead>\n",
       "  <tbody>\n",
       "    <tr>\n",
       "      <th>0</th>\n",
       "      <td>list_answer_no_refusal</td>\n",
       "      <td>0.000000</td>\n",
       "      <td>1.0</td>\n",
       "    </tr>\n",
       "    <tr>\n",
       "      <th>1</th>\n",
       "      <td>list_answer_no_middle</td>\n",
       "      <td>0.000000</td>\n",
       "      <td>1.0</td>\n",
       "    </tr>\n",
       "    <tr>\n",
       "      <th>2</th>\n",
       "      <td>list_answer_options_reversed</td>\n",
       "      <td>NaN</td>\n",
       "      <td>NaN</td>\n",
       "    </tr>\n",
       "    <tr>\n",
       "      <th>3</th>\n",
       "      <td>list_answer_options</td>\n",
       "      <td>0.000000</td>\n",
       "      <td>1.0</td>\n",
       "    </tr>\n",
       "    <tr>\n",
       "      <th>4</th>\n",
       "      <td>question_typo</td>\n",
       "      <td>0.000000</td>\n",
       "      <td>1.0</td>\n",
       "    </tr>\n",
       "    <tr>\n",
       "      <th>5</th>\n",
       "      <td>question_letter_swap</td>\n",
       "      <td>NaN</td>\n",
       "      <td>NaN</td>\n",
       "    </tr>\n",
       "    <tr>\n",
       "      <th>6</th>\n",
       "      <td>question_synonym</td>\n",
       "      <td>0.000000</td>\n",
       "      <td>1.0</td>\n",
       "    </tr>\n",
       "    <tr>\n",
       "      <th>7</th>\n",
       "      <td>question_paraphrased</td>\n",
       "      <td>149.333333</td>\n",
       "      <td>0.0</td>\n",
       "    </tr>\n",
       "  </tbody>\n",
       "</table>\n",
       "</div>"
      ],
      "text/plain": [
       "        Original tested against  Test Statistic  p-value\n",
       "0        list_answer_no_refusal        0.000000      1.0\n",
       "1         list_answer_no_middle        0.000000      1.0\n",
       "2  list_answer_options_reversed             NaN      NaN\n",
       "3           list_answer_options        0.000000      1.0\n",
       "4                 question_typo        0.000000      1.0\n",
       "5          question_letter_swap             NaN      NaN\n",
       "6              question_synonym        0.000000      1.0\n",
       "7          question_paraphrased      149.333333      0.0"
      ]
     },
     "metadata": {},
     "output_type": "display_data"
    }
   ],
   "source": [
    "baseline = test_interviews_gemini[(test_interviews_gemini[\"question_ID\"]== \"Q142\") & (test_interviews_gemini[\"Type\"]== \"list_answer_options\")][\"Response Label\"].array\n",
    "\n",
    "test_results = []\n",
    "\n",
    "for i in all_perturbation_columns:\n",
    "    test_against = test_interviews_gemini[(test_interviews_gemini[\"question_ID\"]== \"Q142\") & (test_interviews_gemini[\"Type\"]== i)][\"Response Label\"].array\n",
    "    try:\n",
    "        test_statistic = sci.stats.chisquare(f_exp=baseline, f_obs=test_against)[0]\n",
    "        pval = round(sci.stats.chisquare(f_exp=baseline, f_obs=test_against)[1],4)\n",
    "    except: \n",
    "        test_statistic = np.nan\n",
    "        pval = np.nan\n",
    "    test_result = [i, test_statistic, pval]\n",
    "    test_results.append(test_result)\n",
    "\n",
    "column_names = [\"Original tested against\", \"Test Statistic\", \"p-value\"]\n",
    "test_results = pd.DataFrame(test_results, columns=column_names)\n",
    "test_results"
   ]
  },
  {
   "cell_type": "markdown",
   "metadata": {},
   "source": [
    "### Q242: Religious authorities interpreting laws\n",
    "\n",
    "Question: Democracy: Religious authorities interpret the laws Please tell me for each of the following things how essential you think it is as a characteristic of democracy. Use this scale where a meansnot at all an essential characteristic of democracyand of means it definitely isan essential characteristic of democracy. Religious authorities interpret the laws\n",
    "\n",
    "Answer options: ['1=Not an essential feature ', '2 ', '3 ', '4 ', '5 ', '6 ', '7 ', '8 ', '9 ', '10=Essential feature', \"-1=Don't know\"]"
   ]
  },
  {
   "cell_type": "code",
   "execution_count": null,
   "metadata": {},
   "outputs": [
    {
     "name": "stdout",
     "output_type": "stream",
     "text": [
      "Response Label          1\n",
      "Type                     \n",
      "list_answer_options   1.0\n",
      "question_letter_swap  1.0\n",
      "question_paraphrased  1.0\n",
      "question_synonym      1.0\n",
      "question_typo         1.0\n"
     ]
    }
   ],
   "source": [
    "# Frequency table for non-bias perturbations\n",
    "\n",
    "# Group by 'Type' and 'extracted_response', then count the occurrences\n",
    "freq_table = test_interviews_gemini[(test_interviews_gemini[\"question_ID\"]== \"Q242\") & (test_interviews_gemini[\"non_bias_perturbation\"]== 1)].groupby(['Type', 'extracted_response']).size().unstack(fill_value=0)\n",
    "\n",
    "# Convert absolute frequencies to relative frequencies by normalizing\n",
    "relative_freq_table = freq_table.div(freq_table.sum(axis=1), axis=0)\n",
    "\n",
    "# Display the relative frequency table\n",
    "print(relative_freq_table)"
   ]
  },
  {
   "cell_type": "code",
   "execution_count": null,
   "metadata": {},
   "outputs": [
    {
     "name": "stdout",
     "output_type": "stream",
     "text": [
      "Response Label                  1\n",
      "Type                             \n",
      "list_answer_no_middle         1.0\n",
      "list_answer_no_refusal        1.0\n",
      "list_answer_options           1.0\n",
      "list_answer_options_reversed  1.0\n"
     ]
    }
   ],
   "source": [
    "# Frequency table for bias perturbations\n",
    "\n",
    "# Group by 'Type' and 'Response Label', then count the occurrences\n",
    "freq_table = test_interviews_gemini[(test_interviews_gemini[\"question_ID\"]== \"Q242\") & (test_interviews_gemini[\"bias_perturbation\"]== 1)].groupby(['Type', 'Response Label']).size().unstack(fill_value=0)\n",
    "\n",
    "# Convert absolute frequencies to relative frequencies by normalizing\n",
    "relative_freq_table = freq_table.div(freq_table.sum(axis=1), axis=0)\n",
    "\n",
    "# Display the relative frequency table\n",
    "print(relative_freq_table)"
   ]
  },
  {
   "cell_type": "markdown",
   "metadata": {},
   "source": [
    "#### Wilcoxon-Mann-Whitney test\n",
    "The Wilcoxon-Mann-Whitney test is a non-parametric analog to the independent samples t-test and can be used when you do not assume that the dependent variable is a normally distributed interval variable (you only assume that the variable is at least ordinal)"
   ]
  },
  {
   "cell_type": "code",
   "execution_count": null,
   "metadata": {},
   "outputs": [
    {
     "data": {
      "text/html": [
       "<div>\n",
       "<style scoped>\n",
       "    .dataframe tbody tr th:only-of-type {\n",
       "        vertical-align: middle;\n",
       "    }\n",
       "\n",
       "    .dataframe tbody tr th {\n",
       "        vertical-align: top;\n",
       "    }\n",
       "\n",
       "    .dataframe thead th {\n",
       "        text-align: right;\n",
       "    }\n",
       "</style>\n",
       "<table border=\"1\" class=\"dataframe\">\n",
       "  <thead>\n",
       "    <tr style=\"text-align: right;\">\n",
       "      <th></th>\n",
       "      <th>Original tested against</th>\n",
       "      <th>Test Statistic</th>\n",
       "      <th>p-value</th>\n",
       "    </tr>\n",
       "  </thead>\n",
       "  <tbody>\n",
       "    <tr>\n",
       "      <th>0</th>\n",
       "      <td>list_answer_no_refusal</td>\n",
       "      <td>392.0</td>\n",
       "      <td>1.0</td>\n",
       "    </tr>\n",
       "    <tr>\n",
       "      <th>1</th>\n",
       "      <td>list_answer_no_middle</td>\n",
       "      <td>392.0</td>\n",
       "      <td>1.0</td>\n",
       "    </tr>\n",
       "    <tr>\n",
       "      <th>2</th>\n",
       "      <td>list_answer_options_reversed</td>\n",
       "      <td>392.0</td>\n",
       "      <td>1.0</td>\n",
       "    </tr>\n",
       "    <tr>\n",
       "      <th>3</th>\n",
       "      <td>question_typo</td>\n",
       "      <td>392.0</td>\n",
       "      <td>1.0</td>\n",
       "    </tr>\n",
       "    <tr>\n",
       "      <th>4</th>\n",
       "      <td>question_letter_swap</td>\n",
       "      <td>392.0</td>\n",
       "      <td>1.0</td>\n",
       "    </tr>\n",
       "    <tr>\n",
       "      <th>5</th>\n",
       "      <td>question_synonym</td>\n",
       "      <td>392.0</td>\n",
       "      <td>1.0</td>\n",
       "    </tr>\n",
       "    <tr>\n",
       "      <th>6</th>\n",
       "      <td>question_paraphrased</td>\n",
       "      <td>392.0</td>\n",
       "      <td>1.0</td>\n",
       "    </tr>\n",
       "  </tbody>\n",
       "</table>\n",
       "</div>"
      ],
      "text/plain": [
       "        Original tested against  Test Statistic  p-value\n",
       "0        list_answer_no_refusal           392.0      1.0\n",
       "1         list_answer_no_middle           392.0      1.0\n",
       "2  list_answer_options_reversed           392.0      1.0\n",
       "3                 question_typo           392.0      1.0\n",
       "4          question_letter_swap           392.0      1.0\n",
       "5              question_synonym           392.0      1.0\n",
       "6          question_paraphrased           392.0      1.0"
      ]
     },
     "metadata": {},
     "output_type": "display_data"
    }
   ],
   "source": [
    "baseline = test_interviews_gemini[(test_interviews_gemini[\"question_ID\"]== \"Q242\") & (test_interviews_gemini[\"Type\"]== \"list_answer_options\")][\"Response Label\"].array\n",
    "\n",
    "test_results = []\n",
    "\n",
    "for i in all_perturbation_columns:\n",
    "    test_against = test_interviews_gemini[(test_interviews_gemini[\"question_ID\"]== \"Q242\") & (test_interviews_gemini[\"Type\"]== i)][\"Response Label\"].array\n",
    "    test_statistic = sci.stats.mannwhitneyu(baseline, test_against)[0]\n",
    "    pval = round(sci.stats.mannwhitneyu(baseline, test_against)[1],4)\n",
    "    test_result = [i, test_statistic, pval]\n",
    "    test_results.append(test_result)\n",
    "\n",
    "column_names = [\"Original tested against\", \"Test Statistic\", \"p-value\"]\n",
    "test_results = pd.DataFrame(test_results, columns=column_names)\n",
    "test_results"
   ]
  },
  {
   "cell_type": "markdown",
   "metadata": {},
   "source": [
    "#### t-test\n",
    "\n",
    "This is a test for the null hypothesis that 2 independent samples have identical average (expected) values. This test assumes that the populations have identical variances by default."
   ]
  },
  {
   "cell_type": "code",
   "execution_count": null,
   "metadata": {},
   "outputs": [
    {
     "name": "stderr",
     "output_type": "stream",
     "text": [
      "c:\\Users\\ruppr\\OneDrive - Universität Mannheim\\Master thesis\\HuBiLa\\hubila\\Lib\\site-packages\\scipy\\stats\\_axis_nan_policy.py:573: RuntimeWarning: Precision loss occurred in moment calculation due to catastrophic cancellation. This occurs when the data are nearly identical. Results may be unreliable.\n",
      "  res = hypotest_fun_out(*samples, **kwds)\n"
     ]
    },
    {
     "data": {
      "text/html": [
       "<div>\n",
       "<style scoped>\n",
       "    .dataframe tbody tr th:only-of-type {\n",
       "        vertical-align: middle;\n",
       "    }\n",
       "\n",
       "    .dataframe tbody tr th {\n",
       "        vertical-align: top;\n",
       "    }\n",
       "\n",
       "    .dataframe thead th {\n",
       "        text-align: right;\n",
       "    }\n",
       "</style>\n",
       "<table border=\"1\" class=\"dataframe\">\n",
       "  <thead>\n",
       "    <tr style=\"text-align: right;\">\n",
       "      <th></th>\n",
       "      <th>Original tested against</th>\n",
       "      <th>Test Statistic</th>\n",
       "      <th>p-value</th>\n",
       "    </tr>\n",
       "  </thead>\n",
       "  <tbody>\n",
       "    <tr>\n",
       "      <th>0</th>\n",
       "      <td>list_answer_no_refusal</td>\n",
       "      <td>NaN</td>\n",
       "      <td>NaN</td>\n",
       "    </tr>\n",
       "    <tr>\n",
       "      <th>1</th>\n",
       "      <td>list_answer_no_middle</td>\n",
       "      <td>NaN</td>\n",
       "      <td>NaN</td>\n",
       "    </tr>\n",
       "    <tr>\n",
       "      <th>2</th>\n",
       "      <td>list_answer_options_reversed</td>\n",
       "      <td>NaN</td>\n",
       "      <td>NaN</td>\n",
       "    </tr>\n",
       "    <tr>\n",
       "      <th>3</th>\n",
       "      <td>question_typo</td>\n",
       "      <td>NaN</td>\n",
       "      <td>NaN</td>\n",
       "    </tr>\n",
       "    <tr>\n",
       "      <th>4</th>\n",
       "      <td>question_letter_swap</td>\n",
       "      <td>NaN</td>\n",
       "      <td>NaN</td>\n",
       "    </tr>\n",
       "    <tr>\n",
       "      <th>5</th>\n",
       "      <td>question_synonym</td>\n",
       "      <td>NaN</td>\n",
       "      <td>NaN</td>\n",
       "    </tr>\n",
       "    <tr>\n",
       "      <th>6</th>\n",
       "      <td>question_paraphrased</td>\n",
       "      <td>NaN</td>\n",
       "      <td>NaN</td>\n",
       "    </tr>\n",
       "  </tbody>\n",
       "</table>\n",
       "</div>"
      ],
      "text/plain": [
       "        Original tested against  Test Statistic  p-value\n",
       "0        list_answer_no_refusal             NaN      NaN\n",
       "1         list_answer_no_middle             NaN      NaN\n",
       "2  list_answer_options_reversed             NaN      NaN\n",
       "3                 question_typo             NaN      NaN\n",
       "4          question_letter_swap             NaN      NaN\n",
       "5              question_synonym             NaN      NaN\n",
       "6          question_paraphrased             NaN      NaN"
      ]
     },
     "metadata": {},
     "output_type": "display_data"
    }
   ],
   "source": [
    "baseline = test_interviews_gemini[(test_interviews_gemini[\"question_ID\"]== \"Q242\") & (test_interviews_gemini[\"Type\"]== \"list_answer_options\")][\"Response Label\"].array\n",
    "\n",
    "test_results = []\n",
    "\n",
    "for i in all_perturbation_columns:\n",
    "    test_against = test_interviews_gemini[(test_interviews_gemini[\"question_ID\"]== \"Q242\") & (test_interviews_gemini[\"Type\"]== i)][\"Response Label\"].array\n",
    "    test_statistic = sci.stats.ttest_ind(baseline, test_against)[0]\n",
    "    pval = round(sci.stats.ttest_ind(baseline, test_against)[1],4)\n",
    "    test_result = [i, test_statistic, pval]\n",
    "    test_results.append(test_result)\n",
    "\n",
    "column_names = [\"Original tested against\", \"Test Statistic\", \"p-value\"]\n",
    "test_results = pd.DataFrame(test_results, columns=column_names)\n",
    "test_results"
   ]
  },
  {
   "cell_type": "markdown",
   "metadata": {},
   "source": [
    "### Q182: Homosexuality\n",
    "\n",
    "Question: Justifiable: Homosexuality Please tell me for each of the following statements whether you think it can always be justified, never be justified, or something in between, using this card. Homosexuality\n",
    "\n",
    "Answer options: ['1=Never justifiable ', '2 ', '3 ', '4 ', '5 ', '6 ', '7 ', '8 ', '9 ', '10=Always justifiable', \"-1=Don't know\"]"
   ]
  },
  {
   "cell_type": "code",
   "execution_count": null,
   "metadata": {},
   "outputs": [
    {
     "name": "stdout",
     "output_type": "stream",
     "text": [
      "Response Label         -1\n",
      "Type                     \n",
      "list_answer_options   1.0\n",
      "question_letter_swap  1.0\n",
      "question_paraphrased  1.0\n",
      "question_synonym      1.0\n",
      "question_typo         1.0\n"
     ]
    }
   ],
   "source": [
    "# Frequency table for non-bias perturbations\n",
    "\n",
    "# Group by 'Type' and 'Response Label', then count the occurrences\n",
    "freq_table = test_interviews_gemini[(test_interviews_gemini[\"question_ID\"]== \"Q182\") & (test_interviews_gemini[\"non_bias_perturbation\"]== 1)].groupby(['Type', 'Response Label']).size().unstack(fill_value=0)\n",
    "\n",
    "# Convert absolute frequencies to relative frequencies by normalizing\n",
    "relative_freq_table = freq_table.div(freq_table.sum(axis=1), axis=0)\n",
    "\n",
    "# Display the relative frequency table\n",
    "print(relative_freq_table)"
   ]
  },
  {
   "cell_type": "code",
   "execution_count": null,
   "metadata": {},
   "outputs": [
    {
     "name": "stdout",
     "output_type": "stream",
     "text": [
      "Response Label                -1    10\n",
      "Type                                  \n",
      "list_answer_no_middle         0.0  1.0\n",
      "list_answer_no_refusal        0.0  1.0\n",
      "list_answer_options           1.0  0.0\n",
      "list_answer_options_reversed  0.0  1.0\n"
     ]
    }
   ],
   "source": [
    "# Frequency table for bias perturbations\n",
    "\n",
    "# Group by 'Type' and 'Response Label', then count the occurrences\n",
    "freq_table = test_interviews_gemini[(test_interviews_gemini[\"question_ID\"]== \"Q182\") & (test_interviews_gemini[\"bias_perturbation\"]== 1)].groupby(['Type', 'Response Label']).size().unstack(fill_value=0)\n",
    "\n",
    "# Convert absolute frequencies to relative frequencies by normalizing\n",
    "relative_freq_table = freq_table.div(freq_table.sum(axis=1), axis=0)\n",
    "\n",
    "# Display the relative frequency table\n",
    "print(relative_freq_table)"
   ]
  },
  {
   "cell_type": "markdown",
   "metadata": {},
   "source": [
    "#### Wilcoxon-Mann-Whitney test\n",
    "The Wilcoxon-Mann-Whitney test is a non-parametric analog to the independent samples t-test and can be used when you do not assume that the dependent variable is a normally distributed interval variable (you only assume that the variable is at least ordinal)"
   ]
  },
  {
   "cell_type": "code",
   "execution_count": null,
   "metadata": {},
   "outputs": [
    {
     "data": {
      "text/html": [
       "<div>\n",
       "<style scoped>\n",
       "    .dataframe tbody tr th:only-of-type {\n",
       "        vertical-align: middle;\n",
       "    }\n",
       "\n",
       "    .dataframe tbody tr th {\n",
       "        vertical-align: top;\n",
       "    }\n",
       "\n",
       "    .dataframe thead th {\n",
       "        text-align: right;\n",
       "    }\n",
       "</style>\n",
       "<table border=\"1\" class=\"dataframe\">\n",
       "  <thead>\n",
       "    <tr style=\"text-align: right;\">\n",
       "      <th></th>\n",
       "      <th>Original tested against</th>\n",
       "      <th>Test Statistic</th>\n",
       "      <th>p-value</th>\n",
       "    </tr>\n",
       "  </thead>\n",
       "  <tbody>\n",
       "    <tr>\n",
       "      <th>0</th>\n",
       "      <td>list_answer_no_refusal</td>\n",
       "      <td>0.0</td>\n",
       "      <td>0.0</td>\n",
       "    </tr>\n",
       "    <tr>\n",
       "      <th>1</th>\n",
       "      <td>list_answer_no_middle</td>\n",
       "      <td>0.0</td>\n",
       "      <td>0.0</td>\n",
       "    </tr>\n",
       "    <tr>\n",
       "      <th>2</th>\n",
       "      <td>list_answer_options_reversed</td>\n",
       "      <td>0.0</td>\n",
       "      <td>0.0</td>\n",
       "    </tr>\n",
       "    <tr>\n",
       "      <th>3</th>\n",
       "      <td>question_typo</td>\n",
       "      <td>392.0</td>\n",
       "      <td>1.0</td>\n",
       "    </tr>\n",
       "    <tr>\n",
       "      <th>4</th>\n",
       "      <td>question_letter_swap</td>\n",
       "      <td>392.0</td>\n",
       "      <td>1.0</td>\n",
       "    </tr>\n",
       "    <tr>\n",
       "      <th>5</th>\n",
       "      <td>question_synonym</td>\n",
       "      <td>392.0</td>\n",
       "      <td>1.0</td>\n",
       "    </tr>\n",
       "    <tr>\n",
       "      <th>6</th>\n",
       "      <td>question_paraphrased</td>\n",
       "      <td>392.0</td>\n",
       "      <td>1.0</td>\n",
       "    </tr>\n",
       "  </tbody>\n",
       "</table>\n",
       "</div>"
      ],
      "text/plain": [
       "        Original tested against  Test Statistic  p-value\n",
       "0        list_answer_no_refusal             0.0      0.0\n",
       "1         list_answer_no_middle             0.0      0.0\n",
       "2  list_answer_options_reversed             0.0      0.0\n",
       "3                 question_typo           392.0      1.0\n",
       "4          question_letter_swap           392.0      1.0\n",
       "5              question_synonym           392.0      1.0\n",
       "6          question_paraphrased           392.0      1.0"
      ]
     },
     "metadata": {},
     "output_type": "display_data"
    }
   ],
   "source": [
    "baseline = test_interviews_gemini[(test_interviews_gemini[\"question_ID\"]== \"Q182\") & (test_interviews_gemini[\"Type\"]== \"list_answer_options\")][\"Response Label\"].array\n",
    "\n",
    "test_results = []\n",
    "\n",
    "for i in all_perturbation_columns:\n",
    "    test_against = test_interviews_gemini[(test_interviews_gemini[\"question_ID\"]== \"Q182\") & (test_interviews_gemini[\"Type\"]== i)][\"Response Label\"].array\n",
    "    test_statistic = sci.stats.mannwhitneyu(baseline, test_against)[0]\n",
    "    pval = round(sci.stats.mannwhitneyu(baseline, test_against)[1],4)\n",
    "    test_result = [i, test_statistic, pval]\n",
    "    test_results.append(test_result)\n",
    "\n",
    "column_names = [\"Original tested against\", \"Test Statistic\", \"p-value\"]\n",
    "test_results = pd.DataFrame(test_results, columns=column_names)\n",
    "test_results"
   ]
  },
  {
   "cell_type": "markdown",
   "metadata": {},
   "source": [
    "#### t-test\n",
    "\n",
    "This is a test for the null hypothesis that 2 independent samples have identical average (expected) values. This test assumes that the populations have identical variances by default."
   ]
  },
  {
   "cell_type": "code",
   "execution_count": null,
   "metadata": {},
   "outputs": [
    {
     "name": "stderr",
     "output_type": "stream",
     "text": [
      "c:\\Users\\ruppr\\OneDrive - Universität Mannheim\\Master thesis\\HuBiLa\\hubila\\Lib\\site-packages\\scipy\\stats\\_axis_nan_policy.py:573: RuntimeWarning: Precision loss occurred in moment calculation due to catastrophic cancellation. This occurs when the data are nearly identical. Results may be unreliable.\n",
      "  res = hypotest_fun_out(*samples, **kwds)\n"
     ]
    },
    {
     "data": {
      "text/html": [
       "<div>\n",
       "<style scoped>\n",
       "    .dataframe tbody tr th:only-of-type {\n",
       "        vertical-align: middle;\n",
       "    }\n",
       "\n",
       "    .dataframe tbody tr th {\n",
       "        vertical-align: top;\n",
       "    }\n",
       "\n",
       "    .dataframe thead th {\n",
       "        text-align: right;\n",
       "    }\n",
       "</style>\n",
       "<table border=\"1\" class=\"dataframe\">\n",
       "  <thead>\n",
       "    <tr style=\"text-align: right;\">\n",
       "      <th></th>\n",
       "      <th>Original tested against</th>\n",
       "      <th>Test Statistic</th>\n",
       "      <th>p-value</th>\n",
       "    </tr>\n",
       "  </thead>\n",
       "  <tbody>\n",
       "    <tr>\n",
       "      <th>0</th>\n",
       "      <td>list_answer_no_refusal</td>\n",
       "      <td>-inf</td>\n",
       "      <td>0.0</td>\n",
       "    </tr>\n",
       "    <tr>\n",
       "      <th>1</th>\n",
       "      <td>list_answer_no_middle</td>\n",
       "      <td>-inf</td>\n",
       "      <td>0.0</td>\n",
       "    </tr>\n",
       "    <tr>\n",
       "      <th>2</th>\n",
       "      <td>list_answer_options_reversed</td>\n",
       "      <td>-inf</td>\n",
       "      <td>0.0</td>\n",
       "    </tr>\n",
       "    <tr>\n",
       "      <th>3</th>\n",
       "      <td>question_typo</td>\n",
       "      <td>NaN</td>\n",
       "      <td>NaN</td>\n",
       "    </tr>\n",
       "    <tr>\n",
       "      <th>4</th>\n",
       "      <td>question_letter_swap</td>\n",
       "      <td>NaN</td>\n",
       "      <td>NaN</td>\n",
       "    </tr>\n",
       "    <tr>\n",
       "      <th>5</th>\n",
       "      <td>question_synonym</td>\n",
       "      <td>NaN</td>\n",
       "      <td>NaN</td>\n",
       "    </tr>\n",
       "    <tr>\n",
       "      <th>6</th>\n",
       "      <td>question_paraphrased</td>\n",
       "      <td>NaN</td>\n",
       "      <td>NaN</td>\n",
       "    </tr>\n",
       "  </tbody>\n",
       "</table>\n",
       "</div>"
      ],
      "text/plain": [
       "        Original tested against  Test Statistic  p-value\n",
       "0        list_answer_no_refusal            -inf      0.0\n",
       "1         list_answer_no_middle            -inf      0.0\n",
       "2  list_answer_options_reversed            -inf      0.0\n",
       "3                 question_typo             NaN      NaN\n",
       "4          question_letter_swap             NaN      NaN\n",
       "5              question_synonym             NaN      NaN\n",
       "6          question_paraphrased             NaN      NaN"
      ]
     },
     "metadata": {},
     "output_type": "display_data"
    }
   ],
   "source": [
    "baseline = test_interviews_gemini[(test_interviews_gemini[\"question_ID\"]== \"Q182\") & (test_interviews_gemini[\"Type\"]== \"list_answer_options\")][\"Response Label\"].array\n",
    "\n",
    "test_results = []\n",
    "\n",
    "for i in all_perturbation_columns:\n",
    "    test_against = test_interviews_gemini[(test_interviews_gemini[\"question_ID\"]== \"Q182\") & (test_interviews_gemini[\"Type\"]== i)][\"Response Label\"].array\n",
    "    test_statistic = sci.stats.ttest_ind(baseline, test_against)[0]\n",
    "    pval = round(sci.stats.ttest_ind(baseline, test_against)[1],4)\n",
    "    test_result = [i, test_statistic, pval]\n",
    "    test_results.append(test_result)\n",
    "\n",
    "column_names = [\"Original tested against\", \"Test Statistic\", \"p-value\"]\n",
    "test_results = pd.DataFrame(test_results, columns=column_names)\n",
    "test_results"
   ]
  },
  {
   "cell_type": "markdown",
   "metadata": {},
   "source": [
    "### Q37: Duty to have children\n",
    "\n",
    "Question: Duty towards society to have children Do you agree, disagree or neither agree nor disagree with the following statements? It is a duty towards society to have children\n",
    "\n",
    "Answer options: ['1=Strongly agree ', '2=Agree ', '3=Neither agree, nor disagree ', '4=Disagree ', '5=Strongly disagree', \"-1=Don't know\"]"
   ]
  },
  {
   "cell_type": "code",
   "execution_count": null,
   "metadata": {},
   "outputs": [
    {
     "name": "stdout",
     "output_type": "stream",
     "text": [
      "Response Label              -1         5\n",
      "Type                                    \n",
      "list_answer_options   0.000000  1.000000\n",
      "question_letter_swap  0.000000  1.000000\n",
      "question_paraphrased  0.965517  0.034483\n",
      "question_synonym      0.379310  0.620690\n",
      "question_typo         0.000000  1.000000\n"
     ]
    }
   ],
   "source": [
    "# Frequency table for non-bias perturbations\n",
    "\n",
    "# Group by 'Type' and 'Response Label', then count the occurrences\n",
    "freq_table = test_interviews_gemini[(test_interviews_gemini[\"question_ID\"]== \"Q37\") & (test_interviews_gemini[\"non_bias_perturbation\"]== 1)].groupby(['Type', 'Response Label']).size().unstack(fill_value=0)\n",
    "\n",
    "# Convert absolute frequencies to relative frequencies by normalizing\n",
    "relative_freq_table = freq_table.div(freq_table.sum(axis=1), axis=0)\n",
    "\n",
    "# Display the relative frequency table\n",
    "print(relative_freq_table)"
   ]
  },
  {
   "cell_type": "code",
   "execution_count": null,
   "metadata": {},
   "outputs": [
    {
     "name": "stdout",
     "output_type": "stream",
     "text": [
      "Response Label                       4         5\n",
      "Type                                            \n",
      "list_answer_no_middle         0.827586  0.172414\n",
      "list_answer_no_refusal        0.689655  0.310345\n",
      "list_answer_options           0.000000  1.000000\n",
      "list_answer_options_reversed  0.000000  1.000000\n"
     ]
    }
   ],
   "source": [
    "# Frequency table for bias perturbations\n",
    "\n",
    "# Group by 'Type' and 'Response Label', then count the occurrences\n",
    "freq_table = test_interviews_gemini[(test_interviews_gemini[\"question_ID\"]== \"Q37\") & (test_interviews_gemini[\"bias_perturbation\"]== 1)].groupby(['Type', 'Response Label']).size().unstack(fill_value=0)\n",
    "\n",
    "# Convert absolute frequencies to relative frequencies by normalizing\n",
    "relative_freq_table = freq_table.div(freq_table.sum(axis=1), axis=0)\n",
    "\n",
    "# Display the relative frequency table\n",
    "print(relative_freq_table)"
   ]
  },
  {
   "cell_type": "code",
   "execution_count": null,
   "metadata": {},
   "outputs": [
    {
     "name": "stdout",
     "output_type": "stream",
     "text": [
      "Index([-1, 4, 5], dtype='int32', name='Response Label')\n",
      "Number of observations:  232 \n",
      " Response Label    Don't know  4=Disagree  5=Strongly disagree\n",
      "Type                                                         \n",
      "Odd-Even Scales     0.000000    0.827586             0.172414\n",
      "Opinion Floating    0.000000    0.689655             0.310345\n",
      "Original            0.000000    0.000000             1.000000\n",
      "Response Order      0.000000    0.000000             1.000000\n",
      "Letter Swap         0.000000    0.000000             1.000000\n",
      "Paraphrase          0.965517    0.000000             0.034483\n",
      "Synonym             0.379310    0.000000             0.620690\n",
      "Typo                0.000000    0.000000             1.000000\n"
     ]
    }
   ],
   "source": [
    "# Frequency table for non-bias perturbations\n",
    "\n",
    "# Group by 'Type' and 'Response Label', then count the occurrences\n",
    "freq_table = test_interviews_gemini[(test_interviews_gemini[\"question_ID\"]== \"Q37\")].groupby(['Type', 'Response Label']).size().unstack(fill_value=0)\n",
    "n_obs = len(test_interviews_gemini[(test_interviews_gemini[\"question_ID\"]== \"Q37\")])\n",
    "# Convert absolute frequencies to relative frequencies by normalizing\n",
    "relative_freq_table = freq_table.div(freq_table.sum(axis=1), axis=0)\n",
    "\n",
    "print(relative_freq_table.columns)\n",
    "relative_freq_table = relative_freq_table.rename(columns={-1: \"Don't know\",\n",
    "                                                          4: \"4=Disagree\",\n",
    "                                                          5: \"5=Strongly disagree\"}, \n",
    "                                                 index={'list_answer_no_middle': 'Odd-Even Scales',\n",
    "                                                        \"list_answer_no_refusal\": \"Opinion Floating\",\n",
    "                                                        \"list_answer_options\": \"Original\",\n",
    "                                                        \"list_answer_options_reversed\": \"Response Order\",\n",
    "                                                        \"question_letter_swap\": \"Letter Swap\",\n",
    "                                                        \"question_paraphrased\": \"Paraphrase\",\n",
    "                                                        \"question_synonym\": \"Synonym\",\n",
    "                                                        \"question_typo\": \"Typo\"\n",
    "                                                        })\n",
    "# Display the relative frequency table\n",
    "print(\"Number of observations: \", n_obs, \"\\n\", relative_freq_table)"
   ]
  },
  {
   "cell_type": "code",
   "execution_count": null,
   "metadata": {},
   "outputs": [
    {
     "name": "stdout",
     "output_type": "stream",
     "text": [
      "\\begin{tabular}{lrrr}\n",
      "\\toprule\n",
      "Response Label & Don't know & 4=Disagree & 5=Strongly disagree \\\\\n",
      "Type &  &  &  \\\\\n",
      "\\midrule\n",
      "Odd-Even Scales & 0.000000 & 0.827586 & 0.172414 \\\\\n",
      "Opinion Floating & 0.000000 & 0.689655 & 0.310345 \\\\\n",
      "Original & 0.000000 & 0.000000 & 1.000000 \\\\\n",
      "Response Order & 0.000000 & 0.000000 & 1.000000 \\\\\n",
      "Letter Swap & 0.000000 & 0.000000 & 1.000000 \\\\\n",
      "Paraphrase & 0.965517 & 0.000000 & 0.034483 \\\\\n",
      "Synonym & 0.379310 & 0.000000 & 0.620690 \\\\\n",
      "Typo & 0.000000 & 0.000000 & 1.000000 \\\\\n",
      "\\bottomrule\n",
      "\\end{tabular}\n",
      "\n"
     ]
    }
   ],
   "source": [
    "print(relative_freq_table.to_latex())"
   ]
  },
  {
   "cell_type": "markdown",
   "metadata": {},
   "source": [
    "#### Wilcoxon-Mann-Whitney test\n",
    "The Wilcoxon-Mann-Whitney test is a non-parametric analog to the independent samples t-test and can be used when you do not assume that the dependent variable is a normally distributed interval variable (you only assume that the variable is at least ordinal)"
   ]
  },
  {
   "cell_type": "code",
   "execution_count": null,
   "metadata": {},
   "outputs": [
    {
     "data": {
      "text/html": [
       "<div>\n",
       "<style scoped>\n",
       "    .dataframe tbody tr th:only-of-type {\n",
       "        vertical-align: middle;\n",
       "    }\n",
       "\n",
       "    .dataframe tbody tr th {\n",
       "        vertical-align: top;\n",
       "    }\n",
       "\n",
       "    .dataframe thead th {\n",
       "        text-align: right;\n",
       "    }\n",
       "</style>\n",
       "<table border=\"1\" class=\"dataframe\">\n",
       "  <thead>\n",
       "    <tr style=\"text-align: right;\">\n",
       "      <th></th>\n",
       "      <th>Original tested against</th>\n",
       "      <th>Test Statistic</th>\n",
       "      <th>p-value</th>\n",
       "    </tr>\n",
       "  </thead>\n",
       "  <tbody>\n",
       "    <tr>\n",
       "      <th>0</th>\n",
       "      <td>list_answer_no_refusal</td>\n",
       "      <td>710.5</td>\n",
       "      <td>0.0000</td>\n",
       "    </tr>\n",
       "    <tr>\n",
       "      <th>1</th>\n",
       "      <td>list_answer_no_middle</td>\n",
       "      <td>768.5</td>\n",
       "      <td>0.0000</td>\n",
       "    </tr>\n",
       "    <tr>\n",
       "      <th>2</th>\n",
       "      <td>list_answer_options_reversed</td>\n",
       "      <td>420.5</td>\n",
       "      <td>1.0000</td>\n",
       "    </tr>\n",
       "    <tr>\n",
       "      <th>3</th>\n",
       "      <td>question_typo</td>\n",
       "      <td>420.5</td>\n",
       "      <td>1.0000</td>\n",
       "    </tr>\n",
       "    <tr>\n",
       "      <th>4</th>\n",
       "      <td>question_letter_swap</td>\n",
       "      <td>420.5</td>\n",
       "      <td>1.0000</td>\n",
       "    </tr>\n",
       "    <tr>\n",
       "      <th>5</th>\n",
       "      <td>question_synonym</td>\n",
       "      <td>580.0</td>\n",
       "      <td>0.0003</td>\n",
       "    </tr>\n",
       "    <tr>\n",
       "      <th>6</th>\n",
       "      <td>question_paraphrased</td>\n",
       "      <td>826.5</td>\n",
       "      <td>0.0000</td>\n",
       "    </tr>\n",
       "  </tbody>\n",
       "</table>\n",
       "</div>"
      ],
      "text/plain": [
       "        Original tested against  Test Statistic  p-value\n",
       "0        list_answer_no_refusal           710.5   0.0000\n",
       "1         list_answer_no_middle           768.5   0.0000\n",
       "2  list_answer_options_reversed           420.5   1.0000\n",
       "3                 question_typo           420.5   1.0000\n",
       "4          question_letter_swap           420.5   1.0000\n",
       "5              question_synonym           580.0   0.0003\n",
       "6          question_paraphrased           826.5   0.0000"
      ]
     },
     "metadata": {},
     "output_type": "display_data"
    }
   ],
   "source": [
    "baseline = test_interviews_gemini[(test_interviews_gemini[\"question_ID\"]== \"Q37\") & (test_interviews_gemini[\"Type\"]== \"list_answer_options\")][\"Response Label\"].array\n",
    "\n",
    "test_results = []\n",
    "\n",
    "for i in all_perturbation_columns:\n",
    "    test_against = test_interviews_gemini[(test_interviews_gemini[\"question_ID\"]== \"Q37\") & (test_interviews_gemini[\"Type\"]== i)][\"Response Label\"].array\n",
    "    test_statistic = sci.stats.mannwhitneyu(baseline, test_against)[0]\n",
    "    pval = round(sci.stats.mannwhitneyu(baseline, test_against)[1],4)\n",
    "    test_result = [i, test_statistic, pval]\n",
    "    test_results.append(test_result)\n",
    "\n",
    "column_names = [\"Original tested against\", \"Test Statistic\", \"p-value\"]\n",
    "test_results = pd.DataFrame(test_results, columns=column_names)\n",
    "test_results"
   ]
  },
  {
   "cell_type": "code",
   "execution_count": null,
   "metadata": {},
   "outputs": [
    {
     "name": "stdout",
     "output_type": "stream",
     "text": [
      "\\begin{tabular}{llrr}\n",
      "\\toprule\n",
      " & Original tested against & Test Statistic & p-value \\\\\n",
      "\\midrule\n",
      "0 & list_answer_no_refusal & 710.500000 & 0.000000 \\\\\n",
      "1 & list_answer_no_middle & 768.500000 & 0.000000 \\\\\n",
      "2 & list_answer_options_reversed & 420.500000 & 1.000000 \\\\\n",
      "3 & question_typo & 420.500000 & 1.000000 \\\\\n",
      "4 & question_letter_swap & 420.500000 & 1.000000 \\\\\n",
      "5 & question_synonym & 580.000000 & 0.000300 \\\\\n",
      "6 & question_paraphrased & 826.500000 & 0.000000 \\\\\n",
      "\\bottomrule\n",
      "\\end{tabular}\n",
      "\n"
     ]
    }
   ],
   "source": [
    "print(test_results.to_latex())"
   ]
  },
  {
   "cell_type": "markdown",
   "metadata": {},
   "source": [
    "#### t-test\n",
    "\n",
    "This is a test for the null hypothesis that 2 independent samples have identical average (expected) values. This test assumes that the populations have identical variances by default."
   ]
  },
  {
   "cell_type": "code",
   "execution_count": null,
   "metadata": {},
   "outputs": [
    {
     "name": "stderr",
     "output_type": "stream",
     "text": [
      "c:\\Users\\ruppr\\OneDrive - Universität Mannheim\\Master thesis\\HuBiLa\\hubila\\Lib\\site-packages\\scipy\\stats\\_axis_nan_policy.py:573: RuntimeWarning: Precision loss occurred in moment calculation due to catastrophic cancellation. This occurs when the data are nearly identical. Results may be unreliable.\n",
      "  res = hypotest_fun_out(*samples, **kwds)\n"
     ]
    },
    {
     "data": {
      "text/html": [
       "<div>\n",
       "<style scoped>\n",
       "    .dataframe tbody tr th:only-of-type {\n",
       "        vertical-align: middle;\n",
       "    }\n",
       "\n",
       "    .dataframe tbody tr th {\n",
       "        vertical-align: top;\n",
       "    }\n",
       "\n",
       "    .dataframe thead th {\n",
       "        text-align: right;\n",
       "    }\n",
       "</style>\n",
       "<table border=\"1\" class=\"dataframe\">\n",
       "  <thead>\n",
       "    <tr style=\"text-align: right;\">\n",
       "      <th></th>\n",
       "      <th>Original tested against</th>\n",
       "      <th>Test Statistic</th>\n",
       "      <th>p-value</th>\n",
       "    </tr>\n",
       "  </thead>\n",
       "  <tbody>\n",
       "    <tr>\n",
       "      <th>0</th>\n",
       "      <td>list_answer_no_refusal</td>\n",
       "      <td>7.888106</td>\n",
       "      <td>0.0000</td>\n",
       "    </tr>\n",
       "    <tr>\n",
       "      <th>1</th>\n",
       "      <td>list_answer_no_middle</td>\n",
       "      <td>11.593101</td>\n",
       "      <td>0.0000</td>\n",
       "    </tr>\n",
       "    <tr>\n",
       "      <th>2</th>\n",
       "      <td>list_answer_options_reversed</td>\n",
       "      <td>NaN</td>\n",
       "      <td>NaN</td>\n",
       "    </tr>\n",
       "    <tr>\n",
       "      <th>3</th>\n",
       "      <td>question_typo</td>\n",
       "      <td>NaN</td>\n",
       "      <td>NaN</td>\n",
       "    </tr>\n",
       "    <tr>\n",
       "      <th>4</th>\n",
       "      <td>question_letter_swap</td>\n",
       "      <td>NaN</td>\n",
       "      <td>NaN</td>\n",
       "    </tr>\n",
       "    <tr>\n",
       "      <th>5</th>\n",
       "      <td>question_synonym</td>\n",
       "      <td>4.136558</td>\n",
       "      <td>0.0001</td>\n",
       "    </tr>\n",
       "    <tr>\n",
       "      <th>6</th>\n",
       "      <td>question_paraphrased</td>\n",
       "      <td>28.000000</td>\n",
       "      <td>0.0000</td>\n",
       "    </tr>\n",
       "  </tbody>\n",
       "</table>\n",
       "</div>"
      ],
      "text/plain": [
       "        Original tested against  Test Statistic  p-value\n",
       "0        list_answer_no_refusal        7.888106   0.0000\n",
       "1         list_answer_no_middle       11.593101   0.0000\n",
       "2  list_answer_options_reversed             NaN      NaN\n",
       "3                 question_typo             NaN      NaN\n",
       "4          question_letter_swap             NaN      NaN\n",
       "5              question_synonym        4.136558   0.0001\n",
       "6          question_paraphrased       28.000000   0.0000"
      ]
     },
     "metadata": {},
     "output_type": "display_data"
    }
   ],
   "source": [
    "baseline = test_interviews_gemini[(test_interviews_gemini[\"question_ID\"]== \"Q37\") & (test_interviews_gemini[\"Type\"]== \"list_answer_options\")][\"Response Label\"].array\n",
    "\n",
    "test_results = []\n",
    "\n",
    "for i in all_perturbation_columns:\n",
    "    test_against = test_interviews_gemini[(test_interviews_gemini[\"question_ID\"]== \"Q37\") & (test_interviews_gemini[\"Type\"]== i)][\"Response Label\"].array\n",
    "    test_statistic = sci.stats.ttest_ind(baseline, test_against)[0]\n",
    "    pval = round(sci.stats.ttest_ind(baseline, test_against)[1],4)\n",
    "    test_result = [i, test_statistic, pval]\n",
    "    test_results.append(test_result)\n",
    "\n",
    "column_names = [\"Original tested against\", \"Test Statistic\", \"p-value\"]\n",
    "test_results = pd.DataFrame(test_results, columns=column_names)\n",
    "test_results"
   ]
  },
  {
   "cell_type": "code",
   "execution_count": null,
   "metadata": {},
   "outputs": [
    {
     "name": "stdout",
     "output_type": "stream",
     "text": [
      "\\begin{tabular}{llrr}\n",
      "\\toprule\n",
      " & Original tested against & Test Statistic & p-value \\\\\n",
      "\\midrule\n",
      "0 & list_answer_no_refusal & 7.888106 & 0.000000 \\\\\n",
      "1 & list_answer_no_middle & 11.593101 & 0.000000 \\\\\n",
      "2 & list_answer_options_reversed & NaN & NaN \\\\\n",
      "3 & question_typo & NaN & NaN \\\\\n",
      "4 & question_letter_swap & NaN & NaN \\\\\n",
      "5 & question_synonym & 4.136558 & 0.000100 \\\\\n",
      "6 & question_paraphrased & 28.000000 & 0.000000 \\\\\n",
      "\\bottomrule\n",
      "\\end{tabular}\n",
      "\n"
     ]
    }
   ],
   "source": [
    "print(test_results.to_latex())"
   ]
  },
  {
   "cell_type": "markdown",
   "metadata": {},
   "source": [
    "#### Chi squared - test \n",
    "\n",
    "Pearson’s Chi-Square is a statistical hypothesis test for independence between categorical variables."
   ]
  },
  {
   "cell_type": "code",
   "execution_count": null,
   "metadata": {},
   "outputs": [
    {
     "data": {
      "text/html": [
       "<div>\n",
       "<style scoped>\n",
       "    .dataframe tbody tr th:only-of-type {\n",
       "        vertical-align: middle;\n",
       "    }\n",
       "\n",
       "    .dataframe tbody tr th {\n",
       "        vertical-align: top;\n",
       "    }\n",
       "\n",
       "    .dataframe thead th {\n",
       "        text-align: right;\n",
       "    }\n",
       "</style>\n",
       "<table border=\"1\" class=\"dataframe\">\n",
       "  <thead>\n",
       "    <tr style=\"text-align: right;\">\n",
       "      <th></th>\n",
       "      <th>Original tested against</th>\n",
       "      <th>Test Statistic</th>\n",
       "      <th>p-value</th>\n",
       "    </tr>\n",
       "  </thead>\n",
       "  <tbody>\n",
       "    <tr>\n",
       "      <th>0</th>\n",
       "      <td>list_answer_no_refusal</td>\n",
       "      <td>NaN</td>\n",
       "      <td>NaN</td>\n",
       "    </tr>\n",
       "    <tr>\n",
       "      <th>1</th>\n",
       "      <td>list_answer_no_middle</td>\n",
       "      <td>NaN</td>\n",
       "      <td>NaN</td>\n",
       "    </tr>\n",
       "    <tr>\n",
       "      <th>2</th>\n",
       "      <td>list_answer_options_reversed</td>\n",
       "      <td>0.0</td>\n",
       "      <td>1.0</td>\n",
       "    </tr>\n",
       "    <tr>\n",
       "      <th>3</th>\n",
       "      <td>question_typo</td>\n",
       "      <td>0.0</td>\n",
       "      <td>1.0</td>\n",
       "    </tr>\n",
       "    <tr>\n",
       "      <th>4</th>\n",
       "      <td>question_letter_swap</td>\n",
       "      <td>0.0</td>\n",
       "      <td>1.0</td>\n",
       "    </tr>\n",
       "    <tr>\n",
       "      <th>5</th>\n",
       "      <td>question_synonym</td>\n",
       "      <td>NaN</td>\n",
       "      <td>NaN</td>\n",
       "    </tr>\n",
       "    <tr>\n",
       "      <th>6</th>\n",
       "      <td>question_paraphrased</td>\n",
       "      <td>201.6</td>\n",
       "      <td>0.0</td>\n",
       "    </tr>\n",
       "  </tbody>\n",
       "</table>\n",
       "</div>"
      ],
      "text/plain": [
       "        Original tested against  Test Statistic  p-value\n",
       "0        list_answer_no_refusal             NaN      NaN\n",
       "1         list_answer_no_middle             NaN      NaN\n",
       "2  list_answer_options_reversed             0.0      1.0\n",
       "3                 question_typo             0.0      1.0\n",
       "4          question_letter_swap             0.0      1.0\n",
       "5              question_synonym             NaN      NaN\n",
       "6          question_paraphrased           201.6      0.0"
      ]
     },
     "metadata": {},
     "output_type": "display_data"
    }
   ],
   "source": [
    "baseline = test_interviews_gemini[(test_interviews_gemini[\"question_ID\"]== \"Q37\") & (test_interviews_gemini[\"Type\"]== \"list_answer_options\")][\"Response Label\"].array\n",
    "\n",
    "test_results = []\n",
    "\n",
    "for i in all_perturbation_columns:\n",
    "    test_against = test_interviews_gemini[(test_interviews_gemini[\"question_ID\"]== \"Q37\") & (test_interviews_gemini[\"Type\"]== i)][\"Response Label\"].array\n",
    "    try:\n",
    "        test_statistic = sci.stats.chisquare(f_exp=baseline, f_obs=test_against)[0]\n",
    "        pval = round(sci.stats.chisquare(f_exp=baseline, f_obs=test_against)[1],4)\n",
    "    except: \n",
    "        test_statistic = np.nan\n",
    "        pval = np.nan\n",
    "    test_result = [i, test_statistic, pval]\n",
    "    test_results.append(test_result)\n",
    "\n",
    "column_names = [\"Original tested against\", \"Test Statistic\", \"p-value\"]\n",
    "test_results = pd.DataFrame(test_results, columns=column_names)\n",
    "test_results"
   ]
  },
  {
   "cell_type": "code",
   "execution_count": null,
   "metadata": {},
   "outputs": [
    {
     "data": {
      "image/png": "[encoded data removed]",
      "text/plain": [
       "<Figure size 707.25x500 with 1 Axes>"
      ]
     },
     "metadata": {},
     "output_type": "display_data"
    }
   ],
   "source": [
    "bar = sns.displot(test_interviews_gemini[(test_interviews_gemini[\"question_ID\"]== \"Q37\") & (test_interviews_gemini[\"non_bias_perturbation\"]== 1)], \n",
    "                  x=\"Response Label\", hue=\"Type\", element=\"step\")"
   ]
  },
  {
   "cell_type": "markdown",
   "metadata": {},
   "source": [
    "### Q210: Joining Boycotts \n",
    "\n",
    "Question: Political action: joining in boycotts Now Ia like you to look at this card. Ia going to read out some different forms of political action that people can take, and Ia like you to tell me, for each one, whether you have actually done any of these things, whether you might do it or would never, under any circumstances, do it. Joining in boycotts\n",
    "\n",
    "Answer options: '1=Have done ', '2=Might do ', '3=Would never do', \"-1=Don't know\"\n"
   ]
  },
  {
   "cell_type": "code",
   "execution_count": null,
   "metadata": {},
   "outputs": [
    {
     "name": "stdout",
     "output_type": "stream",
     "text": [
      "Response Label              -1         2\n",
      "Type                                    \n",
      "list_answer_options   0.000000  1.000000\n",
      "question_letter_swap  0.642857  0.357143\n",
      "question_paraphrased  0.250000  0.750000\n",
      "question_synonym      0.892857  0.107143\n",
      "question_typo         0.071429  0.928571\n"
     ]
    }
   ],
   "source": [
    "# Frequency table for non-bias perturbations\n",
    "\n",
    "# Group by 'Type' and 'response_label', then count the occurrences\n",
    "freq_table = test_interviews_gemini[(test_interviews_gemini[\"question_ID\"]== \"Q210\") & (test_interviews_gemini[\"non_bias_perturbation\"]== 1)].groupby(['Type', 'Response Label']).size().unstack(fill_value=0)\n",
    "\n",
    "# Convert absolute frequencies to relative frequencies by normalizing\n",
    "relative_freq_table = freq_table.div(freq_table.sum(axis=1), axis=0)\n",
    "\n",
    "# Display the relative frequency table\n",
    "print(relative_freq_table)"
   ]
  },
  {
   "cell_type": "code",
   "execution_count": null,
   "metadata": {},
   "outputs": [
    {
     "name": "stdout",
     "output_type": "stream",
     "text": [
      "Response Label                  1    2    3\n",
      "Type                                       \n",
      "list_answer_no_middle         0.0  0.0  1.0\n",
      "list_answer_no_refusal        0.0  1.0  0.0\n",
      "list_answer_options           0.0  1.0  0.0\n",
      "list_answer_options_reversed  1.0  0.0  0.0\n"
     ]
    }
   ],
   "source": [
    "# Frequency table for bias perturbations\n",
    "\n",
    "# Group by 'Type' and 'response_label', then count the occurrences\n",
    "freq_table = test_interviews_gemini[(test_interviews_gemini[\"question_ID\"]== \"Q210\") & (test_interviews_gemini[\"bias_perturbation\"]== 1)].groupby(['Type', 'Response Label']).size().unstack(fill_value=0)\n",
    "\n",
    "# Convert absolute frequencies to relative frequencies by normalizing\n",
    "relative_freq_table = freq_table.div(freq_table.sum(axis=1), axis=0)\n",
    "\n",
    "# Display the relative frequency table\n",
    "print(relative_freq_table)"
   ]
  },
  {
   "cell_type": "code",
   "execution_count": null,
   "metadata": {},
   "outputs": [
    {
     "name": "stdout",
     "output_type": "stream",
     "text": [
      "Number of observations:  224 \n",
      " Response Label                      -1    1         2    3\n",
      "Type                                                      \n",
      "list_answer_no_middle         0.000000  0.0  0.000000  1.0\n",
      "list_answer_no_refusal        0.000000  0.0  1.000000  0.0\n",
      "list_answer_options           0.000000  0.0  1.000000  0.0\n",
      "list_answer_options_reversed  0.000000  1.0  0.000000  0.0\n",
      "question_letter_swap          0.642857  0.0  0.357143  0.0\n",
      "question_paraphrased          0.250000  0.0  0.750000  0.0\n",
      "question_synonym              0.892857  0.0  0.107143  0.0\n",
      "question_typo                 0.071429  0.0  0.928571  0.0\n"
     ]
    }
   ],
   "source": [
    "# Frequency table for non-bias perturbations\n",
    "\n",
    "# Group by 'type' and 'response_label', then count the occurrences\n",
    "freq_table = test_interviews_gemini[(test_interviews_gemini[\"question_ID\"]== \"Q210\")].groupby(['Type', 'Response Label']).size().unstack(fill_value=0)\n",
    "n_obs = len(test_interviews_gemini[(test_interviews_gemini[\"question_ID\"]== \"Q210\")])\n",
    "# Convert absolute frequencies to relative frequencies by normalizing\n",
    "relative_freq_table = freq_table.div(freq_table.sum(axis=1), axis=0)\n",
    "\n",
    "# Display the relative frequency table\n",
    "print(\"Number of observations: \", n_obs, \"\\n\", relative_freq_table)"
   ]
  },
  {
   "cell_type": "markdown",
   "metadata": {},
   "source": [
    "#### Wilcoxon-Mann-Whitney test\n",
    "The Wilcoxon-Mann-Whitney test is a non-parametric analog to the independent samples t-test and can be used when you do not assume that the dependent variable is a normally distributed interval variable (you only assume that the variable is at least ordinal)"
   ]
  },
  {
   "cell_type": "code",
   "execution_count": null,
   "metadata": {},
   "outputs": [
    {
     "data": {
      "text/html": [
       "<div>\n",
       "<style scoped>\n",
       "    .dataframe tbody tr th:only-of-type {\n",
       "        vertical-align: middle;\n",
       "    }\n",
       "\n",
       "    .dataframe tbody tr th {\n",
       "        vertical-align: top;\n",
       "    }\n",
       "\n",
       "    .dataframe thead th {\n",
       "        text-align: right;\n",
       "    }\n",
       "</style>\n",
       "<table border=\"1\" class=\"dataframe\">\n",
       "  <thead>\n",
       "    <tr style=\"text-align: right;\">\n",
       "      <th></th>\n",
       "      <th>Original tested against</th>\n",
       "      <th>Test Statistic</th>\n",
       "      <th>p-value</th>\n",
       "    </tr>\n",
       "  </thead>\n",
       "  <tbody>\n",
       "    <tr>\n",
       "      <th>0</th>\n",
       "      <td>list_answer_no_refusal</td>\n",
       "      <td>392.0</td>\n",
       "      <td>1.0000</td>\n",
       "    </tr>\n",
       "    <tr>\n",
       "      <th>1</th>\n",
       "      <td>list_answer_no_middle</td>\n",
       "      <td>0.0</td>\n",
       "      <td>0.0000</td>\n",
       "    </tr>\n",
       "    <tr>\n",
       "      <th>2</th>\n",
       "      <td>list_answer_options_reversed</td>\n",
       "      <td>784.0</td>\n",
       "      <td>0.0000</td>\n",
       "    </tr>\n",
       "    <tr>\n",
       "      <th>3</th>\n",
       "      <td>question_typo</td>\n",
       "      <td>420.0</td>\n",
       "      <td>0.1610</td>\n",
       "    </tr>\n",
       "    <tr>\n",
       "      <th>4</th>\n",
       "      <td>question_letter_swap</td>\n",
       "      <td>644.0</td>\n",
       "      <td>0.0000</td>\n",
       "    </tr>\n",
       "    <tr>\n",
       "      <th>5</th>\n",
       "      <td>question_synonym</td>\n",
       "      <td>742.0</td>\n",
       "      <td>0.0000</td>\n",
       "    </tr>\n",
       "    <tr>\n",
       "      <th>6</th>\n",
       "      <td>question_paraphrased</td>\n",
       "      <td>490.0</td>\n",
       "      <td>0.0053</td>\n",
       "    </tr>\n",
       "  </tbody>\n",
       "</table>\n",
       "</div>"
      ],
      "text/plain": [
       "        Original tested against  Test Statistic  p-value\n",
       "0        list_answer_no_refusal           392.0   1.0000\n",
       "1         list_answer_no_middle             0.0   0.0000\n",
       "2  list_answer_options_reversed           784.0   0.0000\n",
       "3                 question_typo           420.0   0.1610\n",
       "4          question_letter_swap           644.0   0.0000\n",
       "5              question_synonym           742.0   0.0000\n",
       "6          question_paraphrased           490.0   0.0053"
      ]
     },
     "metadata": {},
     "output_type": "display_data"
    }
   ],
   "source": [
    "baseline = test_interviews_gemini[(test_interviews_gemini[\"question_ID\"]== \"Q210\") & (test_interviews_gemini[\"Type\"]== \"list_answer_options\")][\"Response Label\"].array\n",
    "\n",
    "test_results = []\n",
    "\n",
    "for i in all_perturbation_columns:\n",
    "    test_against = test_interviews_gemini[(test_interviews_gemini[\"question_ID\"]== \"Q210\") & (test_interviews_gemini[\"Type\"]== i)][\"Response Label\"].array\n",
    "    test_statistic = sci.stats.mannwhitneyu(baseline, test_against)[0]\n",
    "    pval = round(sci.stats.mannwhitneyu(baseline, test_against)[1],4)\n",
    "    test_result = [i, test_statistic, pval]\n",
    "    test_results.append(test_result)\n",
    "\n",
    "column_names = [\"Original tested against\", \"Test Statistic\", \"p-value\"]\n",
    "test_results = pd.DataFrame(test_results, columns=column_names)\n",
    "test_results"
   ]
  },
  {
   "cell_type": "markdown",
   "metadata": {},
   "source": [
    "#### t-test\n",
    "\n",
    "This is a test for the null hypothesis that 2 independent samples have identical average (expected) values. This test assumes that the populations have identical variances by default."
   ]
  },
  {
   "cell_type": "code",
   "execution_count": null,
   "metadata": {},
   "outputs": [
    {
     "name": "stderr",
     "output_type": "stream",
     "text": [
      "c:\\Users\\ruppr\\OneDrive - Universität Mannheim\\Master thesis\\HuBiLa\\hubila\\Lib\\site-packages\\scipy\\stats\\_axis_nan_policy.py:573: RuntimeWarning: Precision loss occurred in moment calculation due to catastrophic cancellation. This occurs when the data are nearly identical. Results may be unreliable.\n",
      "  res = hypotest_fun_out(*samples, **kwds)\n"
     ]
    },
    {
     "data": {
      "text/html": [
       "<div>\n",
       "<style scoped>\n",
       "    .dataframe tbody tr th:only-of-type {\n",
       "        vertical-align: middle;\n",
       "    }\n",
       "\n",
       "    .dataframe tbody tr th {\n",
       "        vertical-align: top;\n",
       "    }\n",
       "\n",
       "    .dataframe thead th {\n",
       "        text-align: right;\n",
       "    }\n",
       "</style>\n",
       "<table border=\"1\" class=\"dataframe\">\n",
       "  <thead>\n",
       "    <tr style=\"text-align: right;\">\n",
       "      <th></th>\n",
       "      <th>Original tested against</th>\n",
       "      <th>Test Statistic</th>\n",
       "      <th>p-value</th>\n",
       "    </tr>\n",
       "  </thead>\n",
       "  <tbody>\n",
       "    <tr>\n",
       "      <th>0</th>\n",
       "      <td>list_answer_no_refusal</td>\n",
       "      <td>NaN</td>\n",
       "      <td>NaN</td>\n",
       "    </tr>\n",
       "    <tr>\n",
       "      <th>1</th>\n",
       "      <td>list_answer_no_middle</td>\n",
       "      <td>-inf</td>\n",
       "      <td>0.0000</td>\n",
       "    </tr>\n",
       "    <tr>\n",
       "      <th>2</th>\n",
       "      <td>list_answer_options_reversed</td>\n",
       "      <td>inf</td>\n",
       "      <td>0.0000</td>\n",
       "    </tr>\n",
       "    <tr>\n",
       "      <th>3</th>\n",
       "      <td>question_typo</td>\n",
       "      <td>1.441153</td>\n",
       "      <td>0.1553</td>\n",
       "    </tr>\n",
       "    <tr>\n",
       "      <th>4</th>\n",
       "      <td>question_letter_swap</td>\n",
       "      <td>6.971370</td>\n",
       "      <td>0.0000</td>\n",
       "    </tr>\n",
       "    <tr>\n",
       "      <th>5</th>\n",
       "      <td>question_synonym</td>\n",
       "      <td>15.000000</td>\n",
       "      <td>0.0000</td>\n",
       "    </tr>\n",
       "    <tr>\n",
       "      <th>6</th>\n",
       "      <td>question_paraphrased</td>\n",
       "      <td>3.000000</td>\n",
       "      <td>0.0041</td>\n",
       "    </tr>\n",
       "  </tbody>\n",
       "</table>\n",
       "</div>"
      ],
      "text/plain": [
       "        Original tested against  Test Statistic  p-value\n",
       "0        list_answer_no_refusal             NaN      NaN\n",
       "1         list_answer_no_middle            -inf   0.0000\n",
       "2  list_answer_options_reversed             inf   0.0000\n",
       "3                 question_typo        1.441153   0.1553\n",
       "4          question_letter_swap        6.971370   0.0000\n",
       "5              question_synonym       15.000000   0.0000\n",
       "6          question_paraphrased        3.000000   0.0041"
      ]
     },
     "metadata": {},
     "output_type": "display_data"
    }
   ],
   "source": [
    "baseline = test_interviews_gemini[(test_interviews_gemini[\"question_ID\"]== \"Q210\") & (test_interviews_gemini[\"Type\"]== \"list_answer_options\")][\"Response Label\"].array\n",
    "\n",
    "test_results = []\n",
    "\n",
    "for i in all_perturbation_columns:\n",
    "    test_against = test_interviews_gemini[(test_interviews_gemini[\"question_ID\"]== \"Q210\") & (test_interviews_gemini[\"Type\"]== i)][\"Response Label\"].array\n",
    "    test_statistic = sci.stats.ttest_ind(baseline, test_against)[0]\n",
    "    pval = round(sci.stats.ttest_ind(baseline, test_against)[1],4)\n",
    "    test_result = [i, test_statistic, pval]\n",
    "    test_results.append(test_result)\n",
    "\n",
    "column_names = [\"Original tested against\", \"Test Statistic\", \"p-value\"]\n",
    "test_results = pd.DataFrame(test_results, columns=column_names)\n",
    "test_results"
   ]
  },
  {
   "cell_type": "markdown",
   "metadata": {},
   "source": [
    "#### Chi squared - test \n",
    "\n",
    "Pearson’s Chi-Square is a statistical hypothesis test for independence between categorical variables."
   ]
  },
  {
   "cell_type": "code",
   "execution_count": null,
   "metadata": {},
   "outputs": [
    {
     "data": {
      "text/html": [
       "<div>\n",
       "<style scoped>\n",
       "    .dataframe tbody tr th:only-of-type {\n",
       "        vertical-align: middle;\n",
       "    }\n",
       "\n",
       "    .dataframe tbody tr th {\n",
       "        vertical-align: top;\n",
       "    }\n",
       "\n",
       "    .dataframe thead th {\n",
       "        text-align: right;\n",
       "    }\n",
       "</style>\n",
       "<table border=\"1\" class=\"dataframe\">\n",
       "  <thead>\n",
       "    <tr style=\"text-align: right;\">\n",
       "      <th></th>\n",
       "      <th>Original tested against</th>\n",
       "      <th>Test Statistic</th>\n",
       "      <th>p-value</th>\n",
       "    </tr>\n",
       "  </thead>\n",
       "  <tbody>\n",
       "    <tr>\n",
       "      <th>0</th>\n",
       "      <td>list_answer_no_refusal</td>\n",
       "      <td>0.0</td>\n",
       "      <td>1.0</td>\n",
       "    </tr>\n",
       "    <tr>\n",
       "      <th>1</th>\n",
       "      <td>list_answer_no_middle</td>\n",
       "      <td>NaN</td>\n",
       "      <td>NaN</td>\n",
       "    </tr>\n",
       "    <tr>\n",
       "      <th>2</th>\n",
       "      <td>list_answer_options_reversed</td>\n",
       "      <td>NaN</td>\n",
       "      <td>NaN</td>\n",
       "    </tr>\n",
       "    <tr>\n",
       "      <th>3</th>\n",
       "      <td>question_typo</td>\n",
       "      <td>NaN</td>\n",
       "      <td>NaN</td>\n",
       "    </tr>\n",
       "    <tr>\n",
       "      <th>4</th>\n",
       "      <td>question_letter_swap</td>\n",
       "      <td>NaN</td>\n",
       "      <td>NaN</td>\n",
       "    </tr>\n",
       "    <tr>\n",
       "      <th>5</th>\n",
       "      <td>question_synonym</td>\n",
       "      <td>112.5</td>\n",
       "      <td>0.0</td>\n",
       "    </tr>\n",
       "    <tr>\n",
       "      <th>6</th>\n",
       "      <td>question_paraphrased</td>\n",
       "      <td>NaN</td>\n",
       "      <td>NaN</td>\n",
       "    </tr>\n",
       "  </tbody>\n",
       "</table>\n",
       "</div>"
      ],
      "text/plain": [
       "        Original tested against  Test Statistic  p-value\n",
       "0        list_answer_no_refusal             0.0      1.0\n",
       "1         list_answer_no_middle             NaN      NaN\n",
       "2  list_answer_options_reversed             NaN      NaN\n",
       "3                 question_typo             NaN      NaN\n",
       "4          question_letter_swap             NaN      NaN\n",
       "5              question_synonym           112.5      0.0\n",
       "6          question_paraphrased             NaN      NaN"
      ]
     },
     "metadata": {},
     "output_type": "display_data"
    }
   ],
   "source": [
    "baseline = test_interviews_gemini[(test_interviews_gemini[\"question_ID\"]== \"Q210\") & (test_interviews_gemini[\"Type\"]== \"list_answer_options\")][\"Response Label\"].array\n",
    "\n",
    "test_results = []\n",
    "\n",
    "for i in all_perturbation_columns:\n",
    "    test_against = test_interviews_gemini[(test_interviews_gemini[\"question_ID\"]== \"Q210\") & (test_interviews_gemini[\"Type\"]== i)][\"Response Label\"].array\n",
    "    try:\n",
    "        test_statistic = sci.stats.chisquare(f_exp=baseline, f_obs=test_against)[0]\n",
    "        pval = round(sci.stats.chisquare(f_exp=baseline, f_obs=test_against)[1],4)\n",
    "    except: \n",
    "        test_statistic = np.nan\n",
    "        pval = np.nan\n",
    "    test_result = [i, test_statistic, pval]\n",
    "    test_results.append(test_result)\n",
    "\n",
    "column_names = [\"Original tested against\", \"Test Statistic\", \"p-value\"]\n",
    "test_results = pd.DataFrame(test_results, columns=column_names)\n",
    "test_results"
   ]
  },
  {
   "cell_type": "code",
   "execution_count": null,
   "metadata": {},
   "outputs": [
    {
     "data": {
      "image/png": "[encoded data removed]",
      "text/plain": [
       "<Figure size 707.25x500 with 1 Axes>"
      ]
     },
     "metadata": {},
     "output_type": "display_data"
    }
   ],
   "source": [
    "bar = sns.displot(test_interviews_gemini[(test_interviews_gemini[\"question_ID\"]== \"Q210\") & (test_interviews_gemini[\"non_bias_perturbation\"]== 1)], \n",
    "                  x=\"Response Label\", hue=\"Type\", element=\"step\")\n"
   ]
  },
  {
   "cell_type": "code",
   "execution_count": null,
   "metadata": {},
   "outputs": [
    {
     "data": {
      "image/png": "[encoded data removed]",
      "text/plain": [
       "<Figure size 757.5x500 with 1 Axes>"
      ]
     },
     "metadata": {},
     "output_type": "display_data"
    }
   ],
   "source": [
    "import seaborn as sns\n",
    "import matplotlib.pyplot as plt\n",
    "\n",
    "bar = sns.displot(test_interviews_gemini[(test_interviews_gemini[\"question_ID\"]== \"Q210\") & (test_interviews_gemini[\"bias_perturbation\"]== 1)], \n",
    "                  x=\"Response Label\", hue=\"Type\", element=\"step\")\n"
   ]
  },
  {
   "cell_type": "code",
   "execution_count": null,
   "metadata": {},
   "outputs": [
    {
     "data": {
      "text/plain": [
       "array(['Q6', 'Q37', 'Q63', 'Q71', 'Q97', 'Q142', 'Q182', 'Q210', 'Q228',\n",
       "       'Q242'], dtype=object)"
      ]
     },
     "metadata": {},
     "output_type": "display_data"
    }
   ],
   "source": [
    "test_interviews_gemini[\"question_ID\"].unique()"
   ]
  },
  {
   "cell_type": "code",
   "execution_count": null,
   "metadata": {},
   "outputs": [
    {
     "name": "stdout",
     "output_type": "stream",
     "text": [
      "['Confidence: The Government I am going to name a number of organizations. For each one, could you tell me how much confidence you have in them: is it a great deal of confidence, quite a lot of confidence, not very much confidence or none at all? The governmentin your nationa capital']\n",
      "['[\\'1=A great deal \\', \\'2=Quite a lot \\', \\'3=Not very much \\', \\'4=None at all\\', \"-1=Don\\'t know\"]']\n",
      "Response Label                      -1         1         2    3\n",
      "Type                                                           \n",
      "list_answer_no_middle         0.000000  0.000000  0.000000  1.0\n",
      "list_answer_no_refusal        0.000000  0.000000  0.000000  1.0\n",
      "list_answer_options           1.000000  0.000000  0.000000  0.0\n",
      "list_answer_options_reversed  0.034483  0.931034  0.034483  0.0\n",
      "question_letter_swap          1.000000  0.000000  0.000000  0.0\n",
      "question_paraphrased          1.000000  0.000000  0.000000  0.0\n",
      "question_synonym              1.000000  0.000000  0.000000  0.0\n",
      "question_typo                 1.000000  0.000000  0.000000  0.0\n"
     ]
    }
   ],
   "source": [
    "# Frequency table for bias perturbations\n",
    "print(test_interviews_gemini[(test_interviews_gemini[\"question_ID\"]== \"Q71\") & (test_interviews_gemini[\"Type\"]== \"list_answer_options\")][\"question\"].unique())\n",
    "print(test_interviews_gemini[(test_interviews_gemini[\"question_ID\"]== \"Q71\") & (test_interviews_gemini[\"Type\"]== \"list_answer_options\")][\"answer_options\"].unique())\n",
    "\n",
    "# Group by 'type' and 'response_label', then count the occurrences\n",
    "freq_table = test_interviews_gemini[test_interviews_gemini[\"question_ID\"]== \"Q71\"].groupby(['Type', 'Response Label']).size().unstack(fill_value=0)\n",
    "\n",
    "# Convert absolute frequencies to relative frequencies by normalizing\n",
    "relative_freq_table = freq_table.div(freq_table.sum(axis=1), axis=0)\n",
    "\n",
    "# Display the relative frequency table\n",
    "print(relative_freq_table)"
   ]
  },
  {
   "cell_type": "code",
   "execution_count": null,
   "metadata": {},
   "outputs": [
    {
     "name": "stdout",
     "output_type": "stream",
     "text": [
      "['Trust: People of another nationality Ia like to ask you how much you trust people from various groups. Could you tell me for each whether you trust people from this group completely, somewhat, not very much or not at all? People of another nationality']\n",
      "['[\\'1=Trust completely \\', \\'2=Trust somewhat \\', \\'3=Do not trust very much \\', \\'4=Do not trust at all\\', \"-1=Don\\'t know\"]']\n",
      "Response Label                      -1         2\n",
      "Type                                            \n",
      "list_answer_no_middle         0.000000  1.000000\n",
      "list_answer_no_refusal        0.000000  1.000000\n",
      "list_answer_options           1.000000  0.000000\n",
      "list_answer_options_reversed  0.793103  0.206897\n",
      "question_letter_swap          1.000000  0.000000\n",
      "question_paraphrased          0.379310  0.620690\n",
      "question_synonym              1.000000  0.000000\n",
      "question_typo                 1.000000  0.000000\n"
     ]
    }
   ],
   "source": [
    "# Frequency table for bias perturbations\n",
    "print(test_interviews_gemini[(test_interviews_gemini[\"question_ID\"]== \"Q63\") & (test_interviews_gemini[\"Type\"]== \"list_answer_options\")][\"question\"].unique())\n",
    "print(test_interviews_gemini[(test_interviews_gemini[\"question_ID\"]== \"Q63\") & (test_interviews_gemini[\"Type\"]== \"list_answer_options\")][\"answer_options\"].unique())\n",
    "\n",
    "# Group by 'type' and 'response_label', then count the occurrences\n",
    "freq_table = test_interviews_gemini[test_interviews_gemini[\"question_ID\"]== \"Q63\"].groupby(['Type', 'Response Label']).size().unstack(fill_value=0)\n",
    "\n",
    "# Convert absolute frequencies to relative frequencies by normalizing\n",
    "relative_freq_table = freq_table.div(freq_table.sum(axis=1), axis=0)\n",
    "\n",
    "# Display the relative frequency table\n",
    "print(relative_freq_table)"
   ]
  },
  {
   "cell_type": "code",
   "execution_count": null,
   "metadata": {},
   "outputs": [
    {
     "name": "stdout",
     "output_type": "stream",
     "text": [
      "['How often in countryselections: Journalists provide fair coverage of elections In your view, how often do the following things occur in this countryselections? Journalists provide fair coverage of elections']\n",
      "['[\\'1=Very often \\', \\'2=Fairly often \\', \\'3=Not often \\', \\'4=Not at all often\\', \"-1=Don\\'t know\"]']\n",
      "Response Label                 -1    2    3\n",
      "Type                                       \n",
      "list_answer_no_middle         0.0  0.0  1.0\n",
      "list_answer_no_refusal        0.0  0.0  1.0\n",
      "list_answer_options           1.0  0.0  0.0\n",
      "list_answer_options_reversed  0.0  1.0  0.0\n",
      "question_letter_swap          1.0  0.0  0.0\n",
      "question_paraphrased          1.0  0.0  0.0\n",
      "question_synonym              1.0  0.0  0.0\n",
      "question_typo                 1.0  0.0  0.0\n"
     ]
    }
   ],
   "source": [
    "# Frequency table for bias perturbations\n",
    "print(test_interviews_gemini[(test_interviews_gemini[\"question_ID\"]== \"Q228\") & (test_interviews_gemini[\"Type\"]== \"list_answer_options\")][\"question\"].unique())\n",
    "print(test_interviews_gemini[(test_interviews_gemini[\"question_ID\"]== \"Q228\") & (test_interviews_gemini[\"Type\"]== \"list_answer_options\")][\"answer_options\"].unique())\n",
    "\n",
    "# Group by 'type' and 'response_label', then count the occurrences\n",
    "freq_table = test_interviews_gemini[test_interviews_gemini[\"question_ID\"]== \"Q228\"].groupby(['Type', 'Response Label']).size().unstack(fill_value=0)\n",
    "\n",
    "# Convert absolute frequencies to relative frequencies by normalizing\n",
    "relative_freq_table = freq_table.div(freq_table.sum(axis=1), axis=0)\n",
    "\n",
    "# Display the relative frequency table\n",
    "print(relative_freq_table)"
   ]
  },
  {
   "cell_type": "code",
   "execution_count": null,
   "metadata": {},
   "outputs": [
    {
     "name": "stdout",
     "output_type": "stream",
     "text": [
      "['Democracy: Religious authorities interpret the laws Please tell me for each of the following things how essential you think it is as a characteristic of democracy. Use this scale where a meansnot at all an essential characteristic of democracyand of means it definitely isan essential characteristic of democracy. Religious authorities interpret the laws']\n",
      "['[\\'1=Not an essential feature \\', \\'2 \\', \\'3 \\', \\'4 \\', \\'5 \\', \\'6 \\', \\'7 \\', \\'8 \\', \\'9 \\', \\'10=Essential feature\\', \"-1=Don\\'t know\"]']\n",
      "Response Label                  1\n",
      "Type                             \n",
      "list_answer_no_middle         1.0\n",
      "list_answer_no_refusal        1.0\n",
      "list_answer_options           1.0\n",
      "list_answer_options_reversed  1.0\n",
      "question_letter_swap          1.0\n",
      "question_paraphrased          1.0\n",
      "question_synonym              1.0\n",
      "question_typo                 1.0\n"
     ]
    }
   ],
   "source": [
    "# Frequency table for bias perturbations\n",
    "print(test_interviews_gemini[(test_interviews_gemini[\"question_ID\"]== \"Q242\") & (test_interviews_gemini[\"Type\"]== \"list_answer_options\")][\"question\"].unique())\n",
    "print(test_interviews_gemini[(test_interviews_gemini[\"question_ID\"]== \"Q242\") & (test_interviews_gemini[\"Type\"]== \"list_answer_options\")][\"answer_options\"].unique())\n",
    "\n",
    "# Group by 'type' and 'response_label', then count the occurrences\n",
    "freq_table = test_interviews_gemini[test_interviews_gemini[\"question_ID\"]== \"Q242\"].groupby(['Type', 'Response Label']).size().unstack(fill_value=0)\n",
    "\n",
    "# Convert absolute frequencies to relative frequencies by normalizing\n",
    "relative_freq_table = freq_table.div(freq_table.sum(axis=1), axis=0)\n",
    "\n",
    "# Display the relative frequency table\n",
    "print(relative_freq_table)"
   ]
  },
  {
   "cell_type": "code",
   "execution_count": null,
   "metadata": {},
   "outputs": [
    {
     "name": "stdout",
     "output_type": "stream",
     "text": [
      "Response Label            -1      0      1      2      3      4      5      10\n",
      "Type                                                                          \n",
      "list_answer_no_refusal  0.000  0.111  0.107  0.218  0.397  0.076  0.034  0.057\n",
      "list_answer_options     0.502  0.102  0.098  0.098  0.098  0.000  0.102  0.000\n",
      "\\begin{tabular}{lrrrrrrrr}\n",
      "\\toprule\n",
      "Response Label & -1 & 0 & 1 & 2 & 3 & 4 & 5 & 10 \\\\\n",
      "Type &  &  &  &  &  &  &  &  \\\\\n",
      "\\midrule\n",
      "list_answer_no_refusal & 0.000000 & 0.111000 & 0.107000 & 0.218000 & 0.397000 & 0.076000 & 0.034000 & 0.057000 \\\\\n",
      "list_answer_options & 0.502000 & 0.102000 & 0.098000 & 0.098000 & 0.098000 & 0.000000 & 0.102000 & 0.000000 \\\\\n",
      "\\bottomrule\n",
      "\\end{tabular}\n",
      "\n"
     ]
    }
   ],
   "source": [
    "### Response label comparison (Opinion Floating)\n",
    "# Group by 'Type' and 'Response Label', then count the occurrences\n",
    "freq_table = test_interviews_gemini[#(gemini_tmp00[\"question_ID\"]== \"Q37\") &\n",
    "                          (test_interviews_gemini[\"Type\"] == \"list_answer_options\") |\n",
    "                          #(gemini_tmp00[\"question_ID\"]== \"Q37\") &\n",
    "                          (test_interviews_gemini[\"Type\"] == \"list_answer_no_refusal\")].groupby(['Type', 'Response Label']).size().unstack(fill_value=0)\n",
    "\n",
    "# Convert absolute frequencies to relative frequencies by normalizing\n",
    "relative_freq_table = round(freq_table.div(freq_table.sum(axis=1), axis=0), 3)\n",
    "\n",
    "# Display the relative frequency table\n",
    "print(relative_freq_table)\n",
    "print(relative_freq_table.to_latex())"
   ]
  },
  {
   "cell_type": "markdown",
   "metadata": {},
   "source": [
    "## Mistral Analysis"
   ]
  },
  {
   "cell_type": "code",
   "execution_count": null,
   "metadata": {},
   "outputs": [
    {
     "name": "stdout",
     "output_type": "stream",
     "text": [
      "Length of test dataframe before cleaning NULL:  1280\n",
      "Length of test dataframe after cleaning NULL:  1280\n"
     ]
    }
   ],
   "source": [
    "# Gemini Test Interviews\n",
    "test_interviews_mistral = test_interviews_processed[test_interviews_processed[\"model_name\"] == \"Mistral-7B-Instruct-v0.3\"] \n",
    "\n",
    "# Every unsuccessful interview is excluded, tested by two len()-comparisons\n",
    "print(\"Length of test dataframe before cleaning NULL: \", len(test_interviews_mistral))\n",
    "test_interviews_mistral= test_interviews_mistral[test_interviews_mistral[\"Response Label\"].notnull()]\n",
    "print(\"Length of test dataframe after cleaning NULL: \", len(test_interviews_mistral))\n",
    "\n",
    "# convert response_label column to integers\n",
    "test_interviews_mistral[\"Response Label\"] = test_interviews_mistral[\"Response Label\"].astype(int)"
   ]
  },
  {
   "cell_type": "markdown",
   "metadata": {},
   "source": [
    "### Q142: Worry loosing my job or finding new job\n",
    "\n",
    "Question: Worries: Losing my job or not finding a job To what degree are you worried about the following situations? Losing my job or not finding a job\n",
    "\n",
    "Answer options: ['1=Very much ', '2=A good deal ', '3=Not much ', '4=Not at all', \"-1=Don't know\"]"
   ]
  },
  {
   "cell_type": "code",
   "execution_count": null,
   "metadata": {},
   "outputs": [
    {
     "name": "stdout",
     "output_type": "stream",
     "text": [
      "Relative frequencies:  Response Label               1         3\n",
      "Type                                    \n",
      "list_answer_options   0.058824  0.941176\n",
      "question_letter_swap  1.000000  0.000000\n",
      "question_paraphrased  1.000000  0.000000\n",
      "question_synonym      1.000000  0.000000\n",
      "question_typo         1.000000  0.000000\n",
      "\n",
      " Absolut frequencies:  Response Label         1   3\n",
      "Type                        \n",
      "list_answer_options    1  16\n",
      "question_letter_swap  17   0\n",
      "question_paraphrased  17   0\n",
      "question_synonym      17   0\n",
      "question_typo         17   0\n"
     ]
    }
   ],
   "source": [
    "# Frequency table for non-bias perturbations\n",
    "\n",
    "# Group by 'type' and 'response_label', then count the occurrences\n",
    "freq_table = test_interviews_mistral[(test_interviews_mistral[\"question_ID\"]== \"Q142\") & (test_interviews_mistral[\"non_bias_perturbation\"]== 1)].groupby(['Type', 'Response Label']).size().unstack(fill_value=0)\n",
    "\n",
    "# Convert absolute frequencies to relative frequencies by normalizing\n",
    "relative_freq_table = freq_table.div(freq_table.sum(axis=1), axis=0)\n",
    "\n",
    "# Display the absolut &  relative frequency table\n",
    "print(\"Relative frequencies: \", relative_freq_table)\n",
    "\n",
    "print(\"\\n Absolut frequencies: \", freq_table)"
   ]
  },
  {
   "cell_type": "code",
   "execution_count": null,
   "metadata": {},
   "outputs": [
    {
     "name": "stdout",
     "output_type": "stream",
     "text": [
      "Relative frequencies:  Response Label                       1         3         4\n",
      "Type                                                      \n",
      "list_answer_no_middle         1.000000  0.000000  0.000000\n",
      "list_answer_no_refusal        1.000000  0.000000  0.000000\n",
      "list_answer_options           0.058824  0.941176  0.000000\n",
      "list_answer_options_reversed  0.058824  0.000000  0.941176\n",
      "Absolut frequencies:  Response Label                 1   3   4\n",
      "Type                                    \n",
      "list_answer_no_middle         17   0   0\n",
      "list_answer_no_refusal        17   0   0\n",
      "list_answer_options            1  16   0\n",
      "list_answer_options_reversed   1   0  16\n"
     ]
    }
   ],
   "source": [
    "# Frequency table for bias perturbations\n",
    "\n",
    "# Group by 'type' and 'response_label', then count the occurrences\n",
    "freq_table = test_interviews_mistral[(test_interviews_mistral[\"question_ID\"]== \"Q142\") & (test_interviews_mistral[\"bias_perturbation\"]== 1)].groupby(['Type', 'Response Label']).size().unstack(fill_value=0)\n",
    "\n",
    "# Convert absolute frequencies to relative frequencies by normalizing\n",
    "relative_freq_table = freq_table.div(freq_table.sum(axis=1), axis=0)\n",
    "\n",
    "# Display the absolut &  relative frequency table\n",
    "print(\"Relative frequencies: \", relative_freq_table)\n",
    "\n",
    "print(\"Absolut frequencies: \", freq_table)"
   ]
  },
  {
   "cell_type": "markdown",
   "metadata": {},
   "source": [
    "#### Wilcoxon-Mann-Whitney test\n",
    "The Wilcoxon-Mann-Whitney test is a non-parametric analog to the independent samples t-test and can be used when you do not assume that the dependent variable is a normally distributed interval variable (you only assume that the variable is at least ordinal)"
   ]
  },
  {
   "cell_type": "code",
   "execution_count": null,
   "metadata": {},
   "outputs": [
    {
     "data": {
      "text/html": [
       "<div>\n",
       "<style scoped>\n",
       "    .dataframe tbody tr th:only-of-type {\n",
       "        vertical-align: middle;\n",
       "    }\n",
       "\n",
       "    .dataframe tbody tr th {\n",
       "        vertical-align: top;\n",
       "    }\n",
       "\n",
       "    .dataframe thead th {\n",
       "        text-align: right;\n",
       "    }\n",
       "</style>\n",
       "<table border=\"1\" class=\"dataframe\">\n",
       "  <thead>\n",
       "    <tr style=\"text-align: right;\">\n",
       "      <th></th>\n",
       "      <th>Original tested against</th>\n",
       "      <th>Test Statistic</th>\n",
       "      <th>p-value</th>\n",
       "    </tr>\n",
       "  </thead>\n",
       "  <tbody>\n",
       "    <tr>\n",
       "      <th>0</th>\n",
       "      <td>list_answer_no_refusal</td>\n",
       "      <td>280.5</td>\n",
       "      <td>0.0</td>\n",
       "    </tr>\n",
       "    <tr>\n",
       "      <th>1</th>\n",
       "      <td>list_answer_no_middle</td>\n",
       "      <td>280.5</td>\n",
       "      <td>0.0</td>\n",
       "    </tr>\n",
       "    <tr>\n",
       "      <th>2</th>\n",
       "      <td>list_answer_options_reversed</td>\n",
       "      <td>16.5</td>\n",
       "      <td>0.0</td>\n",
       "    </tr>\n",
       "    <tr>\n",
       "      <th>3</th>\n",
       "      <td>question_typo</td>\n",
       "      <td>280.5</td>\n",
       "      <td>0.0</td>\n",
       "    </tr>\n",
       "    <tr>\n",
       "      <th>4</th>\n",
       "      <td>question_letter_swap</td>\n",
       "      <td>280.5</td>\n",
       "      <td>0.0</td>\n",
       "    </tr>\n",
       "    <tr>\n",
       "      <th>5</th>\n",
       "      <td>question_synonym</td>\n",
       "      <td>280.5</td>\n",
       "      <td>0.0</td>\n",
       "    </tr>\n",
       "    <tr>\n",
       "      <th>6</th>\n",
       "      <td>question_paraphrased</td>\n",
       "      <td>280.5</td>\n",
       "      <td>0.0</td>\n",
       "    </tr>\n",
       "  </tbody>\n",
       "</table>\n",
       "</div>"
      ],
      "text/plain": [
       "        Original tested against  Test Statistic  p-value\n",
       "0        list_answer_no_refusal           280.5      0.0\n",
       "1         list_answer_no_middle           280.5      0.0\n",
       "2  list_answer_options_reversed            16.5      0.0\n",
       "3                 question_typo           280.5      0.0\n",
       "4          question_letter_swap           280.5      0.0\n",
       "5              question_synonym           280.5      0.0\n",
       "6          question_paraphrased           280.5      0.0"
      ]
     },
     "metadata": {},
     "output_type": "display_data"
    }
   ],
   "source": [
    "baseline = test_interviews_mistral[(test_interviews_mistral[\"question_ID\"]== \"Q142\") & (test_interviews_mistral[\"Type\"]== \"list_answer_options\")][\"Response Label\"].array\n",
    "\n",
    "test_results = []\n",
    "\n",
    "for i in all_perturbation_columns:\n",
    "    test_against = test_interviews_mistral[(test_interviews_mistral[\"question_ID\"]== \"Q142\") & (test_interviews_mistral[\"Type\"]== i)][\"Response Label\"].array\n",
    "    test_statistic = sci.stats.mannwhitneyu(baseline, test_against)[0]\n",
    "    pval = round(sci.stats.mannwhitneyu(baseline, test_against)[1],4)\n",
    "    test_result = [i, test_statistic, pval]\n",
    "    test_results.append(test_result)\n",
    "\n",
    "column_names = [\"Original tested against\", \"Test Statistic\", \"p-value\"]\n",
    "test_results = pd.DataFrame(test_results, columns=column_names)\n",
    "test_results"
   ]
  },
  {
   "cell_type": "markdown",
   "metadata": {},
   "source": [
    "#### t-test\n",
    "\n",
    "This is a test for the null hypothesis that 2 independent samples have identical average (expected) values. This test assumes that the populations have identical variances by default."
   ]
  },
  {
   "cell_type": "code",
   "execution_count": null,
   "metadata": {},
   "outputs": [
    {
     "name": "stderr",
     "output_type": "stream",
     "text": [
      "c:\\Users\\ruppr\\OneDrive - Universität Mannheim\\Master thesis\\HuBiLa\\hubila\\Lib\\site-packages\\scipy\\stats\\_axis_nan_policy.py:573: RuntimeWarning: Precision loss occurred in moment calculation due to catastrophic cancellation. This occurs when the data are nearly identical. Results may be unreliable.\n",
      "  res = hypotest_fun_out(*samples, **kwds)\n"
     ]
    },
    {
     "data": {
      "text/html": [
       "<div>\n",
       "<style scoped>\n",
       "    .dataframe tbody tr th:only-of-type {\n",
       "        vertical-align: middle;\n",
       "    }\n",
       "\n",
       "    .dataframe tbody tr th {\n",
       "        vertical-align: top;\n",
       "    }\n",
       "\n",
       "    .dataframe thead th {\n",
       "        text-align: right;\n",
       "    }\n",
       "</style>\n",
       "<table border=\"1\" class=\"dataframe\">\n",
       "  <thead>\n",
       "    <tr style=\"text-align: right;\">\n",
       "      <th></th>\n",
       "      <th>Original tested against</th>\n",
       "      <th>Test Statistic</th>\n",
       "      <th>p-value</th>\n",
       "    </tr>\n",
       "  </thead>\n",
       "  <tbody>\n",
       "    <tr>\n",
       "      <th>0</th>\n",
       "      <td>list_answer_no_refusal</td>\n",
       "      <td>16.000000</td>\n",
       "      <td>0.0000</td>\n",
       "    </tr>\n",
       "    <tr>\n",
       "      <th>1</th>\n",
       "      <td>list_answer_no_middle</td>\n",
       "      <td>16.000000</td>\n",
       "      <td>0.0000</td>\n",
       "    </tr>\n",
       "    <tr>\n",
       "      <th>2</th>\n",
       "      <td>list_answer_options_reversed</td>\n",
       "      <td>-4.437602</td>\n",
       "      <td>0.0001</td>\n",
       "    </tr>\n",
       "    <tr>\n",
       "      <th>3</th>\n",
       "      <td>question_typo</td>\n",
       "      <td>16.000000</td>\n",
       "      <td>0.0000</td>\n",
       "    </tr>\n",
       "    <tr>\n",
       "      <th>4</th>\n",
       "      <td>question_letter_swap</td>\n",
       "      <td>16.000000</td>\n",
       "      <td>0.0000</td>\n",
       "    </tr>\n",
       "    <tr>\n",
       "      <th>5</th>\n",
       "      <td>question_synonym</td>\n",
       "      <td>16.000000</td>\n",
       "      <td>0.0000</td>\n",
       "    </tr>\n",
       "    <tr>\n",
       "      <th>6</th>\n",
       "      <td>question_paraphrased</td>\n",
       "      <td>16.000000</td>\n",
       "      <td>0.0000</td>\n",
       "    </tr>\n",
       "  </tbody>\n",
       "</table>\n",
       "</div>"
      ],
      "text/plain": [
       "        Original tested against  Test Statistic  p-value\n",
       "0        list_answer_no_refusal       16.000000   0.0000\n",
       "1         list_answer_no_middle       16.000000   0.0000\n",
       "2  list_answer_options_reversed       -4.437602   0.0001\n",
       "3                 question_typo       16.000000   0.0000\n",
       "4          question_letter_swap       16.000000   0.0000\n",
       "5              question_synonym       16.000000   0.0000\n",
       "6          question_paraphrased       16.000000   0.0000"
      ]
     },
     "metadata": {},
     "output_type": "display_data"
    }
   ],
   "source": [
    "baseline = test_interviews_mistral[(test_interviews_mistral[\"question_ID\"]== \"Q142\") & (test_interviews_mistral[\"Type\"]== \"list_answer_options\")][\"Response Label\"].array\n",
    "\n",
    "test_results = []\n",
    "\n",
    "for i in all_perturbation_columns:\n",
    "    test_against = test_interviews_mistral[(test_interviews_mistral[\"question_ID\"]== \"Q142\") & (test_interviews_mistral[\"Type\"]== i)][\"Response Label\"].array\n",
    "    test_statistic = sci.stats.ttest_ind(baseline, test_against)[0]\n",
    "    pval = round(sci.stats.ttest_ind(baseline, test_against)[1],4)\n",
    "    test_result = [i, test_statistic, pval]\n",
    "    test_results.append(test_result)\n",
    "\n",
    "column_names = [\"Original tested against\", \"Test Statistic\", \"p-value\"]\n",
    "test_results = pd.DataFrame(test_results, columns=column_names)\n",
    "test_results"
   ]
  },
  {
   "cell_type": "markdown",
   "metadata": {},
   "source": [
    "#### Chi squared - test \n",
    "\n",
    "Pearson’s Chi-Square is a statistical hypothesis test for independence between categorical variables."
   ]
  },
  {
   "cell_type": "code",
   "execution_count": null,
   "metadata": {},
   "outputs": [
    {
     "data": {
      "text/html": [
       "<div>\n",
       "<style scoped>\n",
       "    .dataframe tbody tr th:only-of-type {\n",
       "        vertical-align: middle;\n",
       "    }\n",
       "\n",
       "    .dataframe tbody tr th {\n",
       "        vertical-align: top;\n",
       "    }\n",
       "\n",
       "    .dataframe thead th {\n",
       "        text-align: right;\n",
       "    }\n",
       "</style>\n",
       "<table border=\"1\" class=\"dataframe\">\n",
       "  <thead>\n",
       "    <tr style=\"text-align: right;\">\n",
       "      <th></th>\n",
       "      <th>Original tested against</th>\n",
       "      <th>Test Statistic</th>\n",
       "      <th>p-value</th>\n",
       "    </tr>\n",
       "  </thead>\n",
       "  <tbody>\n",
       "    <tr>\n",
       "      <th>0</th>\n",
       "      <td>list_answer_no_refusal</td>\n",
       "      <td>NaN</td>\n",
       "      <td>NaN</td>\n",
       "    </tr>\n",
       "    <tr>\n",
       "      <th>1</th>\n",
       "      <td>list_answer_no_middle</td>\n",
       "      <td>NaN</td>\n",
       "      <td>NaN</td>\n",
       "    </tr>\n",
       "    <tr>\n",
       "      <th>2</th>\n",
       "      <td>list_answer_options_reversed</td>\n",
       "      <td>NaN</td>\n",
       "      <td>NaN</td>\n",
       "    </tr>\n",
       "    <tr>\n",
       "      <th>3</th>\n",
       "      <td>question_typo</td>\n",
       "      <td>NaN</td>\n",
       "      <td>NaN</td>\n",
       "    </tr>\n",
       "    <tr>\n",
       "      <th>4</th>\n",
       "      <td>question_letter_swap</td>\n",
       "      <td>NaN</td>\n",
       "      <td>NaN</td>\n",
       "    </tr>\n",
       "    <tr>\n",
       "      <th>5</th>\n",
       "      <td>question_synonym</td>\n",
       "      <td>NaN</td>\n",
       "      <td>NaN</td>\n",
       "    </tr>\n",
       "    <tr>\n",
       "      <th>6</th>\n",
       "      <td>question_paraphrased</td>\n",
       "      <td>NaN</td>\n",
       "      <td>NaN</td>\n",
       "    </tr>\n",
       "  </tbody>\n",
       "</table>\n",
       "</div>"
      ],
      "text/plain": [
       "        Original tested against  Test Statistic  p-value\n",
       "0        list_answer_no_refusal             NaN      NaN\n",
       "1         list_answer_no_middle             NaN      NaN\n",
       "2  list_answer_options_reversed             NaN      NaN\n",
       "3                 question_typo             NaN      NaN\n",
       "4          question_letter_swap             NaN      NaN\n",
       "5              question_synonym             NaN      NaN\n",
       "6          question_paraphrased             NaN      NaN"
      ]
     },
     "metadata": {},
     "output_type": "display_data"
    }
   ],
   "source": [
    "baseline = test_interviews_mistral[(test_interviews_mistral[\"question_ID\"]== \"Q142\") & (test_interviews_mistral[\"Type\"]== \"list_answer_options\")][\"Response Label\"].array\n",
    "\n",
    "test_results = []\n",
    "\n",
    "for i in all_perturbation_columns:\n",
    "    test_against = test_interviews_mistral[(test_interviews_mistral[\"question_ID\"]== \"Q142\") & (test_interviews_mistral[\"Type\"]== i)][\"Response Label\"].array\n",
    "    try:\n",
    "        test_statistic = sci.stats.chisquare(f_exp=baseline, f_obs=test_against)[0]\n",
    "        pval = round(sci.stats.chisquare(f_exp=baseline, f_obs=test_against)[1],4)\n",
    "    except: \n",
    "        test_statistic = np.nan\n",
    "        pval = np.nan\n",
    "    test_result = [i, test_statistic, pval]\n",
    "    test_results.append(test_result)\n",
    "\n",
    "column_names = [\"Original tested against\", \"Test Statistic\", \"p-value\"]\n",
    "test_results = pd.DataFrame(test_results, columns=column_names)\n",
    "test_results"
   ]
  },
  {
   "cell_type": "markdown",
   "metadata": {},
   "source": [
    "### Q242: Religious authorities interpreting laws\n",
    "\n",
    "Question: Democracy: Religious authorities interpret the laws Please tell me for each of the following things how essential you think it is as a characteristic of democracy. Use this scale where a meansnot at all an essential characteristic of democracyand of means it definitely isan essential characteristic of democracy. Religious authorities interpret the laws\n",
    "\n",
    "Answer options: ['1=Not an essential feature ', '2 ', '3 ', '4 ', '5 ', '6 ', '7 ', '8 ', '9 ', '10=Essential feature', \"-1=Don't know\"]"
   ]
  },
  {
   "cell_type": "code",
   "execution_count": null,
   "metadata": {},
   "outputs": [
    {
     "name": "stdout",
     "output_type": "stream",
     "text": [
      "Relative frequencies:  Response Label              1         2    5         10\n",
      "Type                                                   \n",
      "list_answer_options   0.000000  0.000000  1.0  0.000000\n",
      "question_letter_swap  1.000000  0.000000  0.0  0.000000\n",
      "question_paraphrased  0.923077  0.000000  0.0  0.076923\n",
      "question_synonym      0.923077  0.076923  0.0  0.000000\n",
      "question_typo         0.923077  0.000000  0.0  0.076923\n",
      "Absolut frequencies:  Response Label        1   2   5   10\n",
      "Type                                \n",
      "list_answer_options    0   0  13   0\n",
      "question_letter_swap  13   0   0   0\n",
      "question_paraphrased  12   0   0   1\n",
      "question_synonym      12   1   0   0\n",
      "question_typo         12   0   0   1\n"
     ]
    }
   ],
   "source": [
    "# Frequency table for non-bias perturbations\n",
    "\n",
    "# Group by 'type' and 'response_label', then count the occurrences\n",
    "freq_table = test_interviews_mistral[(test_interviews_mistral[\"question_ID\"]== \"Q242\") & (test_interviews_mistral[\"non_bias_perturbation\"]== 1)].groupby(['Type', 'Response Label']).size().unstack(fill_value=0)\n",
    "\n",
    "# Convert absolute frequencies to relative frequencies by normalizing\n",
    "relative_freq_table = freq_table.div(freq_table.sum(axis=1), axis=0)\n",
    "\n",
    "# Display the relative frequency table\n",
    "print(\"Relative frequencies: \", relative_freq_table)\n",
    "\n",
    "print(\"Absolut frequencies: \", freq_table)"
   ]
  },
  {
   "cell_type": "code",
   "execution_count": null,
   "metadata": {},
   "outputs": [
    {
     "name": "stdout",
     "output_type": "stream",
     "text": [
      "Response Label                  5         6         7    9\n",
      "Type                                                      \n",
      "list_answer_no_middle         0.0  0.923077  0.076923  0.0\n",
      "list_answer_no_refusal        0.0  0.923077  0.076923  0.0\n",
      "list_answer_options           1.0  0.000000  0.000000  0.0\n",
      "list_answer_options_reversed  0.0  0.000000  0.000000  1.0\n"
     ]
    }
   ],
   "source": [
    "# Frequency table for bias perturbations\n",
    "\n",
    "# Group by 'type' and 'response_label', then count the occurrences\n",
    "freq_table = test_interviews_mistral[(test_interviews_mistral[\"question_ID\"]== \"Q242\") & (test_interviews_mistral[\"bias_perturbation\"]== 1)].groupby(['Type', 'Response Label']).size().unstack(fill_value=0)\n",
    "\n",
    "# Convert absolute frequencies to relative frequencies by normalizing\n",
    "relative_freq_table = freq_table.div(freq_table.sum(axis=1), axis=0)\n",
    "\n",
    "# Display the relative frequency table\n",
    "print(relative_freq_table)"
   ]
  },
  {
   "cell_type": "markdown",
   "metadata": {},
   "source": [
    "#### Wilcoxon-Mann-Whitney test\n",
    "The Wilcoxon-Mann-Whitney test is a non-parametric analog to the independent samples t-test and can be used when you do not assume that the dependent variable is a normally distributed interval variable (you only assume that the variable is at least ordinal)"
   ]
  },
  {
   "cell_type": "code",
   "execution_count": null,
   "metadata": {},
   "outputs": [
    {
     "data": {
      "text/html": [
       "<div>\n",
       "<style scoped>\n",
       "    .dataframe tbody tr th:only-of-type {\n",
       "        vertical-align: middle;\n",
       "    }\n",
       "\n",
       "    .dataframe tbody tr th {\n",
       "        vertical-align: top;\n",
       "    }\n",
       "\n",
       "    .dataframe thead th {\n",
       "        text-align: right;\n",
       "    }\n",
       "</style>\n",
       "<table border=\"1\" class=\"dataframe\">\n",
       "  <thead>\n",
       "    <tr style=\"text-align: right;\">\n",
       "      <th></th>\n",
       "      <th>Original tested against</th>\n",
       "      <th>Test Statistic</th>\n",
       "      <th>p-value</th>\n",
       "    </tr>\n",
       "  </thead>\n",
       "  <tbody>\n",
       "    <tr>\n",
       "      <th>0</th>\n",
       "      <td>list_answer_no_refusal</td>\n",
       "      <td>0.0</td>\n",
       "      <td>0.0</td>\n",
       "    </tr>\n",
       "    <tr>\n",
       "      <th>1</th>\n",
       "      <td>list_answer_no_middle</td>\n",
       "      <td>0.0</td>\n",
       "      <td>0.0</td>\n",
       "    </tr>\n",
       "    <tr>\n",
       "      <th>2</th>\n",
       "      <td>list_answer_options_reversed</td>\n",
       "      <td>0.0</td>\n",
       "      <td>0.0</td>\n",
       "    </tr>\n",
       "    <tr>\n",
       "      <th>3</th>\n",
       "      <td>question_typo</td>\n",
       "      <td>156.0</td>\n",
       "      <td>0.0</td>\n",
       "    </tr>\n",
       "    <tr>\n",
       "      <th>4</th>\n",
       "      <td>question_letter_swap</td>\n",
       "      <td>169.0</td>\n",
       "      <td>0.0</td>\n",
       "    </tr>\n",
       "    <tr>\n",
       "      <th>5</th>\n",
       "      <td>question_synonym</td>\n",
       "      <td>169.0</td>\n",
       "      <td>0.0</td>\n",
       "    </tr>\n",
       "    <tr>\n",
       "      <th>6</th>\n",
       "      <td>question_paraphrased</td>\n",
       "      <td>156.0</td>\n",
       "      <td>0.0</td>\n",
       "    </tr>\n",
       "  </tbody>\n",
       "</table>\n",
       "</div>"
      ],
      "text/plain": [
       "        Original tested against  Test Statistic  p-value\n",
       "0        list_answer_no_refusal             0.0      0.0\n",
       "1         list_answer_no_middle             0.0      0.0\n",
       "2  list_answer_options_reversed             0.0      0.0\n",
       "3                 question_typo           156.0      0.0\n",
       "4          question_letter_swap           169.0      0.0\n",
       "5              question_synonym           169.0      0.0\n",
       "6          question_paraphrased           156.0      0.0"
      ]
     },
     "metadata": {},
     "output_type": "display_data"
    }
   ],
   "source": [
    "baseline = test_interviews_mistral[(test_interviews_mistral[\"question_ID\"]== \"Q242\") & (test_interviews_mistral[\"Type\"]== \"list_answer_options\")][\"Response Label\"].array\n",
    "\n",
    "test_results = []\n",
    "\n",
    "for i in all_perturbation_columns:\n",
    "    test_against = test_interviews_mistral[(test_interviews_mistral[\"question_ID\"]== \"Q242\") & (test_interviews_mistral[\"Type\"]== i)][\"Response Label\"].array\n",
    "    test_statistic = sci.stats.mannwhitneyu(baseline, test_against)[0]\n",
    "    pval = round(sci.stats.mannwhitneyu(baseline, test_against)[1],4)\n",
    "    test_result = [i, test_statistic, pval]\n",
    "    test_results.append(test_result)\n",
    "\n",
    "column_names = [\"Original tested against\", \"Test Statistic\", \"p-value\"]\n",
    "test_results = pd.DataFrame(test_results, columns=column_names)\n",
    "test_results"
   ]
  },
  {
   "cell_type": "markdown",
   "metadata": {},
   "source": [
    "#### t-test\n",
    "\n",
    "This is a test for the null hypothesis that 2 independent samples have identical average (expected) values. This test assumes that the populations have identical variances by default."
   ]
  },
  {
   "cell_type": "code",
   "execution_count": null,
   "metadata": {},
   "outputs": [
    {
     "name": "stderr",
     "output_type": "stream",
     "text": [
      "c:\\Users\\ruppr\\OneDrive - Universität Mannheim\\Master thesis\\HuBiLa\\hubila\\Lib\\site-packages\\scipy\\stats\\_axis_nan_policy.py:573: RuntimeWarning: Precision loss occurred in moment calculation due to catastrophic cancellation. This occurs when the data are nearly identical. Results may be unreliable.\n",
      "  res = hypotest_fun_out(*samples, **kwds)\n"
     ]
    },
    {
     "data": {
      "text/html": [
       "<div>\n",
       "<style scoped>\n",
       "    .dataframe tbody tr th:only-of-type {\n",
       "        vertical-align: middle;\n",
       "    }\n",
       "\n",
       "    .dataframe tbody tr th {\n",
       "        vertical-align: top;\n",
       "    }\n",
       "\n",
       "    .dataframe thead th {\n",
       "        text-align: right;\n",
       "    }\n",
       "</style>\n",
       "<table border=\"1\" class=\"dataframe\">\n",
       "  <thead>\n",
       "    <tr style=\"text-align: right;\">\n",
       "      <th></th>\n",
       "      <th>Original tested against</th>\n",
       "      <th>Test Statistic</th>\n",
       "      <th>p-value</th>\n",
       "    </tr>\n",
       "  </thead>\n",
       "  <tbody>\n",
       "    <tr>\n",
       "      <th>0</th>\n",
       "      <td>list_answer_no_refusal</td>\n",
       "      <td>-14.000000</td>\n",
       "      <td>0.0000</td>\n",
       "    </tr>\n",
       "    <tr>\n",
       "      <th>1</th>\n",
       "      <td>list_answer_no_middle</td>\n",
       "      <td>-14.000000</td>\n",
       "      <td>0.0000</td>\n",
       "    </tr>\n",
       "    <tr>\n",
       "      <th>2</th>\n",
       "      <td>list_answer_options_reversed</td>\n",
       "      <td>-inf</td>\n",
       "      <td>0.0000</td>\n",
       "    </tr>\n",
       "    <tr>\n",
       "      <th>3</th>\n",
       "      <td>question_typo</td>\n",
       "      <td>4.777778</td>\n",
       "      <td>0.0001</td>\n",
       "    </tr>\n",
       "    <tr>\n",
       "      <th>4</th>\n",
       "      <td>question_letter_swap</td>\n",
       "      <td>inf</td>\n",
       "      <td>0.0000</td>\n",
       "    </tr>\n",
       "    <tr>\n",
       "      <th>5</th>\n",
       "      <td>question_synonym</td>\n",
       "      <td>51.000000</td>\n",
       "      <td>0.0000</td>\n",
       "    </tr>\n",
       "    <tr>\n",
       "      <th>6</th>\n",
       "      <td>question_paraphrased</td>\n",
       "      <td>4.777778</td>\n",
       "      <td>0.0001</td>\n",
       "    </tr>\n",
       "  </tbody>\n",
       "</table>\n",
       "</div>"
      ],
      "text/plain": [
       "        Original tested against  Test Statistic  p-value\n",
       "0        list_answer_no_refusal      -14.000000   0.0000\n",
       "1         list_answer_no_middle      -14.000000   0.0000\n",
       "2  list_answer_options_reversed            -inf   0.0000\n",
       "3                 question_typo        4.777778   0.0001\n",
       "4          question_letter_swap             inf   0.0000\n",
       "5              question_synonym       51.000000   0.0000\n",
       "6          question_paraphrased        4.777778   0.0001"
      ]
     },
     "metadata": {},
     "output_type": "display_data"
    }
   ],
   "source": [
    "baseline = test_interviews_mistral[(test_interviews_mistral[\"question_ID\"]== \"Q242\") & (test_interviews_mistral[\"Type\"]== \"list_answer_options\")][\"Response Label\"].array\n",
    "\n",
    "test_results = []\n",
    "\n",
    "for i in all_perturbation_columns:\n",
    "    test_against = test_interviews_mistral[(test_interviews_mistral[\"question_ID\"]== \"Q242\") & (test_interviews_mistral[\"Type\"]== i)][\"Response Label\"].array\n",
    "    test_statistic = sci.stats.ttest_ind(baseline, test_against)[0]\n",
    "    pval = round(sci.stats.ttest_ind(baseline, test_against)[1],4)\n",
    "    test_result = [i, test_statistic, pval]\n",
    "    test_results.append(test_result)\n",
    "\n",
    "column_names = [\"Original tested against\", \"Test Statistic\", \"p-value\"]\n",
    "test_results = pd.DataFrame(test_results, columns=column_names)\n",
    "test_results"
   ]
  },
  {
   "cell_type": "markdown",
   "metadata": {},
   "source": [
    "#### Chi squared - test \n",
    "\n",
    "Pearson’s Chi-Square is a statistical hypothesis test for independence between categorical variables."
   ]
  },
  {
   "cell_type": "code",
   "execution_count": null,
   "metadata": {},
   "outputs": [
    {
     "data": {
      "text/html": [
       "<div>\n",
       "<style scoped>\n",
       "    .dataframe tbody tr th:only-of-type {\n",
       "        vertical-align: middle;\n",
       "    }\n",
       "\n",
       "    .dataframe tbody tr th {\n",
       "        vertical-align: top;\n",
       "    }\n",
       "\n",
       "    .dataframe thead th {\n",
       "        text-align: right;\n",
       "    }\n",
       "</style>\n",
       "<table border=\"1\" class=\"dataframe\">\n",
       "  <thead>\n",
       "    <tr style=\"text-align: right;\">\n",
       "      <th></th>\n",
       "      <th>Original tested against</th>\n",
       "      <th>Test Statistic</th>\n",
       "      <th>p-value</th>\n",
       "    </tr>\n",
       "  </thead>\n",
       "  <tbody>\n",
       "    <tr>\n",
       "      <th>0</th>\n",
       "      <td>list_answer_no_refusal</td>\n",
       "      <td>NaN</td>\n",
       "      <td>NaN</td>\n",
       "    </tr>\n",
       "    <tr>\n",
       "      <th>1</th>\n",
       "      <td>list_answer_no_middle</td>\n",
       "      <td>NaN</td>\n",
       "      <td>NaN</td>\n",
       "    </tr>\n",
       "    <tr>\n",
       "      <th>2</th>\n",
       "      <td>list_answer_options_reversed</td>\n",
       "      <td>NaN</td>\n",
       "      <td>NaN</td>\n",
       "    </tr>\n",
       "    <tr>\n",
       "      <th>3</th>\n",
       "      <td>question_typo</td>\n",
       "      <td>NaN</td>\n",
       "      <td>NaN</td>\n",
       "    </tr>\n",
       "    <tr>\n",
       "      <th>4</th>\n",
       "      <td>question_letter_swap</td>\n",
       "      <td>NaN</td>\n",
       "      <td>NaN</td>\n",
       "    </tr>\n",
       "    <tr>\n",
       "      <th>5</th>\n",
       "      <td>question_synonym</td>\n",
       "      <td>NaN</td>\n",
       "      <td>NaN</td>\n",
       "    </tr>\n",
       "    <tr>\n",
       "      <th>6</th>\n",
       "      <td>question_paraphrased</td>\n",
       "      <td>NaN</td>\n",
       "      <td>NaN</td>\n",
       "    </tr>\n",
       "  </tbody>\n",
       "</table>\n",
       "</div>"
      ],
      "text/plain": [
       "        Original tested against  Test Statistic  p-value\n",
       "0        list_answer_no_refusal             NaN      NaN\n",
       "1         list_answer_no_middle             NaN      NaN\n",
       "2  list_answer_options_reversed             NaN      NaN\n",
       "3                 question_typo             NaN      NaN\n",
       "4          question_letter_swap             NaN      NaN\n",
       "5              question_synonym             NaN      NaN\n",
       "6          question_paraphrased             NaN      NaN"
      ]
     },
     "metadata": {},
     "output_type": "display_data"
    }
   ],
   "source": [
    "baseline = test_interviews_mistral[(test_interviews_mistral[\"question_ID\"]== \"Q242\") & (test_interviews_mistral[\"Type\"]== \"list_answer_options\")][\"Response Label\"].array\n",
    "\n",
    "test_results = []\n",
    "\n",
    "for i in all_perturbation_columns:\n",
    "    test_against = test_interviews_mistral[(test_interviews_mistral[\"question_ID\"]== \"Q242\") & (test_interviews_mistral[\"Type\"]== i)][\"Response Label\"].array\n",
    "    try:\n",
    "        test_statistic = sci.stats.chisquare(f_exp=baseline, f_obs=test_against)[0]\n",
    "        pval = round(sci.stats.chisquare(f_exp=baseline, f_obs=test_against)[1],4)\n",
    "    except: \n",
    "        test_statistic = np.nan\n",
    "        pval = np.nan\n",
    "    test_result = [i, test_statistic, pval]\n",
    "    test_results.append(test_result)\n",
    "\n",
    "column_names = [\"Original tested against\", \"Test Statistic\", \"p-value\"]\n",
    "test_results = pd.DataFrame(test_results, columns=column_names)\n",
    "test_results"
   ]
  },
  {
   "cell_type": "markdown",
   "metadata": {},
   "source": [
    "### Q182: Duty to have children\n",
    "\n",
    "Question: Justifiable: Homosexuality Please tell me for each of the following statements whether you think it can always be justified, never be justified, or something in between, using this card. Homosexuality\n",
    "\n",
    "Answer options: ['1=Never justifiable ', '2 ', '3 ', '4 ', '5 ', '6 ', '7 ', '8 ', '9 ', '10=Always justifiable', \"-1=Don't know\"]"
   ]
  },
  {
   "cell_type": "code",
   "execution_count": null,
   "metadata": {},
   "outputs": [
    {
     "name": "stdout",
     "output_type": "stream",
     "text": [
      "Response Label              1         2         8         10\n",
      "Type                                                        \n",
      "list_answer_options   0.000000  1.000000  0.000000  0.000000\n",
      "question_letter_swap  0.058824  0.941176  0.000000  0.000000\n",
      "question_paraphrased  0.058824  0.000000  0.000000  0.941176\n",
      "question_synonym      1.000000  0.000000  0.000000  0.000000\n",
      "question_typo         0.000000  0.000000  0.941176  0.058824\n"
     ]
    }
   ],
   "source": [
    "# Frequency table for non-bias perturbations\n",
    "\n",
    "# Group by 'type' and 'response_label', then count the occurrences\n",
    "freq_table = test_interviews_mistral[(test_interviews_mistral[\"question_ID\"]== \"Q182\") & (test_interviews_mistral[\"non_bias_perturbation\"]== 1)].groupby(['Type', 'Response Label']).size().unstack(fill_value=0)\n",
    "\n",
    "# Convert absolute frequencies to relative frequencies by normalizing\n",
    "relative_freq_table = freq_table.div(freq_table.sum(axis=1), axis=0)\n",
    "\n",
    "# Display the relative frequency table\n",
    "print(relative_freq_table)"
   ]
  },
  {
   "cell_type": "code",
   "execution_count": null,
   "metadata": {},
   "outputs": [
    {
     "name": "stdout",
     "output_type": "stream",
     "text": [
      "Response Label                       1         2    9\n",
      "Type                                                 \n",
      "list_answer_no_middle         0.941176  0.058824  0.0\n",
      "list_answer_no_refusal        0.941176  0.058824  0.0\n",
      "list_answer_options           0.000000  1.000000  0.0\n",
      "list_answer_options_reversed  0.000000  0.000000  1.0\n"
     ]
    }
   ],
   "source": [
    "# Frequency table for bias perturbations\n",
    "\n",
    "# Group by 'type' and 'response_label', then count the occurrences\n",
    "freq_table = test_interviews_mistral[(test_interviews_mistral[\"question_ID\"]== \"Q182\") & (test_interviews_mistral[\"bias_perturbation\"]== 1)].groupby(['Type', 'Response Label']).size().unstack(fill_value=0)\n",
    "\n",
    "# Convert absolute frequencies to relative frequencies by normalizing\n",
    "relative_freq_table = freq_table.div(freq_table.sum(axis=1), axis=0)\n",
    "\n",
    "# Display the relative frequency table\n",
    "print(relative_freq_table)"
   ]
  },
  {
   "cell_type": "markdown",
   "metadata": {},
   "source": [
    "### Q37: Duty to have children\n",
    "\n",
    "Question: Duty towards society to have children Do you agree, disagree or neither agree nor disagree with the following statements? It is a duty towards society to have children\n",
    "\n",
    "Answer options: ['1=Strongly agree ', '2=Agree ', '3=Neither agree, nor disagree ', '4=Disagree ', '5=Strongly disagree', \"-1=Don't know\"]"
   ]
  },
  {
   "cell_type": "code",
   "execution_count": null,
   "metadata": {},
   "outputs": [
    {
     "name": "stdout",
     "output_type": "stream",
     "text": [
      "Response Label               1         2         3\n",
      "Type                                              \n",
      "list_answer_options   0.000000  0.058824  0.941176\n",
      "question_letter_swap  0.058824  0.000000  0.941176\n",
      "question_paraphrased  0.058824  0.000000  0.941176\n",
      "question_synonym      0.000000  0.058824  0.941176\n",
      "question_typo         0.058824  0.000000  0.941176\n"
     ]
    }
   ],
   "source": [
    "# Frequency table for non-bias perturbations\n",
    "\n",
    "# Group by 'type' and 'response_label', then count the occurrences\n",
    "freq_table = test_interviews_mistral[(test_interviews_mistral[\"question_ID\"]== \"Q37\") & (test_interviews_mistral[\"non_bias_perturbation\"]== 1)].groupby(['Type', 'Response Label']).size().unstack(fill_value=0)\n",
    "\n",
    "# Convert absolute frequencies to relative frequencies by normalizing\n",
    "relative_freq_table = freq_table.div(freq_table.sum(axis=1), axis=0)\n",
    "\n",
    "# Display the relative frequency table\n",
    "print(relative_freq_table)"
   ]
  },
  {
   "cell_type": "code",
   "execution_count": null,
   "metadata": {},
   "outputs": [
    {
     "name": "stdout",
     "output_type": "stream",
     "text": [
      "Response Label                       1         2         3\n",
      "Type                                                      \n",
      "list_answer_no_middle         1.000000  0.000000  0.000000\n",
      "list_answer_no_refusal        0.058824  0.000000  0.941176\n",
      "list_answer_options           0.000000  0.058824  0.941176\n",
      "list_answer_options_reversed  0.000000  0.000000  1.000000\n"
     ]
    }
   ],
   "source": [
    "# Frequency table for bias perturbations\n",
    "\n",
    "# Group by 'type' and 'response_label', then count the occurrences\n",
    "freq_table = test_interviews_mistral[(test_interviews_mistral[\"question_ID\"]== \"Q37\") & (test_interviews_mistral[\"bias_perturbation\"]== 1)].groupby(['Type', 'Response Label']).size().unstack(fill_value=0)\n",
    "\n",
    "# Convert absolute frequencies to relative frequencies by normalizing\n",
    "relative_freq_table = freq_table.div(freq_table.sum(axis=1), axis=0)\n",
    "\n",
    "# Display the relative frequency table\n",
    "print(relative_freq_table)"
   ]
  },
  {
   "cell_type": "code",
   "execution_count": null,
   "metadata": {},
   "outputs": [
    {
     "name": "stdout",
     "output_type": "stream",
     "text": [
      "Index([1, 2, 3], dtype='int32', name='Response Label')\n",
      "Number of observations:  136 \n",
      " Response Label    Strongly agree   2=Agree  3=Neither agree, nor disagree\n",
      "Type                                                                     \n",
      "Odd-Even Scales         1.000000  0.000000                       0.000000\n",
      "Opinion Floating        0.058824  0.000000                       0.941176\n",
      "Original                0.000000  0.058824                       0.941176\n",
      "Response Order          0.000000  0.000000                       1.000000\n",
      "Letter Swap             0.058824  0.000000                       0.941176\n",
      "Paraphrase              0.058824  0.000000                       0.941176\n",
      "Synonym                 0.000000  0.058824                       0.941176\n",
      "Typo                    0.058824  0.000000                       0.941176\n"
     ]
    }
   ],
   "source": [
    "# Frequency table for non-bias perturbations\n",
    "\n",
    "# Group by 'Type' and 'Response Label', then count the occurrences\n",
    "freq_table = test_interviews_mistral[(test_interviews_mistral[\"question_ID\"]== \"Q37\")].groupby(['Type', 'Response Label']).size().unstack(fill_value=0)\n",
    "n_obs = len(test_interviews_mistral[(test_interviews_mistral[\"question_ID\"]== \"Q37\")])\n",
    "# Convert absolute frequencies to relative frequencies by normalizing\n",
    "relative_freq_table = freq_table.div(freq_table.sum(axis=1), axis=0)\n",
    "\n",
    "print(relative_freq_table.columns)\n",
    "relative_freq_table = relative_freq_table.rename(columns={-1: \"Don't know\",\n",
    "                                                          1:\"Strongly agree\",\n",
    "                                                          2:\"2=Agree\",\n",
    "                                                          3: \"3=Neither agree, nor disagree\",\n",
    "                                                          4: \"4=Disagree\",\n",
    "                                                          5: \"5=Strongly disagree\"}, \n",
    "                                                 index={'list_answer_no_middle': 'Odd-Even Scales',\n",
    "                                                        \"list_answer_no_refusal\": \"Opinion Floating\",\n",
    "                                                        \"list_answer_options\": \"Original\",\n",
    "                                                        \"list_answer_options_reversed\": \"Response Order\",\n",
    "                                                        \"question_letter_swap\": \"Letter Swap\",\n",
    "                                                        \"question_paraphrased\": \"Paraphrase\",\n",
    "                                                        \"question_synonym\": \"Synonym\",\n",
    "                                                        \"question_typo\": \"Typo\"\n",
    "                                                        })\n",
    "# Display the relative frequency table\n",
    "print(\"Number of observations: \", n_obs, \"\\n\", relative_freq_table)"
   ]
  },
  {
   "cell_type": "code",
   "execution_count": null,
   "metadata": {},
   "outputs": [
    {
     "name": "stdout",
     "output_type": "stream",
     "text": [
      "\\begin{tabular}{lrrr}\n",
      "\\toprule\n",
      "Response Label & Strongly agree & 2=Agree & 3=Neither agree, nor disagree \\\\\n",
      "Type &  &  &  \\\\\n",
      "\\midrule\n",
      "Odd-Even Scales & 1.000000 & 0.000000 & 0.000000 \\\\\n",
      "Opinion Floating & 0.058824 & 0.000000 & 0.941176 \\\\\n",
      "Original & 0.000000 & 0.058824 & 0.941176 \\\\\n",
      "Response Order & 0.000000 & 0.000000 & 1.000000 \\\\\n",
      "Letter Swap & 0.058824 & 0.000000 & 0.941176 \\\\\n",
      "Paraphrase & 0.058824 & 0.000000 & 0.941176 \\\\\n",
      "Synonym & 0.000000 & 0.058824 & 0.941176 \\\\\n",
      "Typo & 0.058824 & 0.000000 & 0.941176 \\\\\n",
      "\\bottomrule\n",
      "\\end{tabular}\n",
      "\n"
     ]
    }
   ],
   "source": [
    "print(relative_freq_table.to_latex())"
   ]
  },
  {
   "cell_type": "markdown",
   "metadata": {},
   "source": [
    "#### Wilcoxon-Mann-Whitney test\n",
    "The Wilcoxon-Mann-Whitney test is a non-parametric analog to the independent samples t-test and can be used when you do not assume that the dependent variable is a normally distributed interval variable (you only assume that the variable is at least ordinal)"
   ]
  },
  {
   "cell_type": "code",
   "execution_count": null,
   "metadata": {},
   "outputs": [
    {
     "data": {
      "text/html": [
       "<div>\n",
       "<style scoped>\n",
       "    .dataframe tbody tr th:only-of-type {\n",
       "        vertical-align: middle;\n",
       "    }\n",
       "\n",
       "    .dataframe tbody tr th {\n",
       "        vertical-align: top;\n",
       "    }\n",
       "\n",
       "    .dataframe thead th {\n",
       "        text-align: right;\n",
       "    }\n",
       "</style>\n",
       "<table border=\"1\" class=\"dataframe\">\n",
       "  <thead>\n",
       "    <tr style=\"text-align: right;\">\n",
       "      <th></th>\n",
       "      <th>Original tested against</th>\n",
       "      <th>Test Statistic</th>\n",
       "      <th>p-value</th>\n",
       "    </tr>\n",
       "  </thead>\n",
       "  <tbody>\n",
       "    <tr>\n",
       "      <th>0</th>\n",
       "      <td>list_answer_no_refusal</td>\n",
       "      <td>145.0</td>\n",
       "      <td>1.0000</td>\n",
       "    </tr>\n",
       "    <tr>\n",
       "      <th>1</th>\n",
       "      <td>list_answer_no_middle</td>\n",
       "      <td>289.0</td>\n",
       "      <td>0.0000</td>\n",
       "    </tr>\n",
       "    <tr>\n",
       "      <th>2</th>\n",
       "      <td>list_answer_options_reversed</td>\n",
       "      <td>136.0</td>\n",
       "      <td>0.3466</td>\n",
       "    </tr>\n",
       "    <tr>\n",
       "      <th>3</th>\n",
       "      <td>question_typo</td>\n",
       "      <td>145.0</td>\n",
       "      <td>1.0000</td>\n",
       "    </tr>\n",
       "    <tr>\n",
       "      <th>4</th>\n",
       "      <td>question_letter_swap</td>\n",
       "      <td>145.0</td>\n",
       "      <td>1.0000</td>\n",
       "    </tr>\n",
       "    <tr>\n",
       "      <th>5</th>\n",
       "      <td>question_synonym</td>\n",
       "      <td>144.5</td>\n",
       "      <td>1.0000</td>\n",
       "    </tr>\n",
       "    <tr>\n",
       "      <th>6</th>\n",
       "      <td>question_paraphrased</td>\n",
       "      <td>145.0</td>\n",
       "      <td>1.0000</td>\n",
       "    </tr>\n",
       "  </tbody>\n",
       "</table>\n",
       "</div>"
      ],
      "text/plain": [
       "        Original tested against  Test Statistic  p-value\n",
       "0        list_answer_no_refusal           145.0   1.0000\n",
       "1         list_answer_no_middle           289.0   0.0000\n",
       "2  list_answer_options_reversed           136.0   0.3466\n",
       "3                 question_typo           145.0   1.0000\n",
       "4          question_letter_swap           145.0   1.0000\n",
       "5              question_synonym           144.5   1.0000\n",
       "6          question_paraphrased           145.0   1.0000"
      ]
     },
     "metadata": {},
     "output_type": "display_data"
    }
   ],
   "source": [
    "baseline = test_interviews_mistral[(test_interviews_mistral[\"question_ID\"]== \"Q37\") & (test_interviews_mistral[\"Type\"]== \"list_answer_options\")][\"Response Label\"].array\n",
    "\n",
    "test_results = []\n",
    "\n",
    "for i in all_perturbation_columns:\n",
    "    test_against = test_interviews_mistral[(test_interviews_mistral[\"question_ID\"]== \"Q37\") & (test_interviews_mistral[\"Type\"]== i)][\"Response Label\"].array\n",
    "    test_statistic = sci.stats.mannwhitneyu(baseline, test_against)[0]\n",
    "    pval = round(sci.stats.mannwhitneyu(baseline, test_against)[1],4)\n",
    "    test_result = [i, test_statistic, pval]\n",
    "    test_results.append(test_result)\n",
    "\n",
    "column_names = [\"Original tested against\", \"Test Statistic\", \"p-value\"]\n",
    "test_results = pd.DataFrame(test_results, columns=column_names)\n",
    "test_results"
   ]
  },
  {
   "cell_type": "code",
   "execution_count": null,
   "metadata": {},
   "outputs": [
    {
     "name": "stdout",
     "output_type": "stream",
     "text": [
      "\\begin{tabular}{llrr}\n",
      "\\toprule\n",
      " & Original tested against & Test Statistic & p-value \\\\\n",
      "\\midrule\n",
      "0 & list_answer_no_refusal & 145.000000 & 1.000000 \\\\\n",
      "1 & list_answer_no_middle & 289.000000 & 0.000000 \\\\\n",
      "2 & list_answer_options_reversed & 136.000000 & 0.346600 \\\\\n",
      "3 & question_typo & 145.000000 & 1.000000 \\\\\n",
      "4 & question_letter_swap & 145.000000 & 1.000000 \\\\\n",
      "5 & question_synonym & 144.500000 & 1.000000 \\\\\n",
      "6 & question_paraphrased & 145.000000 & 1.000000 \\\\\n",
      "\\bottomrule\n",
      "\\end{tabular}\n",
      "\n"
     ]
    }
   ],
   "source": [
    "print(test_results.to_latex())"
   ]
  },
  {
   "cell_type": "markdown",
   "metadata": {},
   "source": [
    "#### t-test\n",
    "\n",
    "This is a test for the null hypothesis that 2 independent samples have identical average (expected) values. This test assumes that the populations have identical variances by default."
   ]
  },
  {
   "cell_type": "code",
   "execution_count": null,
   "metadata": {},
   "outputs": [
    {
     "name": "stderr",
     "output_type": "stream",
     "text": [
      "c:\\Users\\ruppr\\OneDrive - Universität Mannheim\\Master thesis\\HuBiLa\\hubila\\Lib\\site-packages\\scipy\\stats\\_axis_nan_policy.py:573: RuntimeWarning: Precision loss occurred in moment calculation due to catastrophic cancellation. This occurs when the data are nearly identical. Results may be unreliable.\n",
      "  res = hypotest_fun_out(*samples, **kwds)\n"
     ]
    },
    {
     "data": {
      "text/html": [
       "<div>\n",
       "<style scoped>\n",
       "    .dataframe tbody tr th:only-of-type {\n",
       "        vertical-align: middle;\n",
       "    }\n",
       "\n",
       "    .dataframe tbody tr th {\n",
       "        vertical-align: top;\n",
       "    }\n",
       "\n",
       "    .dataframe thead th {\n",
       "        text-align: right;\n",
       "    }\n",
       "</style>\n",
       "<table border=\"1\" class=\"dataframe\">\n",
       "  <thead>\n",
       "    <tr style=\"text-align: right;\">\n",
       "      <th></th>\n",
       "      <th>Original tested against</th>\n",
       "      <th>Test Statistic</th>\n",
       "      <th>p-value</th>\n",
       "    </tr>\n",
       "  </thead>\n",
       "  <tbody>\n",
       "    <tr>\n",
       "      <th>0</th>\n",
       "      <td>list_answer_no_refusal</td>\n",
       "      <td>0.447214</td>\n",
       "      <td>0.6577</td>\n",
       "    </tr>\n",
       "    <tr>\n",
       "      <th>1</th>\n",
       "      <td>list_answer_no_middle</td>\n",
       "      <td>33.000000</td>\n",
       "      <td>0.0000</td>\n",
       "    </tr>\n",
       "    <tr>\n",
       "      <th>2</th>\n",
       "      <td>list_answer_options_reversed</td>\n",
       "      <td>-1.000000</td>\n",
       "      <td>0.3248</td>\n",
       "    </tr>\n",
       "    <tr>\n",
       "      <th>3</th>\n",
       "      <td>question_typo</td>\n",
       "      <td>0.447214</td>\n",
       "      <td>0.6577</td>\n",
       "    </tr>\n",
       "    <tr>\n",
       "      <th>4</th>\n",
       "      <td>question_letter_swap</td>\n",
       "      <td>0.447214</td>\n",
       "      <td>0.6577</td>\n",
       "    </tr>\n",
       "    <tr>\n",
       "      <th>5</th>\n",
       "      <td>question_synonym</td>\n",
       "      <td>0.000000</td>\n",
       "      <td>1.0000</td>\n",
       "    </tr>\n",
       "    <tr>\n",
       "      <th>6</th>\n",
       "      <td>question_paraphrased</td>\n",
       "      <td>0.447214</td>\n",
       "      <td>0.6577</td>\n",
       "    </tr>\n",
       "  </tbody>\n",
       "</table>\n",
       "</div>"
      ],
      "text/plain": [
       "        Original tested against  Test Statistic  p-value\n",
       "0        list_answer_no_refusal        0.447214   0.6577\n",
       "1         list_answer_no_middle       33.000000   0.0000\n",
       "2  list_answer_options_reversed       -1.000000   0.3248\n",
       "3                 question_typo        0.447214   0.6577\n",
       "4          question_letter_swap        0.447214   0.6577\n",
       "5              question_synonym        0.000000   1.0000\n",
       "6          question_paraphrased        0.447214   0.6577"
      ]
     },
     "metadata": {},
     "output_type": "display_data"
    }
   ],
   "source": [
    "baseline = test_interviews_mistral[(test_interviews_mistral[\"question_ID\"]== \"Q37\") & (test_interviews_mistral[\"Type\"]== \"list_answer_options\")][\"Response Label\"].array\n",
    "\n",
    "test_results = []\n",
    "\n",
    "for i in all_perturbation_columns:\n",
    "    test_against = test_interviews_mistral[(test_interviews_mistral[\"question_ID\"]== \"Q37\") & (test_interviews_mistral[\"Type\"]== i)][\"Response Label\"].array\n",
    "    test_statistic = sci.stats.ttest_ind(baseline, test_against)[0]\n",
    "    pval = round(sci.stats.ttest_ind(baseline, test_against)[1],4)\n",
    "    test_result = [i, test_statistic, pval]\n",
    "    test_results.append(test_result)\n",
    "\n",
    "column_names = [\"Original tested against\", \"Test Statistic\", \"p-value\"]\n",
    "test_results = pd.DataFrame(test_results, columns=column_names)\n",
    "test_results = test_results.rename(index={'list_answer_no_middle': 'Odd-Even Scales',\n",
    "                                                        \"list_answer_no_refusal\": \"Opinion Floating\",\n",
    "                                                        \"list_answer_options\": \"Original\",\n",
    "                                                        \"list_answer_options_reversed\": \"Response Order\",\n",
    "                                                        \"question_letter_swap\": \"Letter Swap\",\n",
    "                                                        \"question_paraphrased\": \"Paraphrase\",\n",
    "                                                        \"question_synonym\": \"Synonym\",\n",
    "                                                        \"question_typo\": \"Typo\"\n",
    "                                                        })\n",
    "test_results"
   ]
  },
  {
   "cell_type": "code",
   "execution_count": null,
   "metadata": {},
   "outputs": [
    {
     "name": "stdout",
     "output_type": "stream",
     "text": [
      "\\begin{tabular}{llrr}\n",
      "\\toprule\n",
      " & Original tested against & Test Statistic & p-value \\\\\n",
      "\\midrule\n",
      "0 & list_answer_no_refusal & 0.447214 & 0.657700 \\\\\n",
      "1 & list_answer_no_middle & 33.000000 & 0.000000 \\\\\n",
      "2 & list_answer_options_reversed & -1.000000 & 0.324800 \\\\\n",
      "3 & question_typo & 0.447214 & 0.657700 \\\\\n",
      "4 & question_letter_swap & 0.447214 & 0.657700 \\\\\n",
      "5 & question_synonym & 0.000000 & 1.000000 \\\\\n",
      "6 & question_paraphrased & 0.447214 & 0.657700 \\\\\n",
      "\\bottomrule\n",
      "\\end{tabular}\n",
      "\n"
     ]
    }
   ],
   "source": [
    "print(test_results.to_latex())"
   ]
  },
  {
   "cell_type": "markdown",
   "metadata": {},
   "source": [
    "#### Chi squared - test \n",
    "\n",
    "Pearson’s Chi-Square is a statistical hypothesis test for independence between categorical variables."
   ]
  },
  {
   "cell_type": "code",
   "execution_count": null,
   "metadata": {},
   "outputs": [
    {
     "data": {
      "text/html": [
       "<div>\n",
       "<style scoped>\n",
       "    .dataframe tbody tr th:only-of-type {\n",
       "        vertical-align: middle;\n",
       "    }\n",
       "\n",
       "    .dataframe tbody tr th {\n",
       "        vertical-align: top;\n",
       "    }\n",
       "\n",
       "    .dataframe thead th {\n",
       "        text-align: right;\n",
       "    }\n",
       "</style>\n",
       "<table border=\"1\" class=\"dataframe\">\n",
       "  <thead>\n",
       "    <tr style=\"text-align: right;\">\n",
       "      <th></th>\n",
       "      <th>Original tested against</th>\n",
       "      <th>Test Statistic</th>\n",
       "      <th>p-value</th>\n",
       "    </tr>\n",
       "  </thead>\n",
       "  <tbody>\n",
       "    <tr>\n",
       "      <th>0</th>\n",
       "      <td>list_answer_no_refusal</td>\n",
       "      <td>NaN</td>\n",
       "      <td>NaN</td>\n",
       "    </tr>\n",
       "    <tr>\n",
       "      <th>1</th>\n",
       "      <td>list_answer_no_middle</td>\n",
       "      <td>NaN</td>\n",
       "      <td>NaN</td>\n",
       "    </tr>\n",
       "    <tr>\n",
       "      <th>2</th>\n",
       "      <td>list_answer_options_reversed</td>\n",
       "      <td>NaN</td>\n",
       "      <td>NaN</td>\n",
       "    </tr>\n",
       "    <tr>\n",
       "      <th>3</th>\n",
       "      <td>question_typo</td>\n",
       "      <td>NaN</td>\n",
       "      <td>NaN</td>\n",
       "    </tr>\n",
       "    <tr>\n",
       "      <th>4</th>\n",
       "      <td>question_letter_swap</td>\n",
       "      <td>NaN</td>\n",
       "      <td>NaN</td>\n",
       "    </tr>\n",
       "    <tr>\n",
       "      <th>5</th>\n",
       "      <td>question_synonym</td>\n",
       "      <td>0.0</td>\n",
       "      <td>1.0</td>\n",
       "    </tr>\n",
       "    <tr>\n",
       "      <th>6</th>\n",
       "      <td>question_paraphrased</td>\n",
       "      <td>NaN</td>\n",
       "      <td>NaN</td>\n",
       "    </tr>\n",
       "  </tbody>\n",
       "</table>\n",
       "</div>"
      ],
      "text/plain": [
       "        Original tested against  Test Statistic  p-value\n",
       "0        list_answer_no_refusal             NaN      NaN\n",
       "1         list_answer_no_middle             NaN      NaN\n",
       "2  list_answer_options_reversed             NaN      NaN\n",
       "3                 question_typo             NaN      NaN\n",
       "4          question_letter_swap             NaN      NaN\n",
       "5              question_synonym             0.0      1.0\n",
       "6          question_paraphrased             NaN      NaN"
      ]
     },
     "metadata": {},
     "output_type": "display_data"
    }
   ],
   "source": [
    "baseline = test_interviews_mistral[(test_interviews_mistral[\"question_ID\"]== \"Q37\") & (test_interviews_mistral[\"Type\"]== \"list_answer_options\")][\"Response Label\"].array\n",
    "\n",
    "test_results = []\n",
    "\n",
    "for i in all_perturbation_columns:\n",
    "    test_against = test_interviews_mistral[(test_interviews_mistral[\"question_ID\"]== \"Q37\") & (test_interviews_mistral[\"Type\"]== i)][\"Response Label\"].array\n",
    "    try:\n",
    "        test_statistic = sci.stats.chisquare(f_exp=baseline, f_obs=test_against)[0]\n",
    "        pval = round(sci.stats.chisquare(f_exp=baseline, f_obs=test_against)[1],4)\n",
    "    except: \n",
    "        test_statistic = np.nan\n",
    "        pval = np.nan\n",
    "    test_result = [i, test_statistic, pval]\n",
    "    test_results.append(test_result)\n",
    "\n",
    "column_names = [\"Original tested against\", \"Test Statistic\", \"p-value\"]\n",
    "test_results = pd.DataFrame(test_results, columns=column_names)\n",
    "test_results"
   ]
  },
  {
   "cell_type": "code",
   "execution_count": null,
   "metadata": {},
   "outputs": [
    {
     "data": {
      "image/png": "[encoded data removed]",
      "text/plain": [
       "<Figure size 707.25x500 with 1 Axes>"
      ]
     },
     "metadata": {},
     "output_type": "display_data"
    }
   ],
   "source": [
    "bar = sns.displot(test_interviews_mistral[(test_interviews_mistral[\"question_ID\"]== \"Q37\") & (test_interviews_mistral[\"non_bias_perturbation\"]== 1)], \n",
    "                  x=\"Response Label\", hue=\"Type\", element=\"step\")"
   ]
  },
  {
   "cell_type": "markdown",
   "metadata": {},
   "source": [
    "### Q210: Joining Boycotts \n",
    "\n",
    "Question: Political action: joining in boycotts Now Ia like you to look at this card. Ia going to read out some different forms of political action that people can take, and Ia like you to tell me, for each one, whether you have actually done any of these things, whether you might do it or would never, under any circumstances, do it. Joining in boycotts\n",
    "\n",
    "Answer options: '1=Have done ', '2=Might do ', '3=Would never do', \"-1=Don't know\"\n"
   ]
  },
  {
   "cell_type": "code",
   "execution_count": null,
   "metadata": {},
   "outputs": [
    {
     "name": "stdout",
     "output_type": "stream",
     "text": [
      "Response Label               1         2\n",
      "Type                                    \n",
      "list_answer_options   1.000000  0.000000\n",
      "question_letter_swap  0.923077  0.076923\n",
      "question_paraphrased  1.000000  0.000000\n",
      "question_synonym      0.000000  1.000000\n",
      "question_typo         0.076923  0.923077\n"
     ]
    }
   ],
   "source": [
    "# Frequency table for non-bias perturbations\n",
    "\n",
    "# Group by 'Type' and 'response_label', then count the occurrences\n",
    "freq_table = test_interviews_mistral[(test_interviews_mistral[\"question_ID\"]== \"Q210\") & (test_interviews_mistral[\"non_bias_perturbation\"]== 1)].groupby(['Type', 'Response Label']).size().unstack(fill_value=0)\n",
    "\n",
    "# Convert absolute frequencies to relative frequencies by normalizing\n",
    "relative_freq_table = freq_table.div(freq_table.sum(axis=1), axis=0)\n",
    "\n",
    "# Display the relative frequency table\n",
    "print(relative_freq_table)"
   ]
  },
  {
   "cell_type": "code",
   "execution_count": null,
   "metadata": {},
   "outputs": [
    {
     "name": "stdout",
     "output_type": "stream",
     "text": [
      "Response Label                  1    2\n",
      "Type                                  \n",
      "list_answer_no_middle         1.0  0.0\n",
      "list_answer_no_refusal        1.0  0.0\n",
      "list_answer_options           1.0  0.0\n",
      "list_answer_options_reversed  0.0  1.0\n"
     ]
    }
   ],
   "source": [
    "# Frequency table for bias perturbations\n",
    "\n",
    "# Group by 'Type' and 'response_label', then count the occurrences\n",
    "freq_table = test_interviews_mistral[(test_interviews_mistral[\"question_ID\"]== \"Q210\") & (test_interviews_mistral[\"bias_perturbation\"]== 1)].groupby(['Type', 'Response Label']).size().unstack(fill_value=0)\n",
    "\n",
    "# Convert absolute frequencies to relative frequencies by normalizing\n",
    "relative_freq_table = freq_table.div(freq_table.sum(axis=1), axis=0)\n",
    "\n",
    "# Display the relative frequency table\n",
    "print(relative_freq_table)"
   ]
  },
  {
   "cell_type": "markdown",
   "metadata": {},
   "source": [
    "#### Wilcoxon-Mann-Whitney test\n",
    "The Wilcoxon-Mann-Whitney test is a non-parametric analog to the independent samples t-test and can be used when you do not assume that the dependent variable is a normally distributed interval variable (you only assume that the variable is at least ordinal)"
   ]
  },
  {
   "cell_type": "code",
   "execution_count": null,
   "metadata": {},
   "outputs": [
    {
     "data": {
      "text/html": [
       "<div>\n",
       "<style scoped>\n",
       "    .dataframe tbody tr th:only-of-type {\n",
       "        vertical-align: middle;\n",
       "    }\n",
       "\n",
       "    .dataframe tbody tr th {\n",
       "        vertical-align: top;\n",
       "    }\n",
       "\n",
       "    .dataframe thead th {\n",
       "        text-align: right;\n",
       "    }\n",
       "</style>\n",
       "<table border=\"1\" class=\"dataframe\">\n",
       "  <thead>\n",
       "    <tr style=\"text-align: right;\">\n",
       "      <th></th>\n",
       "      <th>Original tested against</th>\n",
       "      <th>Test Statistic</th>\n",
       "      <th>p-value</th>\n",
       "    </tr>\n",
       "  </thead>\n",
       "  <tbody>\n",
       "    <tr>\n",
       "      <th>0</th>\n",
       "      <td>list_answer_no_refusal</td>\n",
       "      <td>144.5</td>\n",
       "      <td>1.0000</td>\n",
       "    </tr>\n",
       "    <tr>\n",
       "      <th>1</th>\n",
       "      <td>list_answer_no_middle</td>\n",
       "      <td>144.5</td>\n",
       "      <td>1.0000</td>\n",
       "    </tr>\n",
       "    <tr>\n",
       "      <th>2</th>\n",
       "      <td>list_answer_options_reversed</td>\n",
       "      <td>0.0</td>\n",
       "      <td>0.0000</td>\n",
       "    </tr>\n",
       "    <tr>\n",
       "      <th>3</th>\n",
       "      <td>question_typo</td>\n",
       "      <td>8.5</td>\n",
       "      <td>0.0000</td>\n",
       "    </tr>\n",
       "    <tr>\n",
       "      <th>4</th>\n",
       "      <td>question_letter_swap</td>\n",
       "      <td>102.0</td>\n",
       "      <td>0.2818</td>\n",
       "    </tr>\n",
       "    <tr>\n",
       "      <th>5</th>\n",
       "      <td>question_synonym</td>\n",
       "      <td>0.0</td>\n",
       "      <td>0.0000</td>\n",
       "    </tr>\n",
       "    <tr>\n",
       "      <th>6</th>\n",
       "      <td>question_paraphrased</td>\n",
       "      <td>110.5</td>\n",
       "      <td>1.0000</td>\n",
       "    </tr>\n",
       "  </tbody>\n",
       "</table>\n",
       "</div>"
      ],
      "text/plain": [
       "        Original tested against  Test Statistic  p-value\n",
       "0        list_answer_no_refusal           144.5   1.0000\n",
       "1         list_answer_no_middle           144.5   1.0000\n",
       "2  list_answer_options_reversed             0.0   0.0000\n",
       "3                 question_typo             8.5   0.0000\n",
       "4          question_letter_swap           102.0   0.2818\n",
       "5              question_synonym             0.0   0.0000\n",
       "6          question_paraphrased           110.5   1.0000"
      ]
     },
     "metadata": {},
     "output_type": "display_data"
    }
   ],
   "source": [
    "baseline = test_interviews_mistral[(test_interviews_mistral[\"question_ID\"]== \"Q210\") & (test_interviews_mistral[\"Type\"]== \"list_answer_options\")][\"Response Label\"].array\n",
    "\n",
    "test_results = []\n",
    "\n",
    "for i in all_perturbation_columns:\n",
    "    test_against = test_interviews_mistral[(test_interviews_mistral[\"question_ID\"]== \"Q210\") & (test_interviews_mistral[\"Type\"]== i)][\"Response Label\"].array\n",
    "    test_statistic = sci.stats.mannwhitneyu(baseline, test_against)[0]\n",
    "    pval = round(sci.stats.mannwhitneyu(baseline, test_against)[1],4)\n",
    "    test_result = [i, test_statistic, pval]\n",
    "    test_results.append(test_result)\n",
    "\n",
    "column_names = [\"Original tested against\", \"Test Statistic\", \"p-value\"]\n",
    "test_results = pd.DataFrame(test_results, columns=column_names)\n",
    "test_results"
   ]
  },
  {
   "cell_type": "markdown",
   "metadata": {},
   "source": [
    "#### t-test\n",
    "\n",
    "This is a test for the null hypothesis that 2 independent samples have identical average (expected) values. This test assumes that the populations have identical variances by default."
   ]
  },
  {
   "cell_type": "code",
   "execution_count": null,
   "metadata": {},
   "outputs": [
    {
     "name": "stderr",
     "output_type": "stream",
     "text": [
      "c:\\Users\\ruppr\\OneDrive - Universität Mannheim\\Master thesis\\HuBiLa\\hubila\\Lib\\site-packages\\scipy\\stats\\_axis_nan_policy.py:573: RuntimeWarning: Precision loss occurred in moment calculation due to catastrophic cancellation. This occurs when the data are nearly identical. Results may be unreliable.\n",
      "  res = hypotest_fun_out(*samples, **kwds)\n"
     ]
    },
    {
     "data": {
      "text/html": [
       "<div>\n",
       "<style scoped>\n",
       "    .dataframe tbody tr th:only-of-type {\n",
       "        vertical-align: middle;\n",
       "    }\n",
       "\n",
       "    .dataframe tbody tr th {\n",
       "        vertical-align: top;\n",
       "    }\n",
       "\n",
       "    .dataframe thead th {\n",
       "        text-align: right;\n",
       "    }\n",
       "</style>\n",
       "<table border=\"1\" class=\"dataframe\">\n",
       "  <thead>\n",
       "    <tr style=\"text-align: right;\">\n",
       "      <th></th>\n",
       "      <th>Original tested against</th>\n",
       "      <th>Test Statistic</th>\n",
       "      <th>p-value</th>\n",
       "    </tr>\n",
       "  </thead>\n",
       "  <tbody>\n",
       "    <tr>\n",
       "      <th>0</th>\n",
       "      <td>list_answer_no_refusal</td>\n",
       "      <td>NaN</td>\n",
       "      <td>NaN</td>\n",
       "    </tr>\n",
       "    <tr>\n",
       "      <th>1</th>\n",
       "      <td>list_answer_no_middle</td>\n",
       "      <td>NaN</td>\n",
       "      <td>NaN</td>\n",
       "    </tr>\n",
       "    <tr>\n",
       "      <th>2</th>\n",
       "      <td>list_answer_options_reversed</td>\n",
       "      <td>-inf</td>\n",
       "      <td>0.0000</td>\n",
       "    </tr>\n",
       "    <tr>\n",
       "      <th>3</th>\n",
       "      <td>question_typo</td>\n",
       "      <td>-13.798551</td>\n",
       "      <td>0.0000</td>\n",
       "    </tr>\n",
       "    <tr>\n",
       "      <th>4</th>\n",
       "      <td>question_letter_swap</td>\n",
       "      <td>-1.149879</td>\n",
       "      <td>0.2599</td>\n",
       "    </tr>\n",
       "    <tr>\n",
       "      <th>5</th>\n",
       "      <td>question_synonym</td>\n",
       "      <td>-inf</td>\n",
       "      <td>0.0000</td>\n",
       "    </tr>\n",
       "    <tr>\n",
       "      <th>6</th>\n",
       "      <td>question_paraphrased</td>\n",
       "      <td>NaN</td>\n",
       "      <td>NaN</td>\n",
       "    </tr>\n",
       "  </tbody>\n",
       "</table>\n",
       "</div>"
      ],
      "text/plain": [
       "        Original tested against  Test Statistic  p-value\n",
       "0        list_answer_no_refusal             NaN      NaN\n",
       "1         list_answer_no_middle             NaN      NaN\n",
       "2  list_answer_options_reversed            -inf   0.0000\n",
       "3                 question_typo      -13.798551   0.0000\n",
       "4          question_letter_swap       -1.149879   0.2599\n",
       "5              question_synonym            -inf   0.0000\n",
       "6          question_paraphrased             NaN      NaN"
      ]
     },
     "metadata": {},
     "output_type": "display_data"
    }
   ],
   "source": [
    "baseline = test_interviews_mistral[(test_interviews_mistral[\"question_ID\"]== \"Q210\") & (test_interviews_mistral[\"Type\"]== \"list_answer_options\")][\"Response Label\"].array\n",
    "\n",
    "test_results = []\n",
    "\n",
    "for i in all_perturbation_columns:\n",
    "    test_against = test_interviews_mistral[(test_interviews_mistral[\"question_ID\"]== \"Q210\") & (test_interviews_mistral[\"Type\"]== i)][\"Response Label\"].array\n",
    "    test_statistic = sci.stats.ttest_ind(baseline, test_against)[0]\n",
    "    pval = round(sci.stats.ttest_ind(baseline, test_against)[1],4)\n",
    "    test_result = [i, test_statistic, pval]\n",
    "    test_results.append(test_result)\n",
    "\n",
    "column_names = [\"Original tested against\", \"Test Statistic\", \"p-value\"]\n",
    "test_results = pd.DataFrame(test_results, columns=column_names)\n",
    "test_results"
   ]
  },
  {
   "cell_type": "markdown",
   "metadata": {},
   "source": [
    "#### Chi squared - test \n",
    "\n",
    "Pearson’s Chi-Square is a statistical hypothesis test for independence between categorical variables."
   ]
  },
  {
   "cell_type": "code",
   "execution_count": null,
   "metadata": {},
   "outputs": [
    {
     "data": {
      "text/html": [
       "<div>\n",
       "<style scoped>\n",
       "    .dataframe tbody tr th:only-of-type {\n",
       "        vertical-align: middle;\n",
       "    }\n",
       "\n",
       "    .dataframe tbody tr th {\n",
       "        vertical-align: top;\n",
       "    }\n",
       "\n",
       "    .dataframe thead th {\n",
       "        text-align: right;\n",
       "    }\n",
       "</style>\n",
       "<table border=\"1\" class=\"dataframe\">\n",
       "  <thead>\n",
       "    <tr style=\"text-align: right;\">\n",
       "      <th></th>\n",
       "      <th>Original tested against</th>\n",
       "      <th>Test Statistic</th>\n",
       "      <th>p-value</th>\n",
       "    </tr>\n",
       "  </thead>\n",
       "  <tbody>\n",
       "    <tr>\n",
       "      <th>0</th>\n",
       "      <td>list_answer_no_refusal</td>\n",
       "      <td>0.0</td>\n",
       "      <td>1.0</td>\n",
       "    </tr>\n",
       "    <tr>\n",
       "      <th>1</th>\n",
       "      <td>list_answer_no_middle</td>\n",
       "      <td>0.0</td>\n",
       "      <td>1.0</td>\n",
       "    </tr>\n",
       "    <tr>\n",
       "      <th>2</th>\n",
       "      <td>list_answer_options_reversed</td>\n",
       "      <td>NaN</td>\n",
       "      <td>NaN</td>\n",
       "    </tr>\n",
       "    <tr>\n",
       "      <th>3</th>\n",
       "      <td>question_typo</td>\n",
       "      <td>NaN</td>\n",
       "      <td>NaN</td>\n",
       "    </tr>\n",
       "    <tr>\n",
       "      <th>4</th>\n",
       "      <td>question_letter_swap</td>\n",
       "      <td>NaN</td>\n",
       "      <td>NaN</td>\n",
       "    </tr>\n",
       "    <tr>\n",
       "      <th>5</th>\n",
       "      <td>question_synonym</td>\n",
       "      <td>NaN</td>\n",
       "      <td>NaN</td>\n",
       "    </tr>\n",
       "    <tr>\n",
       "      <th>6</th>\n",
       "      <td>question_paraphrased</td>\n",
       "      <td>NaN</td>\n",
       "      <td>NaN</td>\n",
       "    </tr>\n",
       "  </tbody>\n",
       "</table>\n",
       "</div>"
      ],
      "text/plain": [
       "        Original tested against  Test Statistic  p-value\n",
       "0        list_answer_no_refusal             0.0      1.0\n",
       "1         list_answer_no_middle             0.0      1.0\n",
       "2  list_answer_options_reversed             NaN      NaN\n",
       "3                 question_typo             NaN      NaN\n",
       "4          question_letter_swap             NaN      NaN\n",
       "5              question_synonym             NaN      NaN\n",
       "6          question_paraphrased             NaN      NaN"
      ]
     },
     "metadata": {},
     "output_type": "display_data"
    }
   ],
   "source": [
    "baseline = test_interviews_mistral[(test_interviews_mistral[\"question_ID\"]== \"Q210\") & (test_interviews_mistral[\"Type\"]== \"list_answer_options\")][\"Response Label\"].array\n",
    "\n",
    "test_results = []\n",
    "\n",
    "for i in all_perturbation_columns:\n",
    "    test_against = test_interviews_mistral[(test_interviews_mistral[\"question_ID\"]== \"Q210\") & (test_interviews_mistral[\"Type\"]== i)][\"Response Label\"].array\n",
    "    try:\n",
    "        test_statistic = sci.stats.chisquare(f_exp=baseline, f_obs=test_against)[0]\n",
    "        pval = round(sci.stats.chisquare(f_exp=baseline, f_obs=test_against)[1],4)\n",
    "    except: \n",
    "        test_statistic = np.nan\n",
    "        pval = np.nan\n",
    "    test_result = [i, test_statistic, pval]\n",
    "    test_results.append(test_result)\n",
    "\n",
    "column_names = [\"Original tested against\", \"Test Statistic\", \"p-value\"]\n",
    "test_results = pd.DataFrame(test_results, columns=column_names)\n",
    "test_results"
   ]
  },
  {
   "cell_type": "markdown",
   "metadata": {},
   "source": [
    "### Response label comparison (Opinion Floating)"
   ]
  },
  {
   "cell_type": "code",
   "execution_count": null,
   "metadata": {},
   "outputs": [
    {
     "name": "stdout",
     "output_type": "stream",
     "text": [
      "Response Label              1      2      3     5      6      7\n",
      "Type                                                           \n",
      "list_answer_no_refusal  0.642  0.179  0.099  0.00  0.074  0.006\n",
      "list_answer_options     0.531  0.191  0.198  0.08  0.000  0.000\n",
      "\\begin{tabular}{lrrrrrr}\n",
      "\\toprule\n",
      "Response Label & 1 & 2 & 3 & 5 & 6 & 7 \\\\\n",
      "Type &  &  &  &  &  &  \\\\\n",
      "\\midrule\n",
      "list_answer_no_refusal & 0.642000 & 0.179000 & 0.099000 & 0.000000 & 0.074000 & 0.006000 \\\\\n",
      "list_answer_options & 0.531000 & 0.191000 & 0.198000 & 0.080000 & 0.000000 & 0.000000 \\\\\n",
      "\\bottomrule\n",
      "\\end{tabular}\n",
      "\n"
     ]
    }
   ],
   "source": [
    "# Group by 'Type' and 'Response Label', then count the occurrences\n",
    "freq_table = test_interviews_mistral[#(gemini_tmp00[\"question_ID\"]== \"Q37\") &\n",
    "                          (test_interviews_mistral[\"Type\"] == \"list_answer_options\") |\n",
    "                          #(gemini_tmp00[\"question_ID\"]== \"Q37\") &\n",
    "                          (test_interviews_mistral[\"Type\"] == \"list_answer_no_refusal\")].groupby(['Type', 'Response Label']).size().unstack(fill_value=0)\n",
    "\n",
    "# Convert absolute frequencies to relative frequencies by normalizing\n",
    "relative_freq_table = round(freq_table.div(freq_table.sum(axis=1), axis=0),3)\n",
    "\n",
    "# Display the relative frequency table\n",
    "print(relative_freq_table)\n",
    "print(relative_freq_table.to_latex())"
   ]
  }
 ],
 "metadata": {
  "language_info": {
   "name": "python"
  }
 },
 "nbformat": 4,
 "nbformat_minor": 2
}
